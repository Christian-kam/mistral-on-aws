{
 "cells": [
  {
   "cell_type": "code",
   "execution_count": 32,
   "id": "29080424",
   "metadata": {},
   "outputs": [],
   "source": [
    "import boto3\n",
    "import sagemaker\n",
    "import json\n",
    "import httpx\n",
    "import base64\n",
    "from io import BytesIO\n",
    "from typing import Dict, Any\n",
    "from sagemaker import ModelPackage\n",
    "from IPython.display import Markdown\n",
    "\n",
    "import time\n",
    "import concurrent.futures\n",
    "import requests\n",
    "from tqdm import tqdm"
   ]
  },
  {
   "cell_type": "markdown",
   "id": "ce09cf07",
   "metadata": {},
   "source": [
    "# Mistral OCR SageMaker Deployment\n",
    "\n",
    "This notebook demonstrates how to deploy the Mistral OCR model to an Amazon SageMaker endpoint for real-time inference.\n",
    "\n",
    "## Supported Instance Types\n",
    "\n",
    "The Mistral OCR model requires GPU instances. The following instance types are supported:\n",
    "\n",
    "### Quota increase via auto approval (Almost immediately approved)\n",
    "- `ml.g6.2xlarge`\n",
    "- `ml.g6.4xlarge`\n",
    "- `ml.g6.8xlarge`\n",
    "- `ml.g6.16xlarge`\n",
    "\n",
    "### Quota increase via support ticket (May take a few days)\n",
    "- `ml.g6e.xlarge`\n",
    "- `ml.g6e.2xlarge`\n",
    "- `ml.g6e.4xlarge`\n",
    "- `ml.g6e.8xlarge`\n",
    "- `ml.g6e.16xlarge`"
   ]
  },
  {
   "cell_type": "markdown",
   "id": "b44319f4",
   "metadata": {},
   "source": [
    "## Configuration Parameters\n",
    "\n",
    "Before running this notebook, you need to configure the following parameters:\n",
    "\n",
    "| Parameter | Description | Example |\n",
    "|-----------|-------------|---------|\n",
    "| `MISTRAL_OCR_MODEL_PACKAGE_ARN` | The Amazon Resource Name (ARN) of the Mistral OCR model package from AWS Marketplace (Product ARN) | `arn:aws:sagemaker:us-west-2:123456789012:model-package/...` |\n",
    "| `MISTRAL_OCR_MODEL_CONFIG_INSTANCE_TYPE` | The EC2 instance type to host the model (see supported types above) | `ml.g6.4xlarge` |\n",
    "| `SAGEMAKER_EXECUTION_ROLE_ARN` | IAM role ARN with permissions to create and invoke SageMaker endpoints | `arn:aws:iam::123456789012:role/SageMakerExecutionRole` |\n",
    "| `MISTRAL_OCR_ENDPOINT_NAME` | A unique name for your SageMaker endpoint | `mistral-ocr-endpoint` |\n",
    "\n",
    "❗You can find the product ARN from the AWS Marketplace product detail page. Select the region you want to deploy the model first, then you will have the correct product ARN in that region.\n",
    "\n",
    "<div style=\"background-color: #fff3cd; border-left: 6px solid #ffeb3b; padding: 10px;\">\n",
    "<strong>Note:</strong> Please contact the AWS 3P MP team to gain model access for your customer. Once the access is provided, you can search \"Mistral OCR\" on AWS Marketplace to subscribe to this model. \n",
    "<br><br>\n",
    "You can find the product ARN from the AWS Marketplace product detail page. Select the region you want to deploy the model first, then you will have the correct product ARN in that region.\n",
    "</div>\n",
    "\n",
    "### Required IAM Permissions\n",
    "\n",
    "The IAM role specified in `SAGEMAKER_EXECUTION_ROLE_ARN` should have the following policies attached:\n",
    "- `AmazonSageMakerFullAccess`\n",
    "- S3 read/write access to model artifacts\n",
    "- CloudWatch Logs access for endpoint logging"
   ]
  },
  {
   "cell_type": "markdown",
   "id": "588e9743",
   "metadata": {},
   "source": []
  },
  {
   "cell_type": "code",
   "execution_count": null,
   "id": "76034f32",
   "metadata": {},
   "outputs": [],
   "source": [
    "MISTRAL_OCR_MODEL_PACKAGE_ARN = \"<MISTRAL_OCR_MODEL_PACKAGE_ARN>\" \n",
    "MISTRAL_OCR_MODEL_CONFIG_INSTANCE_TYPE = \"ml.g6.4xlarge\" \n",
    "SAGEMAKER_EXECUTION_ROLE_ARN = \"<SAGEMAKER_EXECUTION_ROLE_ARN>\" "
   ]
  },
  {
   "cell_type": "markdown",
   "id": "02c03e29",
   "metadata": {},
   "source": [
    "## Real-time Inference Endpoint Deployment\n",
    "\n",
    "This section demonstrates how to deploy Mistral OCR as a real-time inference endpoint on SageMaker. \n",
    "\n",
    "### Deployment Steps:\n",
    "1. Create a ModelPackage object from the Marketplace ARN\n",
    "2. Deploy the model to a SageMaker endpoint \n",
    "3. Configure auto-scaling to optimize cost and performance"
   ]
  },
  {
   "cell_type": "code",
   "execution_count": null,
   "id": "2db0f73d",
   "metadata": {},
   "outputs": [],
   "source": [
    "from sagemaker.compute_resource_requirements.resource_requirements import ResourceRequirements\n",
    "\n",
    "MISTRAL_OCR_ENDPOINT_NAME = \"mistral-ocr-real-time-endpoint-1\" # provide an unique endpoint name\n",
    "\n",
    "session = sagemaker.Session()\n",
    "role = SAGEMAKER_EXECUTION_ROLE_ARN\n",
    "model_package = ModelPackage(\n",
    "    role=role,\n",
    "    model_package_arn=MISTRAL_OCR_MODEL_PACKAGE_ARN,\n",
    "    sagemaker_session=session\n",
    ")\n",
    "\n",
    "# Deploy the model\n",
    "model = model_package.deploy(\n",
    "    initial_instance_count=1,\n",
    "    instance_type=MISTRAL_OCR_MODEL_CONFIG_INSTANCE_TYPE,\n",
    "    endpoint_name=MISTRAL_OCR_ENDPOINT_NAME,\n",
    "    model_data_download_timeout=3600,\n",
    "    container_startup_health_check_timeout=3600\n",
    "    )"
   ]
  },
  {
   "cell_type": "code",
   "execution_count": null,
   "id": "68b7acb5",
   "metadata": {},
   "outputs": [],
   "source": [
    "# Auto-Scaling Configuration\n",
    "\n",
    "# Configure auto-scaling to handle variable traffic patterns\n",
    "# Note: Below endpoints cannot scale to zero instances. Inference component doesn't support model package from MarketPlace\n",
    "client = session.boto_session.client('application-autoscaling')\n",
    "\n",
    "# For traditional endpoints.  \n",
    "resource_id = f'endpoint/{MISTRAL_OCR_ENDPOINT_NAME}/variant/AllTraffic'\n",
    "scalable_dimension = 'sagemaker:variant:DesiredInstanceCount'\n",
    "\n",
    "# Register the endpoint as a scalable target\n",
    "client.register_scalable_target(\n",
    "    ServiceNamespace='sagemaker',\n",
    "    ResourceId=resource_id,\n",
    "    ScalableDimension=scalable_dimension,\n",
    "    MinCapacity=1,  # Minimum 1 instance required \n",
    "    MaxCapacity=5   # Maximum 5 instances - adjust based on your expected traffic\n",
    ")\n",
    "\n",
    "# Configure scaling policy based on invocation count\n",
    "client.put_scaling_policy(\n",
    "    ServiceNamespace='sagemaker',\n",
    "    ResourceId=resource_id,\n",
    "    ScalableDimension=scalable_dimension,\n",
    "    PolicyName=f'{MISTRAL_OCR_ENDPOINT_NAME}-scaling-policy',\n",
    "    PolicyType='TargetTrackingScaling',\n",
    "    TargetTrackingScalingPolicyConfiguration={\n",
    "        'TargetValue': 5.0,  # Target 5 invocations per instance\n",
    "        'PredefinedMetricSpecification': {\n",
    "            'PredefinedMetricType': 'SageMakerVariantInvocationsPerInstance', \n",
    "        },\n",
    "        'ScaleInCooldown': 300,  # Wait 5 minutes before scaling in (reduced from 30 to 300 seconds)\n",
    "        'ScaleOutCooldown': 60,   # Wait 1 minute before scaling out (changed from 30 to 60 seconds)\n",
    "        'DisableScaleIn': False    # Enable scale-in to minimum capacity\n",
    "    }\n",
    ")"
   ]
  },
  {
   "cell_type": "code",
   "execution_count": null,
   "id": "425cf4dd",
   "metadata": {},
   "outputs": [],
   "source": [
    "def run_inference(client, endpoint_name: str, payload: dict[str,Any]) -> Dict[str, Any]:\n",
    "    \"\"\"\n",
    "    Invoke the SageMaker endpoint for OCR inference.\n",
    "    \n",
    "    Args:\n",
    "        client: SageMaker runtime client\n",
    "        endpoint_name: Name of the deployed endpoint\n",
    "        payload: JSON payload containing the image data\n",
    "        \n",
    "    Returns:\n",
    "        Dictionary containing parsed OCR results\n",
    "    \"\"\"\n",
    "    try:\n",
    "        inference_out = client.invoke_endpoint(\n",
    "            EndpointName=endpoint_name,\n",
    "            ContentType=\"application/json\",\n",
    "            Body=json.dumps(payload)\n",
    "        )\n",
    "        inference_resp_str = inference_out[\"Body\"].read().decode(\"utf-8\")\n",
    "        return json.loads(inference_resp_str)\n",
    "    except Exception as e:\n",
    "        print(f\"Inference error: {e}\")\n",
    "        raise\n",
    "\n",
    "def download_and_encode_image(url: str) -> str:\n",
    "    \"\"\"\n",
    "    Download an image from a URL and encode it as base64.\n",
    "    \n",
    "    Args:\n",
    "        url: URL of the image to download\n",
    "        \n",
    "    Returns:\n",
    "        Base64-encoded image string\n",
    "    \"\"\"\n",
    "    try:\n",
    "        # Send a GET request to the URL\n",
    "        with httpx.Client() as client:\n",
    "            response = client.get(url, timeout=10)\n",
    "            response.raise_for_status()  # Raise an exception for HTTP errors\n",
    "        # Encode the image content to base64\n",
    "        image_data = response.content\n",
    "        base64_encoded_data = base64.b64encode(image_data).decode('utf-8')\n",
    "        return base64_encoded_data\n",
    "    except httpx.HTTPStatusError as exc:\n",
    "        print(f\"Error response {exc.response.status_code} while requesting {exc.request.url}\")\n",
    "        raise\n",
    "    except httpx.RequestException as e:\n",
    "        print(f\"Error downloading image: {e}\")\n",
    "        raise"
   ]
  },
  {
   "cell_type": "code",
   "execution_count": null,
   "id": "0efeda6c",
   "metadata": {},
   "outputs": [],
   "source": [
    "# Single image Inference Test\n",
    "\n",
    "# Download sample receipt image and encode as base64\n",
    "receipt_image_url = \"https://cms.mistral.ai/assets/1d7df1b8-5caa-47b9-b6a1-666b05d38019\"\n",
    "receipt_image_b64 = download_and_encode_image(url=receipt_image_url)\n",
    "\n",
    "# Prepare the payload for Mistral OCR model\n",
    "payload = {\n",
    "    \"model\": \"mistral-ocr-2505\",\n",
    "    \"document\": {\n",
    "        \"type\": \"image_url\",\n",
    "        \"image_url\": f\"data:image/jpeg;base64,{receipt_image_b64}\"\n",
    "    }\n",
    "}\n",
    "\n",
    "# Create a client and invoke the endpoint\n",
    "sagemaker_client = boto3.client(\"sagemaker-runtime\")\n",
    "receipt_parsed = run_inference(client=sagemaker_client, endpoint_name=MISTRAL_OCR_ENDPOINT_NAME, payload=payload)\n",
    "\n",
    "# Display the OCR results in markdown format\n",
    "Markdown(receipt_parsed[\"pages\"][0][\"markdown\"])"
   ]
  },
  {
   "cell_type": "code",
   "execution_count": 39,
   "id": "f731d9d8",
   "metadata": {},
   "outputs": [
    {
     "name": "stdout",
     "output_type": "stream",
     "text": [
      "\n",
      "=== Testing with 5 concurrent requests ===\n",
      "Downloading and encoding image from https://cms.mistral.ai/assets/1d7df1b8-5caa-47b9-b6a1-666b05d38019...\n"
     ]
    },
    {
     "data": {
      "text/html": [
       "<pre style=\"white-space:pre;overflow-x:auto;line-height:normal;font-family:Menlo,'DejaVu Sans Mono',consolas,'Courier New',monospace\"><span style=\"color: #7fbfbf; text-decoration-color: #7fbfbf\">[05/23/25 16:36:02] </span><span style=\"color: #0069ff; text-decoration-color: #0069ff; font-weight: bold\">INFO    </span> HTTP Request: <span style=\"color: #d7af00; text-decoration-color: #d7af00; font-weight: bold\">GET</span>                                                      <a href=\"file:///Users/hoying/miniconda3/envs/3p-model/lib/python3.12/site-packages/httpx/_client.py\" target=\"_blank\"><span style=\"color: #7f7f7f; text-decoration-color: #7f7f7f\">_client.py</span></a><span style=\"color: #7f7f7f; text-decoration-color: #7f7f7f\">:</span><a href=\"file:///Users/hoying/miniconda3/envs/3p-model/lib/python3.12/site-packages/httpx/_client.py#1025\" target=\"_blank\"><span style=\"color: #7f7f7f; text-decoration-color: #7f7f7f\">1025</span></a>\n",
       "<span style=\"color: #7fbfbf; text-decoration-color: #7fbfbf\">                    </span>         <span style=\"color: #0069ff; text-decoration-color: #0069ff; text-decoration: underline\">https://cms.mistral.ai/assets/1d7df1b8-5caa-47b9-b6a1-666b05d38019</span>     <span style=\"color: #7f7f7f; text-decoration-color: #7f7f7f\">               </span>\n",
       "<span style=\"color: #7fbfbf; text-decoration-color: #7fbfbf\">                    </span>         <span style=\"color: #008700; text-decoration-color: #008700\">\"HTTP/1.1 200 OK\"</span>                                                      <span style=\"color: #7f7f7f; text-decoration-color: #7f7f7f\">               </span>\n",
       "</pre>\n"
      ],
      "text/plain": [
       "\u001b[2;36m[05/23/25 16:36:02]\u001b[0m\u001b[2;36m \u001b[0m\u001b[1;38;2;0;105;255mINFO    \u001b[0m HTTP Request: \u001b[1;38;2;215;175;0mGET\u001b[0m                                                      \u001b]8;id=786577;file:///Users/hoying/miniconda3/envs/3p-model/lib/python3.12/site-packages/httpx/_client.py\u001b\\\u001b[2m_client.py\u001b[0m\u001b]8;;\u001b\\\u001b[2m:\u001b[0m\u001b]8;id=614259;file:///Users/hoying/miniconda3/envs/3p-model/lib/python3.12/site-packages/httpx/_client.py#1025\u001b\\\u001b[2m1025\u001b[0m\u001b]8;;\u001b\\\n",
       "\u001b[2;36m                    \u001b[0m         \u001b[4;38;2;0;105;255mhttps://cms.mistral.ai/assets/1d7df1b8-5caa-47b9-b6a1-666b05d38019\u001b[0m     \u001b[2m               \u001b[0m\n",
       "\u001b[2;36m                    \u001b[0m         \u001b[38;2;0;135;0m\"HTTP/1.1 200 OK\"\u001b[0m                                                      \u001b[2m               \u001b[0m\n"
      ]
     },
     "metadata": {},
     "output_type": "display_data"
    },
    {
     "name": "stdout",
     "output_type": "stream",
     "text": [
      "Starting stress test - sending 20 requests to mistral-ocr-notebook-endpoint-4...\n"
     ]
    },
    {
     "name": "stderr",
     "output_type": "stream",
     "text": [
      "100%|██████████| 20/20 [00:30<00:00,  1.55s/it]"
     ]
    },
    {
     "name": "stdout",
     "output_type": "stream",
     "text": [
      "\n",
      "Stress Test Results:\n",
      "Total requests: 20\n",
      "Successful: 20 (100.0%)\n",
      "Failed: 0 (0.0%)\n",
      "Total time: 31.13 seconds\n",
      "Throughput: 0.64 requests/second\n",
      "\n",
      "=== Testing with 10 concurrent requests ===\n",
      "Downloading and encoding image from https://cms.mistral.ai/assets/1d7df1b8-5caa-47b9-b6a1-666b05d38019...\n"
     ]
    },
    {
     "name": "stderr",
     "output_type": "stream",
     "text": [
      "\n"
     ]
    },
    {
     "data": {
      "text/html": [
       "<pre style=\"white-space:pre;overflow-x:auto;line-height:normal;font-family:Menlo,'DejaVu Sans Mono',consolas,'Courier New',monospace\"><span style=\"color: #7fbfbf; text-decoration-color: #7fbfbf\">[05/23/25 16:36:33] </span><span style=\"color: #0069ff; text-decoration-color: #0069ff; font-weight: bold\">INFO    </span> HTTP Request: <span style=\"color: #d7af00; text-decoration-color: #d7af00; font-weight: bold\">GET</span>                                                      <a href=\"file:///Users/hoying/miniconda3/envs/3p-model/lib/python3.12/site-packages/httpx/_client.py\" target=\"_blank\"><span style=\"color: #7f7f7f; text-decoration-color: #7f7f7f\">_client.py</span></a><span style=\"color: #7f7f7f; text-decoration-color: #7f7f7f\">:</span><a href=\"file:///Users/hoying/miniconda3/envs/3p-model/lib/python3.12/site-packages/httpx/_client.py#1025\" target=\"_blank\"><span style=\"color: #7f7f7f; text-decoration-color: #7f7f7f\">1025</span></a>\n",
       "<span style=\"color: #7fbfbf; text-decoration-color: #7fbfbf\">                    </span>         <span style=\"color: #0069ff; text-decoration-color: #0069ff; text-decoration: underline\">https://cms.mistral.ai/assets/1d7df1b8-5caa-47b9-b6a1-666b05d38019</span>     <span style=\"color: #7f7f7f; text-decoration-color: #7f7f7f\">               </span>\n",
       "<span style=\"color: #7fbfbf; text-decoration-color: #7fbfbf\">                    </span>         <span style=\"color: #008700; text-decoration-color: #008700\">\"HTTP/1.1 200 OK\"</span>                                                      <span style=\"color: #7f7f7f; text-decoration-color: #7f7f7f\">               </span>\n",
       "</pre>\n"
      ],
      "text/plain": [
       "\u001b[2;36m[05/23/25 16:36:33]\u001b[0m\u001b[2;36m \u001b[0m\u001b[1;38;2;0;105;255mINFO    \u001b[0m HTTP Request: \u001b[1;38;2;215;175;0mGET\u001b[0m                                                      \u001b]8;id=94268;file:///Users/hoying/miniconda3/envs/3p-model/lib/python3.12/site-packages/httpx/_client.py\u001b\\\u001b[2m_client.py\u001b[0m\u001b]8;;\u001b\\\u001b[2m:\u001b[0m\u001b]8;id=993989;file:///Users/hoying/miniconda3/envs/3p-model/lib/python3.12/site-packages/httpx/_client.py#1025\u001b\\\u001b[2m1025\u001b[0m\u001b]8;;\u001b\\\n",
       "\u001b[2;36m                    \u001b[0m         \u001b[4;38;2;0;105;255mhttps://cms.mistral.ai/assets/1d7df1b8-5caa-47b9-b6a1-666b05d38019\u001b[0m     \u001b[2m               \u001b[0m\n",
       "\u001b[2;36m                    \u001b[0m         \u001b[38;2;0;135;0m\"HTTP/1.1 200 OK\"\u001b[0m                                                      \u001b[2m               \u001b[0m\n"
      ]
     },
     "metadata": {},
     "output_type": "display_data"
    },
    {
     "name": "stdout",
     "output_type": "stream",
     "text": [
      "Starting stress test - sending 20 requests to mistral-ocr-notebook-endpoint-4...\n"
     ]
    },
    {
     "name": "stderr",
     "output_type": "stream",
     "text": [
      "100%|██████████| 20/20 [00:22<00:00,  1.13s/it]"
     ]
    },
    {
     "name": "stdout",
     "output_type": "stream",
     "text": [
      "\n",
      "Stress Test Results:\n",
      "Total requests: 20\n",
      "Successful: 20 (100.0%)\n",
      "Failed: 0 (0.0%)\n",
      "Total time: 22.88 seconds\n",
      "Throughput: 0.87 requests/second\n",
      "\n",
      "=== Testing with 20 concurrent requests ===\n",
      "Downloading and encoding image from https://cms.mistral.ai/assets/1d7df1b8-5caa-47b9-b6a1-666b05d38019...\n"
     ]
    },
    {
     "name": "stderr",
     "output_type": "stream",
     "text": [
      "\n"
     ]
    },
    {
     "data": {
      "text/html": [
       "<pre style=\"white-space:pre;overflow-x:auto;line-height:normal;font-family:Menlo,'DejaVu Sans Mono',consolas,'Courier New',monospace\"><span style=\"color: #7fbfbf; text-decoration-color: #7fbfbf\">[05/23/25 16:36:56] </span><span style=\"color: #0069ff; text-decoration-color: #0069ff; font-weight: bold\">INFO    </span> HTTP Request: <span style=\"color: #d7af00; text-decoration-color: #d7af00; font-weight: bold\">GET</span>                                                      <a href=\"file:///Users/hoying/miniconda3/envs/3p-model/lib/python3.12/site-packages/httpx/_client.py\" target=\"_blank\"><span style=\"color: #7f7f7f; text-decoration-color: #7f7f7f\">_client.py</span></a><span style=\"color: #7f7f7f; text-decoration-color: #7f7f7f\">:</span><a href=\"file:///Users/hoying/miniconda3/envs/3p-model/lib/python3.12/site-packages/httpx/_client.py#1025\" target=\"_blank\"><span style=\"color: #7f7f7f; text-decoration-color: #7f7f7f\">1025</span></a>\n",
       "<span style=\"color: #7fbfbf; text-decoration-color: #7fbfbf\">                    </span>         <span style=\"color: #0069ff; text-decoration-color: #0069ff; text-decoration: underline\">https://cms.mistral.ai/assets/1d7df1b8-5caa-47b9-b6a1-666b05d38019</span>     <span style=\"color: #7f7f7f; text-decoration-color: #7f7f7f\">               </span>\n",
       "<span style=\"color: #7fbfbf; text-decoration-color: #7fbfbf\">                    </span>         <span style=\"color: #008700; text-decoration-color: #008700\">\"HTTP/1.1 200 OK\"</span>                                                      <span style=\"color: #7f7f7f; text-decoration-color: #7f7f7f\">               </span>\n",
       "</pre>\n"
      ],
      "text/plain": [
       "\u001b[2;36m[05/23/25 16:36:56]\u001b[0m\u001b[2;36m \u001b[0m\u001b[1;38;2;0;105;255mINFO    \u001b[0m HTTP Request: \u001b[1;38;2;215;175;0mGET\u001b[0m                                                      \u001b]8;id=569714;file:///Users/hoying/miniconda3/envs/3p-model/lib/python3.12/site-packages/httpx/_client.py\u001b\\\u001b[2m_client.py\u001b[0m\u001b]8;;\u001b\\\u001b[2m:\u001b[0m\u001b]8;id=735541;file:///Users/hoying/miniconda3/envs/3p-model/lib/python3.12/site-packages/httpx/_client.py#1025\u001b\\\u001b[2m1025\u001b[0m\u001b]8;;\u001b\\\n",
       "\u001b[2;36m                    \u001b[0m         \u001b[4;38;2;0;105;255mhttps://cms.mistral.ai/assets/1d7df1b8-5caa-47b9-b6a1-666b05d38019\u001b[0m     \u001b[2m               \u001b[0m\n",
       "\u001b[2;36m                    \u001b[0m         \u001b[38;2;0;135;0m\"HTTP/1.1 200 OK\"\u001b[0m                                                      \u001b[2m               \u001b[0m\n"
      ]
     },
     "metadata": {},
     "output_type": "display_data"
    },
    {
     "name": "stdout",
     "output_type": "stream",
     "text": [
      "Starting stress test - sending 20 requests to mistral-ocr-notebook-endpoint-4...\n"
     ]
    },
    {
     "name": "stderr",
     "output_type": "stream",
     "text": [
      " 20%|██        | 4/20 [00:19<00:46,  2.90s/it]"
     ]
    },
    {
     "data": {
      "text/html": [
       "<pre style=\"white-space:pre;overflow-x:auto;line-height:normal;font-family:Menlo,'DejaVu Sans Mono',consolas,'Courier New',monospace\"><span style=\"color: #7fbfbf; text-decoration-color: #7fbfbf\">[05/23/25 16:37:17] </span><span style=\"color: #d7af00; text-decoration-color: #d7af00; font-weight: bold\">WARNING </span> Connection pool is full, discarding connection:                  <a href=\"file:///Users/hoying/miniconda3/envs/3p-model/lib/python3.12/site-packages/urllib3/connectionpool.py\" target=\"_blank\"><span style=\"color: #7f7f7f; text-decoration-color: #7f7f7f\">connectionpool.py</span></a><span style=\"color: #7f7f7f; text-decoration-color: #7f7f7f\">:</span><a href=\"file:///Users/hoying/miniconda3/envs/3p-model/lib/python3.12/site-packages/urllib3/connectionpool.py#327\" target=\"_blank\"><span style=\"color: #7f7f7f; text-decoration-color: #7f7f7f\">327</span></a>\n",
       "<span style=\"color: #7fbfbf; text-decoration-color: #7fbfbf\">                    </span>         runtime.sagemaker.us-west-<span style=\"color: #008080; text-decoration-color: #008080; font-weight: bold\">2.</span>amazonaws.com. Connection pool size: <span style=\"color: #7f7f7f; text-decoration-color: #7f7f7f\">                     </span>\n",
       "<span style=\"color: #7fbfbf; text-decoration-color: #7fbfbf\">                    </span>         <span style=\"color: #008080; text-decoration-color: #008080; font-weight: bold\">10</span>                                                               <span style=\"color: #7f7f7f; text-decoration-color: #7f7f7f\">                     </span>\n",
       "</pre>\n"
      ],
      "text/plain": [
       "\u001b[2;36m[05/23/25 16:37:17]\u001b[0m\u001b[2;36m \u001b[0m\u001b[1;38;2;215;175;0mWARNING \u001b[0m Connection pool is full, discarding connection:                  \u001b]8;id=959732;file:///Users/hoying/miniconda3/envs/3p-model/lib/python3.12/site-packages/urllib3/connectionpool.py\u001b\\\u001b[2mconnectionpool.py\u001b[0m\u001b]8;;\u001b\\\u001b[2m:\u001b[0m\u001b]8;id=15624;file:///Users/hoying/miniconda3/envs/3p-model/lib/python3.12/site-packages/urllib3/connectionpool.py#327\u001b\\\u001b[2m327\u001b[0m\u001b]8;;\u001b\\\n",
       "\u001b[2;36m                    \u001b[0m         runtime.sagemaker.us-west-\u001b[1;36m2.\u001b[0mamazonaws.com. Connection pool size: \u001b[2m                     \u001b[0m\n",
       "\u001b[2;36m                    \u001b[0m         \u001b[1;36m10\u001b[0m                                                               \u001b[2m                     \u001b[0m\n"
      ]
     },
     "metadata": {},
     "output_type": "display_data"
    },
    {
     "data": {
      "text/html": [
       "<pre style=\"white-space:pre;overflow-x:auto;line-height:normal;font-family:Menlo,'DejaVu Sans Mono',consolas,'Courier New',monospace\"><span style=\"color: #7fbfbf; text-decoration-color: #7fbfbf\">                    </span><span style=\"color: #d7af00; text-decoration-color: #d7af00; font-weight: bold\">WARNING </span> Connection pool is full, discarding connection:                  <a href=\"file:///Users/hoying/miniconda3/envs/3p-model/lib/python3.12/site-packages/urllib3/connectionpool.py\" target=\"_blank\"><span style=\"color: #7f7f7f; text-decoration-color: #7f7f7f\">connectionpool.py</span></a><span style=\"color: #7f7f7f; text-decoration-color: #7f7f7f\">:</span><a href=\"file:///Users/hoying/miniconda3/envs/3p-model/lib/python3.12/site-packages/urllib3/connectionpool.py#327\" target=\"_blank\"><span style=\"color: #7f7f7f; text-decoration-color: #7f7f7f\">327</span></a>\n",
       "<span style=\"color: #7fbfbf; text-decoration-color: #7fbfbf\">                    </span>         runtime.sagemaker.us-west-<span style=\"color: #008080; text-decoration-color: #008080; font-weight: bold\">2.</span>amazonaws.com. Connection pool size: <span style=\"color: #7f7f7f; text-decoration-color: #7f7f7f\">                     </span>\n",
       "<span style=\"color: #7fbfbf; text-decoration-color: #7fbfbf\">                    </span>         <span style=\"color: #008080; text-decoration-color: #008080; font-weight: bold\">10</span>                                                               <span style=\"color: #7f7f7f; text-decoration-color: #7f7f7f\">                     </span>\n",
       "</pre>\n"
      ],
      "text/plain": [
       "\u001b[2;36m                   \u001b[0m\u001b[2;36m \u001b[0m\u001b[1;38;2;215;175;0mWARNING \u001b[0m Connection pool is full, discarding connection:                  \u001b]8;id=467668;file:///Users/hoying/miniconda3/envs/3p-model/lib/python3.12/site-packages/urllib3/connectionpool.py\u001b\\\u001b[2mconnectionpool.py\u001b[0m\u001b]8;;\u001b\\\u001b[2m:\u001b[0m\u001b]8;id=507934;file:///Users/hoying/miniconda3/envs/3p-model/lib/python3.12/site-packages/urllib3/connectionpool.py#327\u001b\\\u001b[2m327\u001b[0m\u001b]8;;\u001b\\\n",
       "\u001b[2;36m                    \u001b[0m         runtime.sagemaker.us-west-\u001b[1;36m2.\u001b[0mamazonaws.com. Connection pool size: \u001b[2m                     \u001b[0m\n",
       "\u001b[2;36m                    \u001b[0m         \u001b[1;36m10\u001b[0m                                                               \u001b[2m                     \u001b[0m\n"
      ]
     },
     "metadata": {},
     "output_type": "display_data"
    },
    {
     "data": {
      "text/html": [
       "<pre style=\"white-space:pre;overflow-x:auto;line-height:normal;font-family:Menlo,'DejaVu Sans Mono',consolas,'Courier New',monospace\"><span style=\"color: #7fbfbf; text-decoration-color: #7fbfbf\">                    </span><span style=\"color: #d7af00; text-decoration-color: #d7af00; font-weight: bold\">WARNING </span> Connection pool is full, discarding connection:                  <a href=\"file:///Users/hoying/miniconda3/envs/3p-model/lib/python3.12/site-packages/urllib3/connectionpool.py\" target=\"_blank\"><span style=\"color: #7f7f7f; text-decoration-color: #7f7f7f\">connectionpool.py</span></a><span style=\"color: #7f7f7f; text-decoration-color: #7f7f7f\">:</span><a href=\"file:///Users/hoying/miniconda3/envs/3p-model/lib/python3.12/site-packages/urllib3/connectionpool.py#327\" target=\"_blank\"><span style=\"color: #7f7f7f; text-decoration-color: #7f7f7f\">327</span></a>\n",
       "<span style=\"color: #7fbfbf; text-decoration-color: #7fbfbf\">                    </span>         runtime.sagemaker.us-west-<span style=\"color: #008080; text-decoration-color: #008080; font-weight: bold\">2.</span>amazonaws.com. Connection pool size: <span style=\"color: #7f7f7f; text-decoration-color: #7f7f7f\">                     </span>\n",
       "<span style=\"color: #7fbfbf; text-decoration-color: #7fbfbf\">                    </span>         <span style=\"color: #008080; text-decoration-color: #008080; font-weight: bold\">10</span>                                                               <span style=\"color: #7f7f7f; text-decoration-color: #7f7f7f\">                     </span>\n",
       "</pre>\n"
      ],
      "text/plain": [
       "\u001b[2;36m                   \u001b[0m\u001b[2;36m \u001b[0m\u001b[1;38;2;215;175;0mWARNING \u001b[0m Connection pool is full, discarding connection:                  \u001b]8;id=147199;file:///Users/hoying/miniconda3/envs/3p-model/lib/python3.12/site-packages/urllib3/connectionpool.py\u001b\\\u001b[2mconnectionpool.py\u001b[0m\u001b]8;;\u001b\\\u001b[2m:\u001b[0m\u001b]8;id=208241;file:///Users/hoying/miniconda3/envs/3p-model/lib/python3.12/site-packages/urllib3/connectionpool.py#327\u001b\\\u001b[2m327\u001b[0m\u001b]8;;\u001b\\\n",
       "\u001b[2;36m                    \u001b[0m         runtime.sagemaker.us-west-\u001b[1;36m2.\u001b[0mamazonaws.com. Connection pool size: \u001b[2m                     \u001b[0m\n",
       "\u001b[2;36m                    \u001b[0m         \u001b[1;36m10\u001b[0m                                                               \u001b[2m                     \u001b[0m\n"
      ]
     },
     "metadata": {},
     "output_type": "display_data"
    },
    {
     "data": {
      "text/html": [
       "<pre style=\"white-space:pre;overflow-x:auto;line-height:normal;font-family:Menlo,'DejaVu Sans Mono',consolas,'Courier New',monospace\"><span style=\"color: #7fbfbf; text-decoration-color: #7fbfbf\">                    </span><span style=\"color: #d7af00; text-decoration-color: #d7af00; font-weight: bold\">WARNING </span> Connection pool is full, discarding connection:                  <a href=\"file:///Users/hoying/miniconda3/envs/3p-model/lib/python3.12/site-packages/urllib3/connectionpool.py\" target=\"_blank\"><span style=\"color: #7f7f7f; text-decoration-color: #7f7f7f\">connectionpool.py</span></a><span style=\"color: #7f7f7f; text-decoration-color: #7f7f7f\">:</span><a href=\"file:///Users/hoying/miniconda3/envs/3p-model/lib/python3.12/site-packages/urllib3/connectionpool.py#327\" target=\"_blank\"><span style=\"color: #7f7f7f; text-decoration-color: #7f7f7f\">327</span></a>\n",
       "<span style=\"color: #7fbfbf; text-decoration-color: #7fbfbf\">                    </span>         runtime.sagemaker.us-west-<span style=\"color: #008080; text-decoration-color: #008080; font-weight: bold\">2.</span>amazonaws.com. Connection pool size: <span style=\"color: #7f7f7f; text-decoration-color: #7f7f7f\">                     </span>\n",
       "<span style=\"color: #7fbfbf; text-decoration-color: #7fbfbf\">                    </span>         <span style=\"color: #008080; text-decoration-color: #008080; font-weight: bold\">10</span>                                                               <span style=\"color: #7f7f7f; text-decoration-color: #7f7f7f\">                     </span>\n",
       "</pre>\n"
      ],
      "text/plain": [
       "\u001b[2;36m                   \u001b[0m\u001b[2;36m \u001b[0m\u001b[1;38;2;215;175;0mWARNING \u001b[0m Connection pool is full, discarding connection:                  \u001b]8;id=877670;file:///Users/hoying/miniconda3/envs/3p-model/lib/python3.12/site-packages/urllib3/connectionpool.py\u001b\\\u001b[2mconnectionpool.py\u001b[0m\u001b]8;;\u001b\\\u001b[2m:\u001b[0m\u001b]8;id=330342;file:///Users/hoying/miniconda3/envs/3p-model/lib/python3.12/site-packages/urllib3/connectionpool.py#327\u001b\\\u001b[2m327\u001b[0m\u001b]8;;\u001b\\\n",
       "\u001b[2;36m                    \u001b[0m         runtime.sagemaker.us-west-\u001b[1;36m2.\u001b[0mamazonaws.com. Connection pool size: \u001b[2m                     \u001b[0m\n",
       "\u001b[2;36m                    \u001b[0m         \u001b[1;36m10\u001b[0m                                                               \u001b[2m                     \u001b[0m\n"
      ]
     },
     "metadata": {},
     "output_type": "display_data"
    },
    {
     "data": {
      "text/html": [
       "<pre style=\"white-space:pre;overflow-x:auto;line-height:normal;font-family:Menlo,'DejaVu Sans Mono',consolas,'Courier New',monospace\"><span style=\"color: #7fbfbf; text-decoration-color: #7fbfbf\">                    </span><span style=\"color: #d7af00; text-decoration-color: #d7af00; font-weight: bold\">WARNING </span> Connection pool is full, discarding connection:                  <a href=\"file:///Users/hoying/miniconda3/envs/3p-model/lib/python3.12/site-packages/urllib3/connectionpool.py\" target=\"_blank\"><span style=\"color: #7f7f7f; text-decoration-color: #7f7f7f\">connectionpool.py</span></a><span style=\"color: #7f7f7f; text-decoration-color: #7f7f7f\">:</span><a href=\"file:///Users/hoying/miniconda3/envs/3p-model/lib/python3.12/site-packages/urllib3/connectionpool.py#327\" target=\"_blank\"><span style=\"color: #7f7f7f; text-decoration-color: #7f7f7f\">327</span></a>\n",
       "<span style=\"color: #7fbfbf; text-decoration-color: #7fbfbf\">                    </span>         runtime.sagemaker.us-west-<span style=\"color: #008080; text-decoration-color: #008080; font-weight: bold\">2.</span>amazonaws.com. Connection pool size: <span style=\"color: #7f7f7f; text-decoration-color: #7f7f7f\">                     </span>\n",
       "<span style=\"color: #7fbfbf; text-decoration-color: #7fbfbf\">                    </span>         <span style=\"color: #008080; text-decoration-color: #008080; font-weight: bold\">10</span>                                                               <span style=\"color: #7f7f7f; text-decoration-color: #7f7f7f\">                     </span>\n",
       "</pre>\n"
      ],
      "text/plain": [
       "\u001b[2;36m                   \u001b[0m\u001b[2;36m \u001b[0m\u001b[1;38;2;215;175;0mWARNING \u001b[0m Connection pool is full, discarding connection:                  \u001b]8;id=371983;file:///Users/hoying/miniconda3/envs/3p-model/lib/python3.12/site-packages/urllib3/connectionpool.py\u001b\\\u001b[2mconnectionpool.py\u001b[0m\u001b]8;;\u001b\\\u001b[2m:\u001b[0m\u001b]8;id=822079;file:///Users/hoying/miniconda3/envs/3p-model/lib/python3.12/site-packages/urllib3/connectionpool.py#327\u001b\\\u001b[2m327\u001b[0m\u001b]8;;\u001b\\\n",
       "\u001b[2;36m                    \u001b[0m         runtime.sagemaker.us-west-\u001b[1;36m2.\u001b[0mamazonaws.com. Connection pool size: \u001b[2m                     \u001b[0m\n",
       "\u001b[2;36m                    \u001b[0m         \u001b[1;36m10\u001b[0m                                                               \u001b[2m                     \u001b[0m\n"
      ]
     },
     "metadata": {},
     "output_type": "display_data"
    },
    {
     "data": {
      "text/html": [
       "<pre style=\"white-space:pre;overflow-x:auto;line-height:normal;font-family:Menlo,'DejaVu Sans Mono',consolas,'Courier New',monospace\"><span style=\"color: #7fbfbf; text-decoration-color: #7fbfbf\">                    </span><span style=\"color: #d7af00; text-decoration-color: #d7af00; font-weight: bold\">WARNING </span> Connection pool is full, discarding connection:                  <a href=\"file:///Users/hoying/miniconda3/envs/3p-model/lib/python3.12/site-packages/urllib3/connectionpool.py\" target=\"_blank\"><span style=\"color: #7f7f7f; text-decoration-color: #7f7f7f\">connectionpool.py</span></a><span style=\"color: #7f7f7f; text-decoration-color: #7f7f7f\">:</span><a href=\"file:///Users/hoying/miniconda3/envs/3p-model/lib/python3.12/site-packages/urllib3/connectionpool.py#327\" target=\"_blank\"><span style=\"color: #7f7f7f; text-decoration-color: #7f7f7f\">327</span></a>\n",
       "<span style=\"color: #7fbfbf; text-decoration-color: #7fbfbf\">                    </span>         runtime.sagemaker.us-west-<span style=\"color: #008080; text-decoration-color: #008080; font-weight: bold\">2.</span>amazonaws.com. Connection pool size: <span style=\"color: #7f7f7f; text-decoration-color: #7f7f7f\">                     </span>\n",
       "<span style=\"color: #7fbfbf; text-decoration-color: #7fbfbf\">                    </span>         <span style=\"color: #008080; text-decoration-color: #008080; font-weight: bold\">10</span>                                                               <span style=\"color: #7f7f7f; text-decoration-color: #7f7f7f\">                     </span>\n",
       "</pre>\n"
      ],
      "text/plain": [
       "\u001b[2;36m                   \u001b[0m\u001b[2;36m \u001b[0m\u001b[1;38;2;215;175;0mWARNING \u001b[0m Connection pool is full, discarding connection:                  \u001b]8;id=249661;file:///Users/hoying/miniconda3/envs/3p-model/lib/python3.12/site-packages/urllib3/connectionpool.py\u001b\\\u001b[2mconnectionpool.py\u001b[0m\u001b]8;;\u001b\\\u001b[2m:\u001b[0m\u001b]8;id=954106;file:///Users/hoying/miniconda3/envs/3p-model/lib/python3.12/site-packages/urllib3/connectionpool.py#327\u001b\\\u001b[2m327\u001b[0m\u001b]8;;\u001b\\\n",
       "\u001b[2;36m                    \u001b[0m         runtime.sagemaker.us-west-\u001b[1;36m2.\u001b[0mamazonaws.com. Connection pool size: \u001b[2m                     \u001b[0m\n",
       "\u001b[2;36m                    \u001b[0m         \u001b[1;36m10\u001b[0m                                                               \u001b[2m                     \u001b[0m\n"
      ]
     },
     "metadata": {},
     "output_type": "display_data"
    },
    {
     "data": {
      "text/html": [
       "<pre style=\"white-space:pre;overflow-x:auto;line-height:normal;font-family:Menlo,'DejaVu Sans Mono',consolas,'Courier New',monospace\"><span style=\"color: #7fbfbf; text-decoration-color: #7fbfbf\">                    </span><span style=\"color: #d7af00; text-decoration-color: #d7af00; font-weight: bold\">WARNING </span> Connection pool is full, discarding connection:                  <a href=\"file:///Users/hoying/miniconda3/envs/3p-model/lib/python3.12/site-packages/urllib3/connectionpool.py\" target=\"_blank\"><span style=\"color: #7f7f7f; text-decoration-color: #7f7f7f\">connectionpool.py</span></a><span style=\"color: #7f7f7f; text-decoration-color: #7f7f7f\">:</span><a href=\"file:///Users/hoying/miniconda3/envs/3p-model/lib/python3.12/site-packages/urllib3/connectionpool.py#327\" target=\"_blank\"><span style=\"color: #7f7f7f; text-decoration-color: #7f7f7f\">327</span></a>\n",
       "<span style=\"color: #7fbfbf; text-decoration-color: #7fbfbf\">                    </span>         runtime.sagemaker.us-west-<span style=\"color: #008080; text-decoration-color: #008080; font-weight: bold\">2.</span>amazonaws.com. Connection pool size: <span style=\"color: #7f7f7f; text-decoration-color: #7f7f7f\">                     </span>\n",
       "<span style=\"color: #7fbfbf; text-decoration-color: #7fbfbf\">                    </span>         <span style=\"color: #008080; text-decoration-color: #008080; font-weight: bold\">10</span>                                                               <span style=\"color: #7f7f7f; text-decoration-color: #7f7f7f\">                     </span>\n",
       "</pre>\n"
      ],
      "text/plain": [
       "\u001b[2;36m                   \u001b[0m\u001b[2;36m \u001b[0m\u001b[1;38;2;215;175;0mWARNING \u001b[0m Connection pool is full, discarding connection:                  \u001b]8;id=543583;file:///Users/hoying/miniconda3/envs/3p-model/lib/python3.12/site-packages/urllib3/connectionpool.py\u001b\\\u001b[2mconnectionpool.py\u001b[0m\u001b]8;;\u001b\\\u001b[2m:\u001b[0m\u001b]8;id=339725;file:///Users/hoying/miniconda3/envs/3p-model/lib/python3.12/site-packages/urllib3/connectionpool.py#327\u001b\\\u001b[2m327\u001b[0m\u001b]8;;\u001b\\\n",
       "\u001b[2;36m                    \u001b[0m         runtime.sagemaker.us-west-\u001b[1;36m2.\u001b[0mamazonaws.com. Connection pool size: \u001b[2m                     \u001b[0m\n",
       "\u001b[2;36m                    \u001b[0m         \u001b[1;36m10\u001b[0m                                                               \u001b[2m                     \u001b[0m\n"
      ]
     },
     "metadata": {},
     "output_type": "display_data"
    },
    {
     "name": "stderr",
     "output_type": "stream",
     "text": [
      " 85%|████████▌ | 17/20 [00:19<00:01,  2.81it/s]"
     ]
    },
    {
     "data": {
      "text/html": [
       "<pre style=\"white-space:pre;overflow-x:auto;line-height:normal;font-family:Menlo,'DejaVu Sans Mono',consolas,'Courier New',monospace\"><span style=\"color: #7fbfbf; text-decoration-color: #7fbfbf\">                    </span><span style=\"color: #d7af00; text-decoration-color: #d7af00; font-weight: bold\">WARNING </span> Connection pool is full, discarding connection:                  <a href=\"file:///Users/hoying/miniconda3/envs/3p-model/lib/python3.12/site-packages/urllib3/connectionpool.py\" target=\"_blank\"><span style=\"color: #7f7f7f; text-decoration-color: #7f7f7f\">connectionpool.py</span></a><span style=\"color: #7f7f7f; text-decoration-color: #7f7f7f\">:</span><a href=\"file:///Users/hoying/miniconda3/envs/3p-model/lib/python3.12/site-packages/urllib3/connectionpool.py#327\" target=\"_blank\"><span style=\"color: #7f7f7f; text-decoration-color: #7f7f7f\">327</span></a>\n",
       "<span style=\"color: #7fbfbf; text-decoration-color: #7fbfbf\">                    </span>         runtime.sagemaker.us-west-<span style=\"color: #008080; text-decoration-color: #008080; font-weight: bold\">2.</span>amazonaws.com. Connection pool size: <span style=\"color: #7f7f7f; text-decoration-color: #7f7f7f\">                     </span>\n",
       "<span style=\"color: #7fbfbf; text-decoration-color: #7fbfbf\">                    </span>         <span style=\"color: #008080; text-decoration-color: #008080; font-weight: bold\">10</span>                                                               <span style=\"color: #7f7f7f; text-decoration-color: #7f7f7f\">                     </span>\n",
       "</pre>\n"
      ],
      "text/plain": [
       "\u001b[2;36m                   \u001b[0m\u001b[2;36m \u001b[0m\u001b[1;38;2;215;175;0mWARNING \u001b[0m Connection pool is full, discarding connection:                  \u001b]8;id=79135;file:///Users/hoying/miniconda3/envs/3p-model/lib/python3.12/site-packages/urllib3/connectionpool.py\u001b\\\u001b[2mconnectionpool.py\u001b[0m\u001b]8;;\u001b\\\u001b[2m:\u001b[0m\u001b]8;id=659491;file:///Users/hoying/miniconda3/envs/3p-model/lib/python3.12/site-packages/urllib3/connectionpool.py#327\u001b\\\u001b[2m327\u001b[0m\u001b]8;;\u001b\\\n",
       "\u001b[2;36m                    \u001b[0m         runtime.sagemaker.us-west-\u001b[1;36m2.\u001b[0mamazonaws.com. Connection pool size: \u001b[2m                     \u001b[0m\n",
       "\u001b[2;36m                    \u001b[0m         \u001b[1;36m10\u001b[0m                                                               \u001b[2m                     \u001b[0m\n"
      ]
     },
     "metadata": {},
     "output_type": "display_data"
    },
    {
     "data": {
      "text/html": [
       "<pre style=\"white-space:pre;overflow-x:auto;line-height:normal;font-family:Menlo,'DejaVu Sans Mono',consolas,'Courier New',monospace\"><span style=\"color: #7fbfbf; text-decoration-color: #7fbfbf\">                    </span><span style=\"color: #d7af00; text-decoration-color: #d7af00; font-weight: bold\">WARNING </span> Connection pool is full, discarding connection:                  <a href=\"file:///Users/hoying/miniconda3/envs/3p-model/lib/python3.12/site-packages/urllib3/connectionpool.py\" target=\"_blank\"><span style=\"color: #7f7f7f; text-decoration-color: #7f7f7f\">connectionpool.py</span></a><span style=\"color: #7f7f7f; text-decoration-color: #7f7f7f\">:</span><a href=\"file:///Users/hoying/miniconda3/envs/3p-model/lib/python3.12/site-packages/urllib3/connectionpool.py#327\" target=\"_blank\"><span style=\"color: #7f7f7f; text-decoration-color: #7f7f7f\">327</span></a>\n",
       "<span style=\"color: #7fbfbf; text-decoration-color: #7fbfbf\">                    </span>         runtime.sagemaker.us-west-<span style=\"color: #008080; text-decoration-color: #008080; font-weight: bold\">2.</span>amazonaws.com. Connection pool size: <span style=\"color: #7f7f7f; text-decoration-color: #7f7f7f\">                     </span>\n",
       "<span style=\"color: #7fbfbf; text-decoration-color: #7fbfbf\">                    </span>         <span style=\"color: #008080; text-decoration-color: #008080; font-weight: bold\">10</span>                                                               <span style=\"color: #7f7f7f; text-decoration-color: #7f7f7f\">                     </span>\n",
       "</pre>\n"
      ],
      "text/plain": [
       "\u001b[2;36m                   \u001b[0m\u001b[2;36m \u001b[0m\u001b[1;38;2;215;175;0mWARNING \u001b[0m Connection pool is full, discarding connection:                  \u001b]8;id=746965;file:///Users/hoying/miniconda3/envs/3p-model/lib/python3.12/site-packages/urllib3/connectionpool.py\u001b\\\u001b[2mconnectionpool.py\u001b[0m\u001b]8;;\u001b\\\u001b[2m:\u001b[0m\u001b]8;id=710260;file:///Users/hoying/miniconda3/envs/3p-model/lib/python3.12/site-packages/urllib3/connectionpool.py#327\u001b\\\u001b[2m327\u001b[0m\u001b]8;;\u001b\\\n",
       "\u001b[2;36m                    \u001b[0m         runtime.sagemaker.us-west-\u001b[1;36m2.\u001b[0mamazonaws.com. Connection pool size: \u001b[2m                     \u001b[0m\n",
       "\u001b[2;36m                    \u001b[0m         \u001b[1;36m10\u001b[0m                                                               \u001b[2m                     \u001b[0m\n"
      ]
     },
     "metadata": {},
     "output_type": "display_data"
    },
    {
     "data": {
      "text/html": [
       "<pre style=\"white-space:pre;overflow-x:auto;line-height:normal;font-family:Menlo,'DejaVu Sans Mono',consolas,'Courier New',monospace\"><span style=\"color: #7fbfbf; text-decoration-color: #7fbfbf\">                    </span><span style=\"color: #d7af00; text-decoration-color: #d7af00; font-weight: bold\">WARNING </span> Connection pool is full, discarding connection:                  <a href=\"file:///Users/hoying/miniconda3/envs/3p-model/lib/python3.12/site-packages/urllib3/connectionpool.py\" target=\"_blank\"><span style=\"color: #7f7f7f; text-decoration-color: #7f7f7f\">connectionpool.py</span></a><span style=\"color: #7f7f7f; text-decoration-color: #7f7f7f\">:</span><a href=\"file:///Users/hoying/miniconda3/envs/3p-model/lib/python3.12/site-packages/urllib3/connectionpool.py#327\" target=\"_blank\"><span style=\"color: #7f7f7f; text-decoration-color: #7f7f7f\">327</span></a>\n",
       "<span style=\"color: #7fbfbf; text-decoration-color: #7fbfbf\">                    </span>         runtime.sagemaker.us-west-<span style=\"color: #008080; text-decoration-color: #008080; font-weight: bold\">2.</span>amazonaws.com. Connection pool size: <span style=\"color: #7f7f7f; text-decoration-color: #7f7f7f\">                     </span>\n",
       "<span style=\"color: #7fbfbf; text-decoration-color: #7fbfbf\">                    </span>         <span style=\"color: #008080; text-decoration-color: #008080; font-weight: bold\">10</span>                                                               <span style=\"color: #7f7f7f; text-decoration-color: #7f7f7f\">                     </span>\n",
       "</pre>\n"
      ],
      "text/plain": [
       "\u001b[2;36m                   \u001b[0m\u001b[2;36m \u001b[0m\u001b[1;38;2;215;175;0mWARNING \u001b[0m Connection pool is full, discarding connection:                  \u001b]8;id=218640;file:///Users/hoying/miniconda3/envs/3p-model/lib/python3.12/site-packages/urllib3/connectionpool.py\u001b\\\u001b[2mconnectionpool.py\u001b[0m\u001b]8;;\u001b\\\u001b[2m:\u001b[0m\u001b]8;id=496352;file:///Users/hoying/miniconda3/envs/3p-model/lib/python3.12/site-packages/urllib3/connectionpool.py#327\u001b\\\u001b[2m327\u001b[0m\u001b]8;;\u001b\\\n",
       "\u001b[2;36m                    \u001b[0m         runtime.sagemaker.us-west-\u001b[1;36m2.\u001b[0mamazonaws.com. Connection pool size: \u001b[2m                     \u001b[0m\n",
       "\u001b[2;36m                    \u001b[0m         \u001b[1;36m10\u001b[0m                                                               \u001b[2m                     \u001b[0m\n"
      ]
     },
     "metadata": {},
     "output_type": "display_data"
    },
    {
     "name": "stderr",
     "output_type": "stream",
     "text": [
      "100%|██████████| 20/20 [00:20<00:00,  1.00s/it]\n"
     ]
    },
    {
     "name": "stdout",
     "output_type": "stream",
     "text": [
      "\n",
      "Stress Test Results:\n",
      "Total requests: 20\n",
      "Successful: 20 (100.0%)\n",
      "Failed: 0 (0.0%)\n",
      "Total time: 20.49 seconds\n",
      "Throughput: 0.98 requests/second\n"
     ]
    }
   ],
   "source": [
    "#Stress testing \n",
    "\n",
    "def send_request(args):\n",
    "    \"\"\"\n",
    "    Send a single request to the endpoint and measure latency.\n",
    "    \n",
    "    Args:\n",
    "        args: Tuple containing (client, endpoint_name, payload, request_id)\n",
    "        \n",
    "    Returns:\n",
    "        Dictionary with success/failure status and latency information\n",
    "    \"\"\"\n",
    "    client, endpoint_name, payload, request_id = args\n",
    "    try:\n",
    "        start_time = time.time()\n",
    "        _ = run_inference(client, endpoint_name, payload)\n",
    "        end_time = time.time()\n",
    "        latency = end_time - start_time\n",
    "        return {\"success\": True, \"latency\": latency}\n",
    "    except Exception as e:\n",
    "        return {\"success\": False, \"error\": str(e)}\n",
    "\n",
    "def run_stress_test(image_url, endpoint_name, num_requests=100, max_workers=10):\n",
    "    \"\"\"\n",
    "    Run a stress test against the endpoint with configurable concurrency.\n",
    "    \n",
    "    Args:\n",
    "        image_url: URL of the image to use for testing\n",
    "        endpoint_name: Name of the SageMaker endpoint\n",
    "        num_requests: Total number of requests to send\n",
    "        max_workers: Maximum number of concurrent requests\n",
    "        \n",
    "    Returns:\n",
    "        Dictionary containing test statistics\n",
    "    \"\"\"\n",
    "    # Setup client and prepare payload\n",
    "    sagemaker_client = boto3.client(\"sagemaker-runtime\")\n",
    "    print(f\"Downloading and encoding image from {image_url}...\")\n",
    "    receipt_image_b64 = download_and_encode_image(url=image_url)\n",
    "\n",
    "    payload = {\n",
    "        \"model\": \"mistral-ocr-2505\",\n",
    "        \"document\": {\n",
    "            \"type\": \"image_url\",\n",
    "            \"image_url\": f\"data:image/jpeg;base64,{receipt_image_b64}\"\n",
    "        }\n",
    "    }\n",
    "\n",
    "    # Create argument list for parallel requests\n",
    "    args_list = [(sagemaker_client, endpoint_name, payload, i) for i in range(num_requests)]\n",
    "\n",
    "    # Track metrics\n",
    "    start_time = time.time()\n",
    "    results = []\n",
    "\n",
    "    print(f\"Starting stress test - sending {num_requests} requests to {endpoint_name}...\")\n",
    "\n",
    "    # Run requests in parallel\n",
    "    with concurrent.futures.ThreadPoolExecutor(max_workers=max_workers) as executor:\n",
    "        futures = [executor.submit(send_request, arg) for arg in args_list]\n",
    "        for future in tqdm(concurrent.futures.as_completed(futures), total=num_requests):\n",
    "            results.append(future.result())\n",
    "\n",
    "    # Calculate statistics\n",
    "    end_time = time.time()\n",
    "    total_time = end_time - start_time\n",
    "    successful = sum(1 for r in results if r[\"success\"])\n",
    "    failed = num_requests - successful\n",
    "\n",
    "\n",
    "    # Print results\n",
    "    print(\"\\nStress Test Results:\")\n",
    "    print(f\"Total requests: {num_requests}\")\n",
    "    print(f\"Successful: {successful} ({successful/num_requests*100:.1f}%)\")\n",
    "    print(f\"Failed: {failed} ({failed/num_requests*100:.1f}%)\")\n",
    "    print(f\"Total time: {total_time:.2f} seconds\")\n",
    "    print(f\"Throughput: {successful/total_time:.2f} requests/second\")\n",
    "\n",
    "\n",
    "    if failed > 0:\n",
    "        error_counts = {}\n",
    "        for r in results:\n",
    "            if not r[\"success\"]:\n",
    "                error_type = r[\"error\"].split(':')[0]\n",
    "                error_counts[error_type] = error_counts.get(error_type, 0) + 1\n",
    "\n",
    "        print(\"\\nError breakdown:\")\n",
    "        for error, count in error_counts.items():\n",
    "            print(f\"  {error}: {count} ({count/failed*100:.1f}%)\")\n",
    "\n",
    "    return {\n",
    "        \"total_requests\": num_requests,\n",
    "        \"successful\": successful,\n",
    "        \"failed\": failed,\n",
    "        \"total_time\": total_time,\n",
    "        \"throughput\": successful/total_time,\n",
    "    }\n",
    "\n",
    "# Run the stress test with increasing concurrency\n",
    "for concurrency in [5, 10, 20]:\n",
    "    print(f\"\\n=== Testing with {concurrency} concurrent requests ===\")\n",
    "    stats = run_stress_test(\n",
    "        image_url=receipt_image_url,\n",
    "        endpoint_name=MISTRAL_OCR_ENDPOINT_NAME,\n",
    "        num_requests=20,  # Adjust based on your needs\n",
    "        max_workers=concurrency\n",
    "    )"
   ]
  }
 ],
 "metadata": {
  "kernelspec": {
   "display_name": "3p-model",
   "language": "python",
   "name": "python3"
  },
  "language_info": {
   "codemirror_mode": {
    "name": "ipython",
    "version": 3
   },
   "file_extension": ".py",
   "mimetype": "text/x-python",
   "name": "python",
   "nbconvert_exporter": "python",
   "pygments_lexer": "ipython3",
   "version": "3.12.9"
  }
 },
 "nbformat": 4,
 "nbformat_minor": 5
}
