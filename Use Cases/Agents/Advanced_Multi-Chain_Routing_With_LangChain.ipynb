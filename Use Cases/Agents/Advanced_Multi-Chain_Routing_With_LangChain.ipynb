{
 "cells": [
  {
   "cell_type": "markdown",
   "id": "0f502fd5-212e-442f-a75e-2bc63ca2c1a6",
   "metadata": {},
   "source": [
    "# Advanced Multi-Chain Routing with LangChain and Mistral Models\n",
    "\n",
    "*This notebook should work well with the **`Data Science 3.0`** kernel in SageMaker Studio*\n",
    "\n",
    "In the realm of generative AI application, there is often a need to leverage multiple data sources and capabilities to provide comprehensive and accurate responses to user queries. LangChain, a powerful framework for developing applications with large language models (LLMs), offers a flexible and modular approach to building such systems.\n",
    "\n",
    "One of the key advantages of LangChain is its ability to combine multiple chains, each specialized in a specific task, into a single pipeline. This multi-chain routing approach allows for the seamless integration of different language models, data sources, and processing capabilities, enabling the creation of sophisticated and tailored solutions.\n",
    "\n",
    "## Flexibility in Choosing LLMs with Multi-Chain Routing\n",
    "\n",
    "By leveraging the multi-chain routing capability of LangChain, developers can incorporate multiple language models into a single pipeline, allowing each model to contribute its strengths and expertise to the overall solution. This approach enables the creation of more robust and accurate systems that can handle complex queries and tasks.\n",
    "\n",
    "## Mistral AI in Amazon Bedrock\n",
    "\n",
    "There are [three Mistral models available on Amazon Bedrock](https://aws.amazon.com/bedrock/mistral/) by the time of writing this notebook, offering flexibility to developers.\n",
    "\n",
    "1. **Mistral Large**: Mistral AI’s most advanced large language model, Mistral Large is a cutting-edge text generation model with top-tier reasoning capabilities. Its precise instruction-following abilities enables application development and tech stack modernization at scale.\n",
    "2. **Mistral 7B**: A 7B dense Transformer, fast-deployed and easily customizable. Small, yet powerful for a variety of use cases.\n",
    "3. **Mixtral 8X7B**: A 7B sparse Mixture-of-Experts model with stronger capabilities than Mistral AI 7B. Uses 12B active parameters out of 45B total.\n",
    "\n",
    "## Use Case: Financial Services Industry (FSI)\n",
    "\n",
    "To demonstrate the power of multi-chain routing with LangChain and Mistral models, we will explore a use case in the Financial Services Industry (FSI). In this scenario, a user wants to:\n",
    "\n",
    "1. **Check Investment**: Determine if they have invested in a particular stock by querying a SQL database.\n",
    "2. **Check Financial Reports**: Retrieve and analyze public financial reports and shareholder letters related to the stock using a Retrieval-Augmented Generation (RAG) chain.\n",
    "3. **Check News**: Search for and retrieve relevant news articles about the stock or company using a search chain.\n",
    "\n",
    "By combining these three capabilities into a single pipeline, the user can obtain a comprehensive overview of their investment, the company's performance, and the latest news and developments, all through a single query.\n",
    "\n",
    "Throughout this notebook, we will walk through the process of setting up the individual chains, defining the routing logic, and integrating the Mistral models to power the multi-chain routing system.\n",
    "\n",
    "\n",
    "\n",
    "## [Langchain Expression Language (LCEL)](https://python.langchain.com/v0.1/docs/expression_language/)\n",
    "\n",
    "LangChain Expression Language, or LCEL, is a declarative way to easily compose chains together. In this notebook, we will use LCEL to implement the multiple chains and the orchestration workflow. To make it easy, we will implement our custom chains with [Runnable interface](https://python.langchain.com/v0.1/docs/expression_language/interface/)\n"
   ]
  },
  {
   "cell_type": "markdown",
   "id": "7b1f0257-cc61-4bd6-bfa3-77b208fc2627",
   "metadata": {},
   "source": [
    "---\n",
    "## Setup\n",
    "\n",
    "---"
   ]
  },
  {
   "cell_type": "code",
   "execution_count": 2,
   "id": "4df461d1-a3cf-439f-a42c-5b337654d8cb",
   "metadata": {
    "tags": []
   },
   "outputs": [],
   "source": [
    "!pip install --upgrade --quiet langchain langchain-aws faiss-cpu duckduckgo-search --quiet"
   ]
  },
  {
   "cell_type": "code",
   "execution_count": 3,
   "id": "fcfde071-43ba-480c-81f6-0d5b87b3b31a",
   "metadata": {
    "tags": []
   },
   "outputs": [],
   "source": [
    "mistral_large_model_id = \"mistral.mistral-large-2402-v1:0\"\n",
    "mistral_8x7b_model_id = \"mistral.mixtral-8x7b-instruct-v0:1\"\n",
    "mistral_7b_model_id = \"mistral.mistral-7b-instruct-v0:2\"\n",
    "\n",
    "# modify to the region of your choice\n",
    "aws_region = \"us-east-1\""
   ]
  },
  {
   "cell_type": "code",
   "execution_count": 4,
   "id": "aadfffa6-db54-44ae-a368-5d31728bd941",
   "metadata": {
    "tags": []
   },
   "outputs": [],
   "source": [
    "import boto3\n",
    "from langchain_core.output_parsers import StrOutputParser\n",
    "from langchain_core.prompts import ChatPromptTemplate\n",
    "from langchain_aws import BedrockLLM\n",
    "\n",
    "bedrock_runtime = boto3.client(\n",
    "    service_name=\"bedrock-runtime\",\n",
    "    region_name=aws_region,\n",
    ")"
   ]
  },
  {
   "cell_type": "code",
   "execution_count": 5,
   "id": "ea7414ed-5c82-476b-b2ba-027ac905634c",
   "metadata": {
    "tags": []
   },
   "outputs": [],
   "source": [
    "mistral_large_llm = BedrockLLM(\n",
    "    client=bedrock_runtime,\n",
    "    model_id=mistral_large_model_id,\n",
    "    model_kwargs={\"temperature\": 0.1},\n",
    "    \n",
    ")\n",
    "\n",
    "mistral_8x7b_llm = BedrockLLM(\n",
    "    client=bedrock_runtime,\n",
    "    model_id=mistral_8x7b_model_id,\n",
    "    model_kwargs={\"temperature\": 0.1},\n",
    ")\n",
    "\n",
    "mistral_7b_llm = BedrockLLM(\n",
    "    client=bedrock_runtime,\n",
    "    model_id=mistral_7b_model_id,\n",
    "    model_kwargs={\"temperature\": 0.1},\n",
    ")"
   ]
  },
  {
   "cell_type": "code",
   "execution_count": 6,
   "id": "738c0038-17d3-4dff-a58c-2b13bdd44233",
   "metadata": {
    "tags": []
   },
   "outputs": [],
   "source": [
    "import os\n",
    "\n",
    "# create a local work directory to store data\n",
    "workdir = \"workspace\"\n",
    "\n",
    "try:\n",
    "    os.makedirs(workdir, exist_ok=True)\n",
    "except FileExistsError:\n",
    "    print(\"The directory already exists.\")"
   ]
  },
  {
   "cell_type": "markdown",
   "id": "25789e79-bbbc-4650-b4a1-7bfb8a8a5c90",
   "metadata": {},
   "source": [
    "---\n",
    "## SQL Chain: Text-to-SQL Translation with LLMs\n",
    "\n",
    "One of the key components of our multi-chain routing system is the SQL Chain, which enables users to query structured data stored in databases using natural language queries. This capability is made possible through the text-to-SQL translation capabilities of large language models (LLMs) like Mistral.\n",
    "\n",
    "LLMs have demonstrated remarkable performance in understanding and generating natural language, and this ability extends to translating natural language queries into structured SQL queries. By leveraging the language understanding and generation capabilities of LLMs, we can bridge the gap between human-friendly natural language and the structured query language used by databases.\n",
    "\n",
    "Since we want the Text-to-SQL to be accurate and executable, Mistral Large is used for SQL chain.\n",
    "\n",
    "---"
   ]
  },
  {
   "cell_type": "markdown",
   "id": "89f2b230-a39d-4849-bbe1-b13229fc4b0e",
   "metadata": {},
   "source": [
    "Populate stock data"
   ]
  },
  {
   "cell_type": "code",
   "execution_count": 7,
   "id": "b69206be-bf40-42b2-b3df-5f652fd72d00",
   "metadata": {
    "tags": []
   },
   "outputs": [],
   "source": [
    "stock_data = [\n",
    "    [\"AAPL\", \"Apple Inc.\", \"Technology\", 20, \"NASDAQ\", \"USD\"],\n",
    "    [\"MSFT\", \"Microsoft Corporation\", \"Technology\", 18, \"NASDAQ\", \"USD\"],\n",
    "    [\"AMZN\", \"Amazon.com, Inc.\", \"Consumer Cyclical\", 99, \"NASDAQ\", \"USD\"],\n",
    "    [\"NVDA\", \"NVIDIA Corporation\", \"Technology\", 12, \"NASDAQ\", \"USD\"],\n",
    "    [\"TSLA\", \"Tesla, Inc.\", \"Consumer Cyclical\", 10, \"NASDAQ\", \"USD\"],\n",
    "    [\"JPM\", \"JPMorgan Chase & Co.\", \"Finance\", 20, \"NYSE\", \"USD\"],\n",
    "    [\"JNJ\", \"Johnson & Johnson\", \"Healthcare\", 41, \"NYSE\", \"USD\"],\n",
    "    [\"XOM\", \"Exxon Mobil Corporation\", \"Energy\", 33, \"NYSE\", \"USD\"],\n",
    "    [\"WMT\", \"Walmart Inc.\", \"Consumer Defensive\",29, \"NYSE\", \"USD\"],\n",
    "    [\"PG\", \"Procter & Gamble Company\", \"Consumer Defensive\", 35, \"NYSE\", \"USD\"]\n",
    "]"
   ]
  },
  {
   "cell_type": "code",
   "execution_count": 8,
   "id": "2e2662cd-a321-425d-b09a-6b3a09e86f3a",
   "metadata": {
    "tags": []
   },
   "outputs": [
    {
     "data": {
      "text/html": [
       "<div>\n",
       "<style scoped>\n",
       "    .dataframe tbody tr th:only-of-type {\n",
       "        vertical-align: middle;\n",
       "    }\n",
       "\n",
       "    .dataframe tbody tr th {\n",
       "        vertical-align: top;\n",
       "    }\n",
       "\n",
       "    .dataframe thead th {\n",
       "        text-align: right;\n",
       "    }\n",
       "</style>\n",
       "<table border=\"1\" class=\"dataframe\">\n",
       "  <thead>\n",
       "    <tr style=\"text-align: right;\">\n",
       "      <th></th>\n",
       "      <th>ticker</th>\n",
       "      <th>name</th>\n",
       "      <th>sector</th>\n",
       "      <th>shares</th>\n",
       "      <th>exchange</th>\n",
       "      <th>currency</th>\n",
       "    </tr>\n",
       "  </thead>\n",
       "  <tbody>\n",
       "    <tr>\n",
       "      <th>0</th>\n",
       "      <td>AAPL</td>\n",
       "      <td>Apple Inc.</td>\n",
       "      <td>Technology</td>\n",
       "      <td>20</td>\n",
       "      <td>NASDAQ</td>\n",
       "      <td>USD</td>\n",
       "    </tr>\n",
       "    <tr>\n",
       "      <th>1</th>\n",
       "      <td>MSFT</td>\n",
       "      <td>Microsoft Corporation</td>\n",
       "      <td>Technology</td>\n",
       "      <td>18</td>\n",
       "      <td>NASDAQ</td>\n",
       "      <td>USD</td>\n",
       "    </tr>\n",
       "    <tr>\n",
       "      <th>2</th>\n",
       "      <td>AMZN</td>\n",
       "      <td>Amazon.com, Inc.</td>\n",
       "      <td>Consumer Cyclical</td>\n",
       "      <td>99</td>\n",
       "      <td>NASDAQ</td>\n",
       "      <td>USD</td>\n",
       "    </tr>\n",
       "    <tr>\n",
       "      <th>3</th>\n",
       "      <td>NVDA</td>\n",
       "      <td>NVIDIA Corporation</td>\n",
       "      <td>Technology</td>\n",
       "      <td>12</td>\n",
       "      <td>NASDAQ</td>\n",
       "      <td>USD</td>\n",
       "    </tr>\n",
       "    <tr>\n",
       "      <th>4</th>\n",
       "      <td>TSLA</td>\n",
       "      <td>Tesla, Inc.</td>\n",
       "      <td>Consumer Cyclical</td>\n",
       "      <td>10</td>\n",
       "      <td>NASDAQ</td>\n",
       "      <td>USD</td>\n",
       "    </tr>\n",
       "    <tr>\n",
       "      <th>5</th>\n",
       "      <td>JPM</td>\n",
       "      <td>JPMorgan Chase &amp; Co.</td>\n",
       "      <td>Finance</td>\n",
       "      <td>20</td>\n",
       "      <td>NYSE</td>\n",
       "      <td>USD</td>\n",
       "    </tr>\n",
       "    <tr>\n",
       "      <th>6</th>\n",
       "      <td>JNJ</td>\n",
       "      <td>Johnson &amp; Johnson</td>\n",
       "      <td>Healthcare</td>\n",
       "      <td>41</td>\n",
       "      <td>NYSE</td>\n",
       "      <td>USD</td>\n",
       "    </tr>\n",
       "    <tr>\n",
       "      <th>7</th>\n",
       "      <td>XOM</td>\n",
       "      <td>Exxon Mobil Corporation</td>\n",
       "      <td>Energy</td>\n",
       "      <td>33</td>\n",
       "      <td>NYSE</td>\n",
       "      <td>USD</td>\n",
       "    </tr>\n",
       "    <tr>\n",
       "      <th>8</th>\n",
       "      <td>WMT</td>\n",
       "      <td>Walmart Inc.</td>\n",
       "      <td>Consumer Defensive</td>\n",
       "      <td>29</td>\n",
       "      <td>NYSE</td>\n",
       "      <td>USD</td>\n",
       "    </tr>\n",
       "    <tr>\n",
       "      <th>9</th>\n",
       "      <td>PG</td>\n",
       "      <td>Procter &amp; Gamble Company</td>\n",
       "      <td>Consumer Defensive</td>\n",
       "      <td>35</td>\n",
       "      <td>NYSE</td>\n",
       "      <td>USD</td>\n",
       "    </tr>\n",
       "  </tbody>\n",
       "</table>\n",
       "</div>"
      ],
      "text/plain": [
       "  ticker                      name              sector  shares exchange  \\\n",
       "0   AAPL                Apple Inc.          Technology      20   NASDAQ   \n",
       "1   MSFT     Microsoft Corporation          Technology      18   NASDAQ   \n",
       "2   AMZN          Amazon.com, Inc.   Consumer Cyclical      99   NASDAQ   \n",
       "3   NVDA        NVIDIA Corporation          Technology      12   NASDAQ   \n",
       "4   TSLA               Tesla, Inc.   Consumer Cyclical      10   NASDAQ   \n",
       "5    JPM      JPMorgan Chase & Co.             Finance      20     NYSE   \n",
       "6    JNJ         Johnson & Johnson          Healthcare      41     NYSE   \n",
       "7    XOM   Exxon Mobil Corporation              Energy      33     NYSE   \n",
       "8    WMT              Walmart Inc.  Consumer Defensive      29     NYSE   \n",
       "9     PG  Procter & Gamble Company  Consumer Defensive      35     NYSE   \n",
       "\n",
       "  currency  \n",
       "0      USD  \n",
       "1      USD  \n",
       "2      USD  \n",
       "3      USD  \n",
       "4      USD  \n",
       "5      USD  \n",
       "6      USD  \n",
       "7      USD  \n",
       "8      USD  \n",
       "9      USD  "
      ]
     },
     "execution_count": 8,
     "metadata": {},
     "output_type": "execute_result"
    }
   ],
   "source": [
    "import pandas as pd\n",
    "df = pd.DataFrame(stock_data, columns=[\"ticker\", \"name\", \"sector\", \"shares\", \"exchange\", \"currency\"])\n",
    "df"
   ]
  },
  {
   "cell_type": "code",
   "execution_count": 9,
   "id": "2f24f0ff-5c70-420f-9a3a-c57be560cf12",
   "metadata": {
    "tags": []
   },
   "outputs": [],
   "source": [
    "db_file = f\"{workdir}/investment.db\"\n",
    "ddl = '''CREATE TABLE IF NOT EXISTS stocks\n",
    "(ticker TEXT, name TEXT, sector TEXT, shares INTEGER, exchange TEXT, currency TEXT)'''\n",
    "\n",
    "import sqlite3\n",
    "conn = sqlite3.connect(db_file)\n",
    "cur = conn.cursor()\n",
    "cur.execute(ddl)\n",
    "\n",
    "# Insert data from the DataFrame into the table\n",
    "df.to_sql('stocks', conn, if_exists='replace', index=False)\n",
    "\n",
    "# Commit the changes and close the connection\n",
    "conn.commit()\n",
    "conn.close()"
   ]
  },
  {
   "cell_type": "code",
   "execution_count": 10,
   "id": "907c5a14-d663-4436-825e-7e8b9f133b52",
   "metadata": {
    "tags": []
   },
   "outputs": [],
   "source": [
    "def execute_sql(sql_query):\n",
    "    conn = sqlite3.connect(db_file)\n",
    "    cur = conn.cursor()\n",
    "    cur.execute(sql_query)\n",
    "    result = cur.fetchall()\n",
    "    conn.close\n",
    "    return result"
   ]
  },
  {
   "cell_type": "markdown",
   "id": "aee51f55-0cda-4813-a3c8-54171381d361",
   "metadata": {},
   "source": [
    "SQL Chain can be broken down into two tasts:\n",
    "\n",
    "1. Text-to-SQL\n",
    "2. Generate answer"
   ]
  },
  {
   "cell_type": "markdown",
   "id": "317af69c-84fa-483a-b9e9-4d9d892b633e",
   "metadata": {},
   "source": [
    "Take a look at [Langchain Runnable interface](https://python.langchain.com/v0.1/docs/expression_language/interface/), to understand the following components and their input and output types: Prompt, OutputParser, Retriever, Tool"
   ]
  },
  {
   "cell_type": "code",
   "execution_count": 11,
   "id": "50e9ca00-1f57-4613-8dca-d3026cead8fb",
   "metadata": {
    "tags": []
   },
   "outputs": [],
   "source": [
    "from langchain_core.output_parsers import StrOutputParser\n",
    "from langchain_core.prompts import PromptTemplate\n",
    "from langchain_core.runnables import RunnablePassthrough, RunnableLambda\n",
    "from langchain.callbacks.tracers import ConsoleCallbackHandler\n",
    "\n",
    "SQL_PROMPT_TEMPLATE = f'''<s>[INST]Based on the provided SQL table schema below, write a SQL query that would answer the question.\n",
    "<schema> {ddl} </schema>\n",
    "<question> {{question}} </question>\n",
    "Just generate the SQL query without explanations\n",
    "[/INST]\n",
    "'''\n",
    "\n",
    "text_to_sql_prompt = PromptTemplate.from_template(SQL_PROMPT_TEMPLATE)\n",
    "text_to_sql = text_to_sql_prompt | mistral_large_llm | StrOutputParser() | RunnableLambda(func=execute_sql) "
   ]
  },
  {
   "cell_type": "code",
   "execution_count": 12,
   "id": "7fa374e3-e784-4229-975e-38511651e525",
   "metadata": {
    "tags": []
   },
   "outputs": [],
   "source": [
    "FINAL_ANSWER_PROMPT_TEMPLATE = '''<s>[INST]Given the SQL query result: \n",
    "{result}\n",
    "Produce a final response to the original question: \n",
    "{question}\n",
    "[/INST]\n",
    "'''\n",
    "\n",
    "final_answer_prompt = PromptTemplate.from_template(FINAL_ANSWER_PROMPT_TEMPLATE)\n",
    "\n",
    "sql_chain = (\n",
    "    {\n",
    "        \"result\": text_to_sql,\n",
    "        \"question\": RunnablePassthrough()\n",
    "    }\n",
    "    | final_answer_prompt\n",
    "    | mistral_large_llm\n",
    ")"
   ]
  },
  {
   "cell_type": "code",
   "execution_count": 13,
   "id": "27ef7e93-163e-42bc-b5be-ee2b9939fc0b",
   "metadata": {
    "tags": []
   },
   "outputs": [
    {
     "name": "stdout",
     "output_type": "stream",
     "text": [
      "\u001b[32;1m\u001b[1;3m[chain/start]\u001b[0m \u001b[1m[chain:RunnableSequence] Entering Chain run with input:\n",
      "\u001b[0m{\n",
      "  \"question\": \"Which stock I have the most shares?\"\n",
      "}\n",
      "\u001b[32;1m\u001b[1;3m[chain/start]\u001b[0m \u001b[1m[chain:RunnableSequence > chain:RunnableParallel<result,question>] Entering Chain run with input:\n",
      "\u001b[0m{\n",
      "  \"question\": \"Which stock I have the most shares?\"\n",
      "}\n",
      "\u001b[32;1m\u001b[1;3m[chain/start]\u001b[0m \u001b[1m[chain:RunnableSequence > chain:RunnableParallel<result,question> > chain:RunnableSequence] Entering Chain run with input:\n",
      "\u001b[0m{\n",
      "  \"question\": \"Which stock I have the most shares?\"\n",
      "}\n",
      "\u001b[32;1m\u001b[1;3m[chain/start]\u001b[0m \u001b[1m[chain:RunnableSequence > chain:RunnableParallel<result,question> > chain:RunnableSequence > prompt:PromptTemplate] Entering Prompt run with input:\n",
      "\u001b[0m{\n",
      "  \"question\": \"Which stock I have the most shares?\"\n",
      "}\n",
      "\u001b[36;1m\u001b[1;3m[chain/end]\u001b[0m \u001b[1m[chain:RunnableSequence > chain:RunnableParallel<result,question> > chain:RunnableSequence > prompt:PromptTemplate] [0ms] Exiting Prompt run with output:\n",
      "\u001b[0m[outputs]\n",
      "\u001b[32;1m\u001b[1;3m[llm/start]\u001b[0m \u001b[1m[chain:RunnableSequence > chain:RunnableParallel<result,question> > chain:RunnableSequence > llm:BedrockLLM] Entering LLM run with input:\n",
      "\u001b[0m{\n",
      "  \"prompts\": [\n",
      "    \"<s>[INST]Based on the provided SQL table schema below, write a SQL query that would answer the question.\\n<schema> CREATE TABLE IF NOT EXISTS stocks\\n(ticker TEXT, name TEXT, sector TEXT, shares INTEGER, exchange TEXT, currency TEXT) </schema>\\n<question> Which stock I have the most shares? </question>\\nJust generate the SQL query without explanations\\n[/INST]\"\n",
      "  ]\n",
      "}\n",
      "\u001b[32;1m\u001b[1;3m[chain/start]\u001b[0m \u001b[1m[chain:RunnableSequence > chain:RunnableParallel<result,question> > chain:RunnablePassthrough] Entering Chain run with input:\n",
      "\u001b[0m{\n",
      "  \"question\": \"Which stock I have the most shares?\"\n",
      "}\n",
      "\u001b[36;1m\u001b[1;3m[chain/end]\u001b[0m \u001b[1m[chain:RunnableSequence > chain:RunnableParallel<result,question> > chain:RunnablePassthrough] [0ms] Exiting Chain run with output:\n",
      "\u001b[0m{\n",
      "  \"question\": \"Which stock I have the most shares?\"\n",
      "}\n"
     ]
    },
    {
     "name": "stderr",
     "output_type": "stream",
     "text": [
      "Error in ConsoleCallbackHandler.on_llm_end callback: TracerException('No indexed run ID fad66bc2-70d8-4107-a3b9-c7fa75339ece.')\n"
     ]
    },
    {
     "name": "stdout",
     "output_type": "stream",
     "text": [
      "\u001b[36;1m\u001b[1;3m[llm/end]\u001b[0m \u001b[1m[chain:RunnableSequence > chain:RunnableParallel<result,question> > chain:RunnableSequence > llm:BedrockLLM] [1.99s] Exiting LLM run with output:\n",
      "\u001b[0m{\n",
      "  \"generations\": [\n",
      "    [\n",
      "      {\n",
      "        \"text\": \"SELECT ticker, name, MAX(shares) as max_shares\\nFROM stocks\\nGROUP BY ticker, name\\nORDER BY max_shares DESC\\nLIMIT 1;\",\n",
      "        \"generation_info\": null,\n",
      "        \"type\": \"Generation\"\n",
      "      }\n",
      "    ]\n",
      "  ],\n",
      "  \"llm_output\": {\n",
      "    \"usage\": {\n",
      "      \"prompt_tokens\": 89,\n",
      "      \"completion_tokens\": 41,\n",
      "      \"total_tokens\": 130\n",
      "    },\n",
      "    \"stop_reason\": null\n",
      "  },\n",
      "  \"run\": null\n",
      "}\n",
      "\u001b[32;1m\u001b[1;3m[chain/start]\u001b[0m \u001b[1m[chain:RunnableSequence > chain:RunnableParallel<result,question> > chain:RunnableSequence > parser:StrOutputParser] Entering Parser run with input:\n",
      "\u001b[0m{\n",
      "  \"input\": \"SELECT ticker, name, MAX(shares) as max_shares\\nFROM stocks\\nGROUP BY ticker, name\\nORDER BY max_shares DESC\\nLIMIT 1;\"\n",
      "}\n",
      "\u001b[36;1m\u001b[1;3m[chain/end]\u001b[0m \u001b[1m[chain:RunnableSequence > chain:RunnableParallel<result,question> > chain:RunnableSequence > parser:StrOutputParser] [0ms] Exiting Parser run with output:\n",
      "\u001b[0m{\n",
      "  \"output\": \"SELECT ticker, name, MAX(shares) as max_shares\\nFROM stocks\\nGROUP BY ticker, name\\nORDER BY max_shares DESC\\nLIMIT 1;\"\n",
      "}\n",
      "\u001b[32;1m\u001b[1;3m[chain/start]\u001b[0m \u001b[1m[chain:RunnableSequence > chain:RunnableParallel<result,question> > chain:RunnableSequence > chain:execute_sql] Entering Chain run with input:\n",
      "\u001b[0m{\n",
      "  \"input\": \"SELECT ticker, name, MAX(shares) as max_shares\\nFROM stocks\\nGROUP BY ticker, name\\nORDER BY max_shares DESC\\nLIMIT 1;\"\n",
      "}\n",
      "\u001b[36;1m\u001b[1;3m[chain/end]\u001b[0m \u001b[1m[chain:RunnableSequence > chain:RunnableParallel<result,question> > chain:RunnableSequence > chain:execute_sql] [47ms] Exiting Chain run with output:\n",
      "\u001b[0m{\n",
      "  \"output\": [\n",
      "    [\n",
      "      \"AMZN\",\n",
      "      \"Amazon.com, Inc.\",\n",
      "      99\n",
      "    ]\n",
      "  ]\n",
      "}\n",
      "\u001b[36;1m\u001b[1;3m[chain/end]\u001b[0m \u001b[1m[chain:RunnableSequence > chain:RunnableParallel<result,question> > chain:RunnableSequence] [2.04s] Exiting Chain run with output:\n",
      "\u001b[0m{\n",
      "  \"output\": [\n",
      "    [\n",
      "      \"AMZN\",\n",
      "      \"Amazon.com, Inc.\",\n",
      "      99\n",
      "    ]\n",
      "  ]\n",
      "}\n",
      "\u001b[36;1m\u001b[1;3m[chain/end]\u001b[0m \u001b[1m[chain:RunnableSequence > chain:RunnableParallel<result,question>] [2.05s] Exiting Chain run with output:\n",
      "\u001b[0m{\n",
      "  \"result\": [\n",
      "    [\n",
      "      \"AMZN\",\n",
      "      \"Amazon.com, Inc.\",\n",
      "      99\n",
      "    ]\n",
      "  ],\n",
      "  \"question\": {\n",
      "    \"question\": \"Which stock I have the most shares?\"\n",
      "  }\n",
      "}\n",
      "\u001b[32;1m\u001b[1;3m[chain/start]\u001b[0m \u001b[1m[chain:RunnableSequence > prompt:PromptTemplate] Entering Prompt run with input:\n",
      "\u001b[0m{\n",
      "  \"result\": [\n",
      "    [\n",
      "      \"AMZN\",\n",
      "      \"Amazon.com, Inc.\",\n",
      "      99\n",
      "    ]\n",
      "  ],\n",
      "  \"question\": {\n",
      "    \"question\": \"Which stock I have the most shares?\"\n",
      "  }\n",
      "}\n",
      "\u001b[36;1m\u001b[1;3m[chain/end]\u001b[0m \u001b[1m[chain:RunnableSequence > prompt:PromptTemplate] [1ms] Exiting Prompt run with output:\n",
      "\u001b[0m[outputs]\n",
      "\u001b[32;1m\u001b[1;3m[llm/start]\u001b[0m \u001b[1m[chain:RunnableSequence > llm:BedrockLLM] Entering LLM run with input:\n",
      "\u001b[0m{\n",
      "  \"prompts\": [\n",
      "    \"<s>[INST]Given the SQL query result: \\n[('AMZN', 'Amazon.com, Inc.', 99)]\\nProduce a final response to the original question: \\n{'question': 'Which stock I have the most shares?'}\\n[/INST]\"\n",
      "  ]\n",
      "}\n"
     ]
    },
    {
     "name": "stderr",
     "output_type": "stream",
     "text": [
      "Error in ConsoleCallbackHandler.on_llm_end callback: TracerException('No indexed run ID 370bd3cd-4f62-482d-93b9-259d4fbeff0c.')\n"
     ]
    },
    {
     "name": "stdout",
     "output_type": "stream",
     "text": [
      "\u001b[36;1m\u001b[1;3m[llm/end]\u001b[0m \u001b[1m[chain:RunnableSequence > llm:BedrockLLM] [2.06s] Exiting LLM run with output:\n",
      "\u001b[0m{\n",
      "  \"generations\": [\n",
      "    [\n",
      "      {\n",
      "        \"text\": \"Based on the SQL query result, the stock you have the most shares of is 'Amazon.com, Inc.' (AMZN) with a total of 99 shares.\",\n",
      "        \"generation_info\": null,\n",
      "        \"type\": \"Generation\"\n",
      "      }\n",
      "    ]\n",
      "  ],\n",
      "  \"llm_output\": {\n",
      "    \"usage\": {\n",
      "      \"prompt_tokens\": 58,\n",
      "      \"completion_tokens\": 39,\n",
      "      \"total_tokens\": 97\n",
      "    },\n",
      "    \"stop_reason\": null\n",
      "  },\n",
      "  \"run\": null\n",
      "}\n",
      "\u001b[36;1m\u001b[1;3m[chain/end]\u001b[0m \u001b[1m[chain:RunnableSequence] [4.12s] Exiting Chain run with output:\n",
      "\u001b[0m{\n",
      "  \"output\": \"Based on the SQL query result, the stock you have the most shares of is 'Amazon.com, Inc.' (AMZN) with a total of 99 shares.\"\n",
      "}\n"
     ]
    },
    {
     "data": {
      "text/plain": [
       "\"Based on the SQL query result, the stock you have the most shares of is 'Amazon.com, Inc.' (AMZN) with a total of 99 shares.\""
      ]
     },
     "execution_count": 13,
     "metadata": {},
     "output_type": "execute_result"
    }
   ],
   "source": [
    "sql_chain.invoke(\n",
    "    {\"question\": \"Which stock I have the most shares?\"}, \n",
    "    config={'callbacks': [ConsoleCallbackHandler()]}\n",
    ")"
   ]
  },
  {
   "cell_type": "markdown",
   "id": "321c5dd1-a9eb-4947-86b2-fafabfa7dd4b",
   "metadata": {},
   "source": [
    "---\n",
    "\n",
    "## RAG Chain: Augmenting Language Models with Retrieval\n",
    "\n",
    "In addition to the SQL Chain for querying structured data, our multi-chain routing system incorporates a Retrieval-Augmented Generation (RAG) chain for retrieving and processing unstructured data, such as financial reports and shareholder letters.\n",
    "\n",
    "Mistral 8x7b is used for the RAG chain.\n",
    "\n",
    "---"
   ]
  },
  {
   "cell_type": "code",
   "execution_count": 14,
   "id": "b082117c-583f-4870-a3b6-d2addcb313d9",
   "metadata": {
    "tags": []
   },
   "outputs": [
    {
     "name": "stderr",
     "output_type": "stream",
     "text": [
      "100%|██████████| 1/1 [00:00<00:00,  4.03file/s]\n"
     ]
    }
   ],
   "source": [
    "from urllib.request import urlretrieve\n",
    "from tqdm import tqdm  # For progress bar\n",
    "\n",
    "url_filename_map = {\n",
    "    \"https://s2.q4cdn.com/299287126/files/doc_financials/2024/ar/Amazon-com-Inc-2023-Shareholder-Letter.pdf\": \"Amazon-com-Inc-2023-Shareholder-Letter.pdf\"\n",
    "}\n",
    "\n",
    "# Download files with progress bar\n",
    "for url, filename in tqdm(url_filename_map.items(), unit=\"file\"):\n",
    "    urlretrieve(url, os.path.join(workdir, filename))"
   ]
  },
  {
   "cell_type": "code",
   "execution_count": 15,
   "id": "fb1877b7-b73e-48d6-bd79-e0a49838ae7e",
   "metadata": {
    "tags": []
   },
   "outputs": [],
   "source": [
    "from langchain_community.document_loaders import PyPDFLoader\n",
    "\n",
    "loader = PyPDFLoader(f\"{workdir}/Amazon-com-Inc-2023-Shareholder-Letter.pdf\")\n",
    "pages = loader.load_and_split()"
   ]
  },
  {
   "cell_type": "markdown",
   "id": "5b8a6246-f61f-4996-8836-632342a58030",
   "metadata": {},
   "source": [
    "To set up the RAG chain, we need to use an embedding model to convert the text into embeddings, and store the embeddings in the vector database. [The Amazon Titan Text Embedding v2 model](https://docs.aws.amazon.com/bedrock/latest/userguide/titan-embedding-models.html) is used here. It can intake up to 8,192 tokens and outputs a vector of 1,024 dimensions. The model also works in 100+ different languages. The model is optimized for text retrieval tasks, but can also perform additional tasks, such as semantic similarity and clustering."
   ]
  },
  {
   "cell_type": "code",
   "execution_count": 16,
   "id": "727f7d89-9f55-4e46-8195-04ed5f97c9a1",
   "metadata": {
    "tags": []
   },
   "outputs": [],
   "source": [
    "from langchain.embeddings import BedrockEmbeddings\n",
    "from langchain_community.vectorstores import FAISS\n",
    "\n",
    "bedrock_runtime = boto3.client(service_name=\"bedrock-runtime\")\n",
    "bedrock_embeddings = BedrockEmbeddings(\n",
    "    model_id=\"amazon.titan-embed-text-v2:0\", client=bedrock_runtime\n",
    ")\n",
    "\n",
    "# Use the recursive character splitter\n",
    "vectorstore_faiss = FAISS.from_documents(\n",
    "    pages,\n",
    "    bedrock_embeddings,\n",
    ")\n",
    "vectorstore_faiss.save_local(f\"{workdir}/faiss_index\")"
   ]
  },
  {
   "cell_type": "code",
   "execution_count": 17,
   "id": "d795c238-9997-4843-8a11-e44bdfbedeb5",
   "metadata": {
    "tags": []
   },
   "outputs": [],
   "source": [
    "def format_docs(docs):\n",
    "    return \"\\n\\n\".join(doc.page_content for doc in docs)\n",
    "\n",
    "\n",
    "def get_question(input):\n",
    "    if not input:\n",
    "        return None\n",
    "    elif isinstance(input,str):\n",
    "        return input\n",
    "    elif isinstance(input,dict) and 'question' in input:\n",
    "        return input['question']\n",
    "    elif isinstance(input,BaseMessage):\n",
    "        return input.content\n",
    "    else:\n",
    "        raise Exception(\"string or dict with 'question' key expected as RAG chain input.\")\n",
    "\n",
    "\n",
    "context_template = \"\"\"\n",
    "<s>[INST]Use the given context to answer the question. \n",
    "If you don't know the answer, respond \"I don't know\".\n",
    "Keep your response as precise as possible and limit it to a few words. \n",
    "\n",
    "Here is the context:\n",
    "{context}\n",
    "\n",
    "Here is the question: \n",
    "{question}\n",
    "[/INST]\n",
    "\"\"\"\n",
    "\n",
    "rag_prompt = PromptTemplate.from_template(context_template)\n",
    "\n",
    "rag_chain = (\n",
    "    {\n",
    "        \"context\": RunnableLambda(get_question) | vectorstore_faiss.as_retriever(search_type=\"similarity\", search_kwargs={\"k\": 3}) | format_docs,\n",
    "        \"question\": RunnablePassthrough()\n",
    "    }\n",
    "    | rag_prompt\n",
    "    | mistral_8x7b_llm\n",
    ")"
   ]
  },
  {
   "cell_type": "code",
   "execution_count": 18,
   "id": "76ae82a3-0d5d-40aa-a7cc-d0cbadbdc006",
   "metadata": {
    "tags": []
   },
   "outputs": [
    {
     "name": "stdout",
     "output_type": "stream",
     "text": [
      "\u001b[32;1m\u001b[1;3m[chain/start]\u001b[0m \u001b[1m[chain:RunnableSequence] Entering Chain run with input:\n",
      "\u001b[0m{\n",
      "  \"question\": \"what's the biggest opportunity for Amazon?\"\n",
      "}\n",
      "\u001b[32;1m\u001b[1;3m[chain/start]\u001b[0m \u001b[1m[chain:RunnableSequence > chain:RunnableParallel<context,question>] Entering Chain run with input:\n",
      "\u001b[0m{\n",
      "  \"question\": \"what's the biggest opportunity for Amazon?\"\n",
      "}\n",
      "\u001b[32;1m\u001b[1;3m[chain/start]\u001b[0m \u001b[1m[chain:RunnableSequence > chain:RunnableParallel<context,question> > chain:RunnableSequence] Entering Chain run with input:\n",
      "\u001b[0m{\n",
      "  \"question\": \"what's the biggest opportunity for Amazon?\"\n",
      "}\n",
      "\u001b[32;1m\u001b[1;3m[chain/start]\u001b[0m \u001b[1m[chain:RunnableSequence > chain:RunnableParallel<context,question> > chain:RunnableSequence > chain:get_question] Entering Chain run with input:\n",
      "\u001b[0m{\n",
      "  \"question\": \"what's the biggest opportunity for Amazon?\"\n",
      "}\n",
      "\u001b[36;1m\u001b[1;3m[chain/end]\u001b[0m \u001b[1m[chain:RunnableSequence > chain:RunnableParallel<context,question> > chain:RunnableSequence > chain:get_question] [0ms] Exiting Chain run with output:\n",
      "\u001b[0m{\n",
      "  \"output\": \"what's the biggest opportunity for Amazon?\"\n",
      "}\n",
      "\u001b[32;1m\u001b[1;3m[chain/start]\u001b[0m \u001b[1m[chain:RunnableSequence > chain:RunnableParallel<context,question> > chain:RunnablePassthrough] Entering Chain run with input:\n",
      "\u001b[0m{\n",
      "  \"question\": \"what's the biggest opportunity for Amazon?\"\n",
      "}\n",
      "\u001b[36;1m\u001b[1;3m[chain/end]\u001b[0m \u001b[1m[chain:RunnableSequence > chain:RunnableParallel<context,question> > chain:RunnablePassthrough] [1ms] Exiting Chain run with output:\n",
      "\u001b[0m{\n",
      "  \"question\": \"what's the biggest opportunity for Amazon?\"\n",
      "}\n",
      "\u001b[32;1m\u001b[1;3m[chain/start]\u001b[0m \u001b[1m[chain:RunnableSequence > chain:RunnableParallel<context,question> > chain:RunnableSequence > chain:format_docs] Entering Chain run with input:\n",
      "\u001b[0m[inputs]\n",
      "\u001b[36;1m\u001b[1;3m[chain/end]\u001b[0m \u001b[1m[chain:RunnableSequence > chain:RunnableParallel<context,question> > chain:RunnableSequence > chain:format_docs] [1ms] Exiting Chain run with output:\n",
      "\u001b[0m{\n",
      "  \"output\": \"1997 LETTER TO SHAREHOLDERS\\n(Reprinted from the 1997 Annual Report)\\nTo our shareholders:\\nAmazon.com passed many milestones in 1997: by year-end, we had served more than 1.5 million customers,\\nyielding 838% revenue growth to $147.8 million, and extended our market leadership despite aggressivecompetitive entry.\\nBut this is Day 1 for the Internet and, if we execute well, for Amazon.com. Today, online commerce saves\\ncustomers money and precious time. Tomorrow, through personalization, online commerce will accelerate thevery process of discovery. Amazon.com uses the Internet to create real value for its customers and, by doing so,hopes to create an enduring franchise, even in established and large markets.\\nWe have a window of opportunity as larger players marshal the resources to pursue the online opportunity\\nand as customers, new to purchasing online, are receptive to forming new relationships. The competitivelandscape has continued to evolve at a fast pace. Many large players have moved online with credible offeringsand have devoted substantial energy and resources to building awareness, traffic, and sales. Our goal is to movequickly to solidify and extend our current position while we begin to pursue the online commerce opportunitiesin other areas. We see substantial opportunity in the large markets we are targeting. This strategy is not withoutrisk: it requires serious investment and crisp execution against established franchise leaders.\\nIt’s All About the Long Term\\nWe believe that a fundamental measure of our success will be the shareholder value we create over the long\\nterm. This value will be a direct result of our ability to extend and solidify our current market leadership position.\\nThe stronger our market leadership, the more powerful our economic model. Market leadership can translatedirectly to higher revenue, higher profitability, greater capital velocity, and correspondingly stronger returns oninvested capital.\\nOur decisions have consistently reflected this focus. We first measure ourselves in terms of the metrics most\\nindicative of our market leadership: customer and revenue growth, the degree to which our customers continue topurchase from us on a repeat basis, and the strength of our brand. We have invested and will continue to investaggressively to expand and leverage our customer base, brand, and infrastructure as we move to establish anenduring franchise.\\nBecause of our emphasis on the long term, we may make decisions and weigh tradeoffs differently than\\nsome companies. Accordingly, we want to share with you our fundamental management and decision-makingapproach so that you, our shareholders, may confirm that it is consistent with your investment philosophy:\\n• We will continue to focus relentlessly on our customers.• We will continue to make investment decisions in light of long-term market leadership considerations\\nrather than short-term profitability considerations or short-term Wall Street reactions.\\n• We will continue to measure our programs and the effectiveness of our investments analytically, to\\njettison those that do not provide acceptable returns, and to step up our investment in those that workbest. We will continue to learn from both our successes and our failures.\\n\\n• We will make bold rather than timid investment decisions where we see a sufficient probability of\\ngaining market leadership advantages. Some of these investments will pay off, others will not, and wewill have learned another valuable lesson in either case.\\n• When forced to choose between optimizing the appearance of our GAAP accounting and maximizing\\nthe present value of future cash flows, we’ll take the cash flows.\\n• We will share our strategic thought processes with you when we make bold choices (to the extent\\ncompetitive pressures allow), so that you may evaluate for yourselves whether we are making rationallong-term leadership investments.\\n• We will work hard to spend wisely and maintain our lean culture. We understand the importance of\\ncontinually reinforcing a cost-conscious culture, particularly in a business incurring net losses.\\n• We will balance our focus on growth with emphasis on long-term profitability and capital management.\\nAt this stage, we choose to prioritize growth because we believe that scale is central to achieving thepotential of our business model.\\n• We will continue to focus on hiring and retaining versatile and talented employees, and continue to\\nweight their compensation to stock options rather than cash. We know our success will be largelyaffected by our ability to attract and retain a motivated employee base, each of whom must think like,and therefore must actually be, an owner.\\nWe aren’t so bold as to claim that the above is the “right” investment philosophy, but it’s ours, and we\\nwould be remiss if we weren’t clear in the approach we have taken and will continue to take.\\nWith this foundation, we would like to turn to a review of our business focus, our progress in 1997, and our\\noutlook for the future.\\nObsess Over Customers\\nFrom the beginning, our focus has been on offering our customers compelling value. We realized that the\\nWeb was, and still is, the World Wide Wait. Therefore, we set out to offer customers something they simplycould not get any other way, and began serving them with books. We brought them much more selection thanwas possible in a physical store (our store would now occupy 6 football fields), and presented it in a useful, easy-to-search, and easy-to-browse format in a store open 365 days a year, 24 hours a day. We maintained a doggedfocus on improving the shopping experience, and in 1997 substantially enhanced our store. We now offercustomers gift certificates, 1-Click\\nSMshopping, and vastly more reviews, content, browsing options, and\\nrecommendation features. We dramatically lowered prices, further increasing customer value. Word of mouthremains the most powerful customer acquisition tool we have, and we are grateful for the trust our customershave placed in us. Repeat purchases and word of mouth have combined to make Amazon.com the market leaderin online bookselling.\\nBy many measures, Amazon.com came a long way in 1997:\\n• Sales grew from $15.7 million in 1996 to $147.8 million – an 838% increase.• Cumulative customer accounts grew from 180,000 to 1,510,000 – a 738% increase.• The percentage of orders from repeat customers grew from over 46% in the fourth quarter of 1996 to\\nover 58% in the same period in 1997.\\n• In terms of audience reach, per Media Metrix, our Web site went from a rank of 90th to within the\\ntop 20.\\n• We established long-term relationships with many important strategic partners, including America\\nOnline, Yahoo!, Excite, Netscape, GeoCities, AltaVista, @Home, and Prodigy.\\n\\n===Recently, I was asked a provocative question—how does Amazon remain resilient? While simple in its\\nwording, it’s profound because it gets to the heart of our success to date as well as for the future. The answerlies in our discipline around deeply held principles: 1/ hiring builders who are motivated to continuallyimprove and expand what’s possible; 2/ solving real customer challenges, rather than what we think may beinteresting technology; 3/ building in primitives so that we can innovate and experiment at the highest rate;4/ not wasting time trying to fight gravity (spoiler alert: you always lose)—when we discover technologythat enables better customer experiences, we embrace it; 5/ accepting and learning from failed experiments—actually becoming more energized to try again, with new knowledge to employ.\\nToday, we continue to operate in times of unprecedented change that come with unusual opportunities for\\ngrowth across the areas in which we operate. For instance, while we have a nearly $500B consumer business,about 80% of the worldwide retail market segment still resides in physical stores. Similarly, with a cloudcomputing business at nearly a $100B revenue run rate, more than 85% of the global IT spend is still\"\n",
      "}\n",
      "\u001b[36;1m\u001b[1;3m[chain/end]\u001b[0m \u001b[1m[chain:RunnableSequence > chain:RunnableParallel<context,question> > chain:RunnableSequence] [552ms] Exiting Chain run with output:\n",
      "\u001b[0m{\n",
      "  \"output\": \"1997 LETTER TO SHAREHOLDERS\\n(Reprinted from the 1997 Annual Report)\\nTo our shareholders:\\nAmazon.com passed many milestones in 1997: by year-end, we had served more than 1.5 million customers,\\nyielding 838% revenue growth to $147.8 million, and extended our market leadership despite aggressivecompetitive entry.\\nBut this is Day 1 for the Internet and, if we execute well, for Amazon.com. Today, online commerce saves\\ncustomers money and precious time. Tomorrow, through personalization, online commerce will accelerate thevery process of discovery. Amazon.com uses the Internet to create real value for its customers and, by doing so,hopes to create an enduring franchise, even in established and large markets.\\nWe have a window of opportunity as larger players marshal the resources to pursue the online opportunity\\nand as customers, new to purchasing online, are receptive to forming new relationships. The competitivelandscape has continued to evolve at a fast pace. Many large players have moved online with credible offeringsand have devoted substantial energy and resources to building awareness, traffic, and sales. Our goal is to movequickly to solidify and extend our current position while we begin to pursue the online commerce opportunitiesin other areas. We see substantial opportunity in the large markets we are targeting. This strategy is not withoutrisk: it requires serious investment and crisp execution against established franchise leaders.\\nIt’s All About the Long Term\\nWe believe that a fundamental measure of our success will be the shareholder value we create over the long\\nterm. This value will be a direct result of our ability to extend and solidify our current market leadership position.\\nThe stronger our market leadership, the more powerful our economic model. Market leadership can translatedirectly to higher revenue, higher profitability, greater capital velocity, and correspondingly stronger returns oninvested capital.\\nOur decisions have consistently reflected this focus. We first measure ourselves in terms of the metrics most\\nindicative of our market leadership: customer and revenue growth, the degree to which our customers continue topurchase from us on a repeat basis, and the strength of our brand. We have invested and will continue to investaggressively to expand and leverage our customer base, brand, and infrastructure as we move to establish anenduring franchise.\\nBecause of our emphasis on the long term, we may make decisions and weigh tradeoffs differently than\\nsome companies. Accordingly, we want to share with you our fundamental management and decision-makingapproach so that you, our shareholders, may confirm that it is consistent with your investment philosophy:\\n• We will continue to focus relentlessly on our customers.• We will continue to make investment decisions in light of long-term market leadership considerations\\nrather than short-term profitability considerations or short-term Wall Street reactions.\\n• We will continue to measure our programs and the effectiveness of our investments analytically, to\\njettison those that do not provide acceptable returns, and to step up our investment in those that workbest. We will continue to learn from both our successes and our failures.\\n\\n• We will make bold rather than timid investment decisions where we see a sufficient probability of\\ngaining market leadership advantages. Some of these investments will pay off, others will not, and wewill have learned another valuable lesson in either case.\\n• When forced to choose between optimizing the appearance of our GAAP accounting and maximizing\\nthe present value of future cash flows, we’ll take the cash flows.\\n• We will share our strategic thought processes with you when we make bold choices (to the extent\\ncompetitive pressures allow), so that you may evaluate for yourselves whether we are making rationallong-term leadership investments.\\n• We will work hard to spend wisely and maintain our lean culture. We understand the importance of\\ncontinually reinforcing a cost-conscious culture, particularly in a business incurring net losses.\\n• We will balance our focus on growth with emphasis on long-term profitability and capital management.\\nAt this stage, we choose to prioritize growth because we believe that scale is central to achieving thepotential of our business model.\\n• We will continue to focus on hiring and retaining versatile and talented employees, and continue to\\nweight their compensation to stock options rather than cash. We know our success will be largelyaffected by our ability to attract and retain a motivated employee base, each of whom must think like,and therefore must actually be, an owner.\\nWe aren’t so bold as to claim that the above is the “right” investment philosophy, but it’s ours, and we\\nwould be remiss if we weren’t clear in the approach we have taken and will continue to take.\\nWith this foundation, we would like to turn to a review of our business focus, our progress in 1997, and our\\noutlook for the future.\\nObsess Over Customers\\nFrom the beginning, our focus has been on offering our customers compelling value. We realized that the\\nWeb was, and still is, the World Wide Wait. Therefore, we set out to offer customers something they simplycould not get any other way, and began serving them with books. We brought them much more selection thanwas possible in a physical store (our store would now occupy 6 football fields), and presented it in a useful, easy-to-search, and easy-to-browse format in a store open 365 days a year, 24 hours a day. We maintained a doggedfocus on improving the shopping experience, and in 1997 substantially enhanced our store. We now offercustomers gift certificates, 1-Click\\nSMshopping, and vastly more reviews, content, browsing options, and\\nrecommendation features. We dramatically lowered prices, further increasing customer value. Word of mouthremains the most powerful customer acquisition tool we have, and we are grateful for the trust our customershave placed in us. Repeat purchases and word of mouth have combined to make Amazon.com the market leaderin online bookselling.\\nBy many measures, Amazon.com came a long way in 1997:\\n• Sales grew from $15.7 million in 1996 to $147.8 million – an 838% increase.• Cumulative customer accounts grew from 180,000 to 1,510,000 – a 738% increase.• The percentage of orders from repeat customers grew from over 46% in the fourth quarter of 1996 to\\nover 58% in the same period in 1997.\\n• In terms of audience reach, per Media Metrix, our Web site went from a rank of 90th to within the\\ntop 20.\\n• We established long-term relationships with many important strategic partners, including America\\nOnline, Yahoo!, Excite, Netscape, GeoCities, AltaVista, @Home, and Prodigy.\\n\\n===Recently, I was asked a provocative question—how does Amazon remain resilient? While simple in its\\nwording, it’s profound because it gets to the heart of our success to date as well as for the future. The answerlies in our discipline around deeply held principles: 1/ hiring builders who are motivated to continuallyimprove and expand what’s possible; 2/ solving real customer challenges, rather than what we think may beinteresting technology; 3/ building in primitives so that we can innovate and experiment at the highest rate;4/ not wasting time trying to fight gravity (spoiler alert: you always lose)—when we discover technologythat enables better customer experiences, we embrace it; 5/ accepting and learning from failed experiments—actually becoming more energized to try again, with new knowledge to employ.\\nToday, we continue to operate in times of unprecedented change that come with unusual opportunities for\\ngrowth across the areas in which we operate. For instance, while we have a nearly $500B consumer business,about 80% of the worldwide retail market segment still resides in physical stores. Similarly, with a cloudcomputing business at nearly a $100B revenue run rate, more than 85% of the global IT spend is still\"\n",
      "}\n",
      "\u001b[36;1m\u001b[1;3m[chain/end]\u001b[0m \u001b[1m[chain:RunnableSequence > chain:RunnableParallel<context,question>] [562ms] Exiting Chain run with output:\n",
      "\u001b[0m{\n",
      "  \"context\": \"1997 LETTER TO SHAREHOLDERS\\n(Reprinted from the 1997 Annual Report)\\nTo our shareholders:\\nAmazon.com passed many milestones in 1997: by year-end, we had served more than 1.5 million customers,\\nyielding 838% revenue growth to $147.8 million, and extended our market leadership despite aggressivecompetitive entry.\\nBut this is Day 1 for the Internet and, if we execute well, for Amazon.com. Today, online commerce saves\\ncustomers money and precious time. Tomorrow, through personalization, online commerce will accelerate thevery process of discovery. Amazon.com uses the Internet to create real value for its customers and, by doing so,hopes to create an enduring franchise, even in established and large markets.\\nWe have a window of opportunity as larger players marshal the resources to pursue the online opportunity\\nand as customers, new to purchasing online, are receptive to forming new relationships. The competitivelandscape has continued to evolve at a fast pace. Many large players have moved online with credible offeringsand have devoted substantial energy and resources to building awareness, traffic, and sales. Our goal is to movequickly to solidify and extend our current position while we begin to pursue the online commerce opportunitiesin other areas. We see substantial opportunity in the large markets we are targeting. This strategy is not withoutrisk: it requires serious investment and crisp execution against established franchise leaders.\\nIt’s All About the Long Term\\nWe believe that a fundamental measure of our success will be the shareholder value we create over the long\\nterm. This value will be a direct result of our ability to extend and solidify our current market leadership position.\\nThe stronger our market leadership, the more powerful our economic model. Market leadership can translatedirectly to higher revenue, higher profitability, greater capital velocity, and correspondingly stronger returns oninvested capital.\\nOur decisions have consistently reflected this focus. We first measure ourselves in terms of the metrics most\\nindicative of our market leadership: customer and revenue growth, the degree to which our customers continue topurchase from us on a repeat basis, and the strength of our brand. We have invested and will continue to investaggressively to expand and leverage our customer base, brand, and infrastructure as we move to establish anenduring franchise.\\nBecause of our emphasis on the long term, we may make decisions and weigh tradeoffs differently than\\nsome companies. Accordingly, we want to share with you our fundamental management and decision-makingapproach so that you, our shareholders, may confirm that it is consistent with your investment philosophy:\\n• We will continue to focus relentlessly on our customers.• We will continue to make investment decisions in light of long-term market leadership considerations\\nrather than short-term profitability considerations or short-term Wall Street reactions.\\n• We will continue to measure our programs and the effectiveness of our investments analytically, to\\njettison those that do not provide acceptable returns, and to step up our investment in those that workbest. We will continue to learn from both our successes and our failures.\\n\\n• We will make bold rather than timid investment decisions where we see a sufficient probability of\\ngaining market leadership advantages. Some of these investments will pay off, others will not, and wewill have learned another valuable lesson in either case.\\n• When forced to choose between optimizing the appearance of our GAAP accounting and maximizing\\nthe present value of future cash flows, we’ll take the cash flows.\\n• We will share our strategic thought processes with you when we make bold choices (to the extent\\ncompetitive pressures allow), so that you may evaluate for yourselves whether we are making rationallong-term leadership investments.\\n• We will work hard to spend wisely and maintain our lean culture. We understand the importance of\\ncontinually reinforcing a cost-conscious culture, particularly in a business incurring net losses.\\n• We will balance our focus on growth with emphasis on long-term profitability and capital management.\\nAt this stage, we choose to prioritize growth because we believe that scale is central to achieving thepotential of our business model.\\n• We will continue to focus on hiring and retaining versatile and talented employees, and continue to\\nweight their compensation to stock options rather than cash. We know our success will be largelyaffected by our ability to attract and retain a motivated employee base, each of whom must think like,and therefore must actually be, an owner.\\nWe aren’t so bold as to claim that the above is the “right” investment philosophy, but it’s ours, and we\\nwould be remiss if we weren’t clear in the approach we have taken and will continue to take.\\nWith this foundation, we would like to turn to a review of our business focus, our progress in 1997, and our\\noutlook for the future.\\nObsess Over Customers\\nFrom the beginning, our focus has been on offering our customers compelling value. We realized that the\\nWeb was, and still is, the World Wide Wait. Therefore, we set out to offer customers something they simplycould not get any other way, and began serving them with books. We brought them much more selection thanwas possible in a physical store (our store would now occupy 6 football fields), and presented it in a useful, easy-to-search, and easy-to-browse format in a store open 365 days a year, 24 hours a day. We maintained a doggedfocus on improving the shopping experience, and in 1997 substantially enhanced our store. We now offercustomers gift certificates, 1-Click\\nSMshopping, and vastly more reviews, content, browsing options, and\\nrecommendation features. We dramatically lowered prices, further increasing customer value. Word of mouthremains the most powerful customer acquisition tool we have, and we are grateful for the trust our customershave placed in us. Repeat purchases and word of mouth have combined to make Amazon.com the market leaderin online bookselling.\\nBy many measures, Amazon.com came a long way in 1997:\\n• Sales grew from $15.7 million in 1996 to $147.8 million – an 838% increase.• Cumulative customer accounts grew from 180,000 to 1,510,000 – a 738% increase.• The percentage of orders from repeat customers grew from over 46% in the fourth quarter of 1996 to\\nover 58% in the same period in 1997.\\n• In terms of audience reach, per Media Metrix, our Web site went from a rank of 90th to within the\\ntop 20.\\n• We established long-term relationships with many important strategic partners, including America\\nOnline, Yahoo!, Excite, Netscape, GeoCities, AltaVista, @Home, and Prodigy.\\n\\n===Recently, I was asked a provocative question—how does Amazon remain resilient? While simple in its\\nwording, it’s profound because it gets to the heart of our success to date as well as for the future. The answerlies in our discipline around deeply held principles: 1/ hiring builders who are motivated to continuallyimprove and expand what’s possible; 2/ solving real customer challenges, rather than what we think may beinteresting technology; 3/ building in primitives so that we can innovate and experiment at the highest rate;4/ not wasting time trying to fight gravity (spoiler alert: you always lose)—when we discover technologythat enables better customer experiences, we embrace it; 5/ accepting and learning from failed experiments—actually becoming more energized to try again, with new knowledge to employ.\\nToday, we continue to operate in times of unprecedented change that come with unusual opportunities for\\ngrowth across the areas in which we operate. For instance, while we have a nearly $500B consumer business,about 80% of the worldwide retail market segment still resides in physical stores. Similarly, with a cloudcomputing business at nearly a $100B revenue run rate, more than 85% of the global IT spend is still\",\n",
      "  \"question\": {\n",
      "    \"question\": \"what's the biggest opportunity for Amazon?\"\n",
      "  }\n",
      "}\n",
      "\u001b[32;1m\u001b[1;3m[chain/start]\u001b[0m \u001b[1m[chain:RunnableSequence > prompt:PromptTemplate] Entering Prompt run with input:\n",
      "\u001b[0m{\n",
      "  \"context\": \"1997 LETTER TO SHAREHOLDERS\\n(Reprinted from the 1997 Annual Report)\\nTo our shareholders:\\nAmazon.com passed many milestones in 1997: by year-end, we had served more than 1.5 million customers,\\nyielding 838% revenue growth to $147.8 million, and extended our market leadership despite aggressivecompetitive entry.\\nBut this is Day 1 for the Internet and, if we execute well, for Amazon.com. Today, online commerce saves\\ncustomers money and precious time. Tomorrow, through personalization, online commerce will accelerate thevery process of discovery. Amazon.com uses the Internet to create real value for its customers and, by doing so,hopes to create an enduring franchise, even in established and large markets.\\nWe have a window of opportunity as larger players marshal the resources to pursue the online opportunity\\nand as customers, new to purchasing online, are receptive to forming new relationships. The competitivelandscape has continued to evolve at a fast pace. Many large players have moved online with credible offeringsand have devoted substantial energy and resources to building awareness, traffic, and sales. Our goal is to movequickly to solidify and extend our current position while we begin to pursue the online commerce opportunitiesin other areas. We see substantial opportunity in the large markets we are targeting. This strategy is not withoutrisk: it requires serious investment and crisp execution against established franchise leaders.\\nIt’s All About the Long Term\\nWe believe that a fundamental measure of our success will be the shareholder value we create over the long\\nterm. This value will be a direct result of our ability to extend and solidify our current market leadership position.\\nThe stronger our market leadership, the more powerful our economic model. Market leadership can translatedirectly to higher revenue, higher profitability, greater capital velocity, and correspondingly stronger returns oninvested capital.\\nOur decisions have consistently reflected this focus. We first measure ourselves in terms of the metrics most\\nindicative of our market leadership: customer and revenue growth, the degree to which our customers continue topurchase from us on a repeat basis, and the strength of our brand. We have invested and will continue to investaggressively to expand and leverage our customer base, brand, and infrastructure as we move to establish anenduring franchise.\\nBecause of our emphasis on the long term, we may make decisions and weigh tradeoffs differently than\\nsome companies. Accordingly, we want to share with you our fundamental management and decision-makingapproach so that you, our shareholders, may confirm that it is consistent with your investment philosophy:\\n• We will continue to focus relentlessly on our customers.• We will continue to make investment decisions in light of long-term market leadership considerations\\nrather than short-term profitability considerations or short-term Wall Street reactions.\\n• We will continue to measure our programs and the effectiveness of our investments analytically, to\\njettison those that do not provide acceptable returns, and to step up our investment in those that workbest. We will continue to learn from both our successes and our failures.\\n\\n• We will make bold rather than timid investment decisions where we see a sufficient probability of\\ngaining market leadership advantages. Some of these investments will pay off, others will not, and wewill have learned another valuable lesson in either case.\\n• When forced to choose between optimizing the appearance of our GAAP accounting and maximizing\\nthe present value of future cash flows, we’ll take the cash flows.\\n• We will share our strategic thought processes with you when we make bold choices (to the extent\\ncompetitive pressures allow), so that you may evaluate for yourselves whether we are making rationallong-term leadership investments.\\n• We will work hard to spend wisely and maintain our lean culture. We understand the importance of\\ncontinually reinforcing a cost-conscious culture, particularly in a business incurring net losses.\\n• We will balance our focus on growth with emphasis on long-term profitability and capital management.\\nAt this stage, we choose to prioritize growth because we believe that scale is central to achieving thepotential of our business model.\\n• We will continue to focus on hiring and retaining versatile and talented employees, and continue to\\nweight their compensation to stock options rather than cash. We know our success will be largelyaffected by our ability to attract and retain a motivated employee base, each of whom must think like,and therefore must actually be, an owner.\\nWe aren’t so bold as to claim that the above is the “right” investment philosophy, but it’s ours, and we\\nwould be remiss if we weren’t clear in the approach we have taken and will continue to take.\\nWith this foundation, we would like to turn to a review of our business focus, our progress in 1997, and our\\noutlook for the future.\\nObsess Over Customers\\nFrom the beginning, our focus has been on offering our customers compelling value. We realized that the\\nWeb was, and still is, the World Wide Wait. Therefore, we set out to offer customers something they simplycould not get any other way, and began serving them with books. We brought them much more selection thanwas possible in a physical store (our store would now occupy 6 football fields), and presented it in a useful, easy-to-search, and easy-to-browse format in a store open 365 days a year, 24 hours a day. We maintained a doggedfocus on improving the shopping experience, and in 1997 substantially enhanced our store. We now offercustomers gift certificates, 1-Click\\nSMshopping, and vastly more reviews, content, browsing options, and\\nrecommendation features. We dramatically lowered prices, further increasing customer value. Word of mouthremains the most powerful customer acquisition tool we have, and we are grateful for the trust our customershave placed in us. Repeat purchases and word of mouth have combined to make Amazon.com the market leaderin online bookselling.\\nBy many measures, Amazon.com came a long way in 1997:\\n• Sales grew from $15.7 million in 1996 to $147.8 million – an 838% increase.• Cumulative customer accounts grew from 180,000 to 1,510,000 – a 738% increase.• The percentage of orders from repeat customers grew from over 46% in the fourth quarter of 1996 to\\nover 58% in the same period in 1997.\\n• In terms of audience reach, per Media Metrix, our Web site went from a rank of 90th to within the\\ntop 20.\\n• We established long-term relationships with many important strategic partners, including America\\nOnline, Yahoo!, Excite, Netscape, GeoCities, AltaVista, @Home, and Prodigy.\\n\\n===Recently, I was asked a provocative question—how does Amazon remain resilient? While simple in its\\nwording, it’s profound because it gets to the heart of our success to date as well as for the future. The answerlies in our discipline around deeply held principles: 1/ hiring builders who are motivated to continuallyimprove and expand what’s possible; 2/ solving real customer challenges, rather than what we think may beinteresting technology; 3/ building in primitives so that we can innovate and experiment at the highest rate;4/ not wasting time trying to fight gravity (spoiler alert: you always lose)—when we discover technologythat enables better customer experiences, we embrace it; 5/ accepting and learning from failed experiments—actually becoming more energized to try again, with new knowledge to employ.\\nToday, we continue to operate in times of unprecedented change that come with unusual opportunities for\\ngrowth across the areas in which we operate. For instance, while we have a nearly $500B consumer business,about 80% of the worldwide retail market segment still resides in physical stores. Similarly, with a cloudcomputing business at nearly a $100B revenue run rate, more than 85% of the global IT spend is still\",\n",
      "  \"question\": {\n",
      "    \"question\": \"what's the biggest opportunity for Amazon?\"\n",
      "  }\n",
      "}\n",
      "\u001b[36;1m\u001b[1;3m[chain/end]\u001b[0m \u001b[1m[chain:RunnableSequence > prompt:PromptTemplate] [1ms] Exiting Prompt run with output:\n",
      "\u001b[0m[outputs]\n",
      "\u001b[32;1m\u001b[1;3m[llm/start]\u001b[0m \u001b[1m[chain:RunnableSequence > llm:BedrockLLM] Entering LLM run with input:\n",
      "\u001b[0m{\n",
      "  \"prompts\": [\n",
      "    \"<s>[INST]Use the given context to answer the question. \\nIf you don't know the answer, respond \\\"I don't know\\\".\\nKeep your response as precise as possible and limit it to a few words. \\n\\nHere is the context:\\n1997 LETTER TO SHAREHOLDERS\\n(Reprinted from the 1997 Annual Report)\\nTo our shareholders:\\nAmazon.com passed many milestones in 1997: by year-end, we had served more than 1.5 million customers,\\nyielding 838% revenue growth to $147.8 million, and extended our market leadership despite aggressivecompetitive entry.\\nBut this is Day 1 for the Internet and, if we execute well, for Amazon.com. Today, online commerce saves\\ncustomers money and precious time. Tomorrow, through personalization, online commerce will accelerate thevery process of discovery. Amazon.com uses the Internet to create real value for its customers and, by doing so,hopes to create an enduring franchise, even in established and large markets.\\nWe have a window of opportunity as larger players marshal the resources to pursue the online opportunity\\nand as customers, new to purchasing online, are receptive to forming new relationships. The competitivelandscape has continued to evolve at a fast pace. Many large players have moved online with credible offeringsand have devoted substantial energy and resources to building awareness, traffic, and sales. Our goal is to movequickly to solidify and extend our current position while we begin to pursue the online commerce opportunitiesin other areas. We see substantial opportunity in the large markets we are targeting. This strategy is not withoutrisk: it requires serious investment and crisp execution against established franchise leaders.\\nIt’s All About the Long Term\\nWe believe that a fundamental measure of our success will be the shareholder value we create over the long\\nterm. This value will be a direct result of our ability to extend and solidify our current market leadership position.\\nThe stronger our market leadership, the more powerful our economic model. Market leadership can translatedirectly to higher revenue, higher profitability, greater capital velocity, and correspondingly stronger returns oninvested capital.\\nOur decisions have consistently reflected this focus. We first measure ourselves in terms of the metrics most\\nindicative of our market leadership: customer and revenue growth, the degree to which our customers continue topurchase from us on a repeat basis, and the strength of our brand. We have invested and will continue to investaggressively to expand and leverage our customer base, brand, and infrastructure as we move to establish anenduring franchise.\\nBecause of our emphasis on the long term, we may make decisions and weigh tradeoffs differently than\\nsome companies. Accordingly, we want to share with you our fundamental management and decision-makingapproach so that you, our shareholders, may confirm that it is consistent with your investment philosophy:\\n• We will continue to focus relentlessly on our customers.• We will continue to make investment decisions in light of long-term market leadership considerations\\nrather than short-term profitability considerations or short-term Wall Street reactions.\\n• We will continue to measure our programs and the effectiveness of our investments analytically, to\\njettison those that do not provide acceptable returns, and to step up our investment in those that workbest. We will continue to learn from both our successes and our failures.\\n\\n• We will make bold rather than timid investment decisions where we see a sufficient probability of\\ngaining market leadership advantages. Some of these investments will pay off, others will not, and wewill have learned another valuable lesson in either case.\\n• When forced to choose between optimizing the appearance of our GAAP accounting and maximizing\\nthe present value of future cash flows, we’ll take the cash flows.\\n• We will share our strategic thought processes with you when we make bold choices (to the extent\\ncompetitive pressures allow), so that you may evaluate for yourselves whether we are making rationallong-term leadership investments.\\n• We will work hard to spend wisely and maintain our lean culture. We understand the importance of\\ncontinually reinforcing a cost-conscious culture, particularly in a business incurring net losses.\\n• We will balance our focus on growth with emphasis on long-term profitability and capital management.\\nAt this stage, we choose to prioritize growth because we believe that scale is central to achieving thepotential of our business model.\\n• We will continue to focus on hiring and retaining versatile and talented employees, and continue to\\nweight their compensation to stock options rather than cash. We know our success will be largelyaffected by our ability to attract and retain a motivated employee base, each of whom must think like,and therefore must actually be, an owner.\\nWe aren’t so bold as to claim that the above is the “right” investment philosophy, but it’s ours, and we\\nwould be remiss if we weren’t clear in the approach we have taken and will continue to take.\\nWith this foundation, we would like to turn to a review of our business focus, our progress in 1997, and our\\noutlook for the future.\\nObsess Over Customers\\nFrom the beginning, our focus has been on offering our customers compelling value. We realized that the\\nWeb was, and still is, the World Wide Wait. Therefore, we set out to offer customers something they simplycould not get any other way, and began serving them with books. We brought them much more selection thanwas possible in a physical store (our store would now occupy 6 football fields), and presented it in a useful, easy-to-search, and easy-to-browse format in a store open 365 days a year, 24 hours a day. We maintained a doggedfocus on improving the shopping experience, and in 1997 substantially enhanced our store. We now offercustomers gift certificates, 1-Click\\nSMshopping, and vastly more reviews, content, browsing options, and\\nrecommendation features. We dramatically lowered prices, further increasing customer value. Word of mouthremains the most powerful customer acquisition tool we have, and we are grateful for the trust our customershave placed in us. Repeat purchases and word of mouth have combined to make Amazon.com the market leaderin online bookselling.\\nBy many measures, Amazon.com came a long way in 1997:\\n• Sales grew from $15.7 million in 1996 to $147.8 million – an 838% increase.• Cumulative customer accounts grew from 180,000 to 1,510,000 – a 738% increase.• The percentage of orders from repeat customers grew from over 46% in the fourth quarter of 1996 to\\nover 58% in the same period in 1997.\\n• In terms of audience reach, per Media Metrix, our Web site went from a rank of 90th to within the\\ntop 20.\\n• We established long-term relationships with many important strategic partners, including America\\nOnline, Yahoo!, Excite, Netscape, GeoCities, AltaVista, @Home, and Prodigy.\\n\\n===Recently, I was asked a provocative question—how does Amazon remain resilient? While simple in its\\nwording, it’s profound because it gets to the heart of our success to date as well as for the future. The answerlies in our discipline around deeply held principles: 1/ hiring builders who are motivated to continuallyimprove and expand what’s possible; 2/ solving real customer challenges, rather than what we think may beinteresting technology; 3/ building in primitives so that we can innovate and experiment at the highest rate;4/ not wasting time trying to fight gravity (spoiler alert: you always lose)—when we discover technologythat enables better customer experiences, we embrace it; 5/ accepting and learning from failed experiments—actually becoming more energized to try again, with new knowledge to employ.\\nToday, we continue to operate in times of unprecedented change that come with unusual opportunities for\\ngrowth across the areas in which we operate. For instance, while we have a nearly $500B consumer business,about 80% of the worldwide retail market segment still resides in physical stores. Similarly, with a cloudcomputing business at nearly a $100B revenue run rate, more than 85% of the global IT spend is still\\n\\nHere is the question: \\n{'question': \\\"what's the biggest opportunity for Amazon?\\\"}\\n[/INST]\"\n",
      "  ]\n",
      "}\n"
     ]
    },
    {
     "name": "stderr",
     "output_type": "stream",
     "text": [
      "Error in ConsoleCallbackHandler.on_llm_end callback: TracerException('No indexed run ID 5955e7ca-a266-46a8-8a40-a6831cc0f305.')\n"
     ]
    },
    {
     "name": "stdout",
     "output_type": "stream",
     "text": [
      "\u001b[36;1m\u001b[1;3m[llm/end]\u001b[0m \u001b[1m[chain:RunnableSequence > llm:BedrockLLM] [1.03s] Exiting LLM run with output:\n",
      "\u001b[0m{\n",
      "  \"generations\": [\n",
      "    [\n",
      "      {\n",
      "        \"text\": \"The biggest opportunity for Amazon is the untapped potential in the physical retail market and the global IT spend for its cloud computing business.\",\n",
      "        \"generation_info\": null,\n",
      "        \"type\": \"Generation\"\n",
      "      }\n",
      "    ]\n",
      "  ],\n",
      "  \"llm_output\": {\n",
      "    \"usage\": {\n",
      "      \"prompt_tokens\": 1914,\n",
      "      \"completion_tokens\": 27,\n",
      "      \"total_tokens\": 1941\n",
      "    },\n",
      "    \"stop_reason\": null\n",
      "  },\n",
      "  \"run\": null\n",
      "}\n",
      "\u001b[36;1m\u001b[1;3m[chain/end]\u001b[0m \u001b[1m[chain:RunnableSequence] [1.61s] Exiting Chain run with output:\n",
      "\u001b[0m{\n",
      "  \"output\": \"The biggest opportunity for Amazon is the untapped potential in the physical retail market and the global IT spend for its cloud computing business.\"\n",
      "}\n"
     ]
    },
    {
     "data": {
      "text/plain": [
       "'The biggest opportunity for Amazon is the untapped potential in the physical retail market and the global IT spend for its cloud computing business.'"
      ]
     },
     "execution_count": 18,
     "metadata": {},
     "output_type": "execute_result"
    }
   ],
   "source": [
    "rag_chain.invoke(\n",
    "    {\"question\": \"what's the biggest opportunity for Amazon?\"},\n",
    "    config={'callbacks': [ConsoleCallbackHandler()]}\n",
    ")"
   ]
  },
  {
   "cell_type": "markdown",
   "id": "658212fa-409d-479b-9683-a18f5a471cf0",
   "metadata": {},
   "source": [
    "---\n",
    "\n",
    "## Web Search Chain: Retrieving News\n",
    "\n",
    "In addition to querying structured data and analyzing unstructured documents, our multi-chain routing system incorporates a Web Search Chain to retrieve relevant news articles from the internet. This capability is essential in the financial services industry, where staying up-to-date with the latest news and developments can significantly impact investment decisions and financial analysis.\n",
    "\n",
    "Langchain supports many [search tools](https://python.langchain.com/v0.1/docs/integrations/tools/search_tools/), including DuckDuckGo, Google Search, Bing Search etc. Here as an example, we will use DuckDuckGo.\n",
    "\n",
    "\n",
    "Mistral 7B is used as an example.\n",
    "\n",
    "---"
   ]
  },
  {
   "cell_type": "code",
   "execution_count": 19,
   "id": "f2b96fce-6b4d-4b6e-93c5-09fb271669db",
   "metadata": {
    "tags": []
   },
   "outputs": [],
   "source": [
    "from langchain_community.tools import DuckDuckGoSearchResults\n",
    "\n",
    "search_prompt_template = '''\n",
    "<s>[INST]Use the given search result to answer the question. \n",
    "If you don't know the answer, respond \"I don't know\".\n",
    "Keep your response as precise as possible and limit it to a few words. \n",
    "\n",
    "Here is search result:\n",
    "{search_result}\n",
    "\n",
    "Here is the question: \n",
    "{question}\n",
    "[/INST]\n",
    "'''\n",
    "\n",
    "search = DuckDuckGoSearchResults(backend=\"news\")\n",
    "search_prompt = PromptTemplate.from_template(search_prompt_template)\n",
    "\n",
    "search_chain = (\n",
    "    {\n",
    "        \"search_result\": RunnableLambda(get_question) | search.run,\n",
    "        \"question\": RunnablePassthrough()\n",
    "    }\n",
    "    | search_prompt\n",
    "    | mistral_7b_llm\n",
    ")"
   ]
  },
  {
   "cell_type": "code",
   "execution_count": 20,
   "id": "ebcdd351-f53a-4b5d-9133-462e048e9947",
   "metadata": {
    "tags": []
   },
   "outputs": [
    {
     "data": {
      "text/plain": [
       "\"Nvidia's earnings report and a bullish sales forecast led to a surge in Nvidia's stock price. The S&P 500 and Nasdaq Composite reached new record highs ahead of Nvidia's earnings report. The market is gearing up for this report and extending a record-setting rally. (Sources: Business Insider, Yahoo Finance, Business Insider)\""
      ]
     },
     "execution_count": 20,
     "metadata": {},
     "output_type": "execute_result"
    }
   ],
   "source": [
    "search_chain.invoke(\n",
    "    {\"question\":\"what's new for stock market today?\"}\n",
    ")"
   ]
  },
  {
   "cell_type": "markdown",
   "id": "898dbbae-ac13-432a-a772-78da78813fbc",
   "metadata": {},
   "source": [
    "---\n",
    "\n",
    "## Dynamic multi-chain routing\n",
    "\n",
    "\n",
    "Now we wrap up the three chains into a single pipeline.\n",
    "\n",
    "---"
   ]
  },
  {
   "cell_type": "code",
   "execution_count": 21,
   "id": "cdc58f31-e508-42a2-8d2d-de752431851b",
   "metadata": {
    "tags": []
   },
   "outputs": [],
   "source": [
    "prompt_template='''\n",
    "<s>[INST]Given the user question below, classify it as either being about `my-investment`, `company-financial-reports`, or `news`.\n",
    "\n",
    "Do not respond with more than one word.\n",
    "\n",
    "<question>\n",
    "{question}\n",
    "</question>\n",
    "[/INST]\n",
    "'''\n",
    "chain_prompt = PromptTemplate.from_template(prompt_template)\n",
    "\n",
    "chain = (\n",
    "    chain_prompt\n",
    "    | mistral_large_llm\n",
    "    | StrOutputParser()\n",
    ")"
   ]
  },
  {
   "cell_type": "code",
   "execution_count": 22,
   "id": "64a8907b-eacc-416a-896b-b1fe17442813",
   "metadata": {
    "tags": []
   },
   "outputs": [],
   "source": [
    "def route(info):\n",
    "    if \"my-investment\" in info[\"topic\"].lower():\n",
    "        return sql_chain\n",
    "    elif \"company-financial-reports\" in info[\"topic\"].lower():\n",
    "        return rag_chain\n",
    "    else:\n",
    "        return search_chain"
   ]
  },
  {
   "cell_type": "code",
   "execution_count": 23,
   "id": "596193d5-c0b7-4e08-9c7e-37968070f645",
   "metadata": {
    "tags": []
   },
   "outputs": [],
   "source": [
    "full_chain = {\n",
    "    \"topic\": chain, \"question\": lambda x: x[\"question\"]\n",
    "} | RunnableLambda(route)"
   ]
  },
  {
   "cell_type": "code",
   "execution_count": 24,
   "id": "788546ec-7d0a-4ac2-9645-ead8ce937dcb",
   "metadata": {
    "tags": []
   },
   "outputs": [
    {
     "data": {
      "text/plain": [
       "'Based on the SQL query result, the company you have the most shares in is Amazon.com, Inc.'"
      ]
     },
     "execution_count": 24,
     "metadata": {},
     "output_type": "execute_result"
    }
   ],
   "source": [
    "full_chain.invoke({\"question\": \"Which company do I have the most shares?\"})"
   ]
  },
  {
   "cell_type": "code",
   "execution_count": 25,
   "id": "0daa2b5d-6bd7-4f72-8bd3-81943e66e652",
   "metadata": {
    "tags": []
   },
   "outputs": [
    {
     "data": {
      "text/plain": [
       "'The biggest opportunity for Amazon, as mentioned in the shareholder letter, is in the large markets they are targeting and the potential of online commerce. They aim to create an enduring franchise, even in established and large markets, by using the internet to create real value for their customers. They see substantial opportunity in pursuing online commerce opportunities in other areas, expanding their product offerings, and better serving customers overseas.'"
      ]
     },
     "execution_count": 25,
     "metadata": {},
     "output_type": "execute_result"
    }
   ],
   "source": [
    "full_chain.invoke({\"question\": \"What's amazon's biggest opportunity in its shareholder letter?\"})"
   ]
  },
  {
   "cell_type": "code",
   "execution_count": 26,
   "id": "ac786598-66ca-46eb-a8aa-4d9e458dc2be",
   "metadata": {
    "tags": []
   },
   "outputs": [
    {
     "data": {
      "text/plain": [
       "'The U.S. stock markets are holding steadier after a volatile day, with the S&P 500 up 0.4%. Ether fell 2% to around $3,679 after U.S. regulators took a step forward towards allowing Ether ETFs. The Dow suffered its worst percentage decline since March 2023, with a 605-point stumble. (Sources: MarketWatch, MSN)'"
      ]
     },
     "execution_count": 26,
     "metadata": {},
     "output_type": "execute_result"
    }
   ],
   "source": [
    "full_chain.invoke({\"question\": \"What's new about stock market today?\"})"
   ]
  },
  {
   "cell_type": "code",
   "execution_count": null,
   "id": "d8ed7fc9-6e17-4a30-8953-bd8d63f97212",
   "metadata": {},
   "outputs": [],
   "source": []
  }
 ],
 "metadata": {
  "availableInstances": [
   {
    "_defaultOrder": 0,
    "_isFastLaunch": true,
    "category": "General purpose",
    "gpuNum": 0,
    "hideHardwareSpecs": false,
    "memoryGiB": 4,
    "name": "ml.t3.medium",
    "vcpuNum": 2
   },
   {
    "_defaultOrder": 1,
    "_isFastLaunch": false,
    "category": "General purpose",
    "gpuNum": 0,
    "hideHardwareSpecs": false,
    "memoryGiB": 8,
    "name": "ml.t3.large",
    "vcpuNum": 2
   },
   {
    "_defaultOrder": 2,
    "_isFastLaunch": false,
    "category": "General purpose",
    "gpuNum": 0,
    "hideHardwareSpecs": false,
    "memoryGiB": 16,
    "name": "ml.t3.xlarge",
    "vcpuNum": 4
   },
   {
    "_defaultOrder": 3,
    "_isFastLaunch": false,
    "category": "General purpose",
    "gpuNum": 0,
    "hideHardwareSpecs": false,
    "memoryGiB": 32,
    "name": "ml.t3.2xlarge",
    "vcpuNum": 8
   },
   {
    "_defaultOrder": 4,
    "_isFastLaunch": true,
    "category": "General purpose",
    "gpuNum": 0,
    "hideHardwareSpecs": false,
    "memoryGiB": 8,
    "name": "ml.m5.large",
    "vcpuNum": 2
   },
   {
    "_defaultOrder": 5,
    "_isFastLaunch": false,
    "category": "General purpose",
    "gpuNum": 0,
    "hideHardwareSpecs": false,
    "memoryGiB": 16,
    "name": "ml.m5.xlarge",
    "vcpuNum": 4
   },
   {
    "_defaultOrder": 6,
    "_isFastLaunch": false,
    "category": "General purpose",
    "gpuNum": 0,
    "hideHardwareSpecs": false,
    "memoryGiB": 32,
    "name": "ml.m5.2xlarge",
    "vcpuNum": 8
   },
   {
    "_defaultOrder": 7,
    "_isFastLaunch": false,
    "category": "General purpose",
    "gpuNum": 0,
    "hideHardwareSpecs": false,
    "memoryGiB": 64,
    "name": "ml.m5.4xlarge",
    "vcpuNum": 16
   },
   {
    "_defaultOrder": 8,
    "_isFastLaunch": false,
    "category": "General purpose",
    "gpuNum": 0,
    "hideHardwareSpecs": false,
    "memoryGiB": 128,
    "name": "ml.m5.8xlarge",
    "vcpuNum": 32
   },
   {
    "_defaultOrder": 9,
    "_isFastLaunch": false,
    "category": "General purpose",
    "gpuNum": 0,
    "hideHardwareSpecs": false,
    "memoryGiB": 192,
    "name": "ml.m5.12xlarge",
    "vcpuNum": 48
   },
   {
    "_defaultOrder": 10,
    "_isFastLaunch": false,
    "category": "General purpose",
    "gpuNum": 0,
    "hideHardwareSpecs": false,
    "memoryGiB": 256,
    "name": "ml.m5.16xlarge",
    "vcpuNum": 64
   },
   {
    "_defaultOrder": 11,
    "_isFastLaunch": false,
    "category": "General purpose",
    "gpuNum": 0,
    "hideHardwareSpecs": false,
    "memoryGiB": 384,
    "name": "ml.m5.24xlarge",
    "vcpuNum": 96
   },
   {
    "_defaultOrder": 12,
    "_isFastLaunch": false,
    "category": "General purpose",
    "gpuNum": 0,
    "hideHardwareSpecs": false,
    "memoryGiB": 8,
    "name": "ml.m5d.large",
    "vcpuNum": 2
   },
   {
    "_defaultOrder": 13,
    "_isFastLaunch": false,
    "category": "General purpose",
    "gpuNum": 0,
    "hideHardwareSpecs": false,
    "memoryGiB": 16,
    "name": "ml.m5d.xlarge",
    "vcpuNum": 4
   },
   {
    "_defaultOrder": 14,
    "_isFastLaunch": false,
    "category": "General purpose",
    "gpuNum": 0,
    "hideHardwareSpecs": false,
    "memoryGiB": 32,
    "name": "ml.m5d.2xlarge",
    "vcpuNum": 8
   },
   {
    "_defaultOrder": 15,
    "_isFastLaunch": false,
    "category": "General purpose",
    "gpuNum": 0,
    "hideHardwareSpecs": false,
    "memoryGiB": 64,
    "name": "ml.m5d.4xlarge",
    "vcpuNum": 16
   },
   {
    "_defaultOrder": 16,
    "_isFastLaunch": false,
    "category": "General purpose",
    "gpuNum": 0,
    "hideHardwareSpecs": false,
    "memoryGiB": 128,
    "name": "ml.m5d.8xlarge",
    "vcpuNum": 32
   },
   {
    "_defaultOrder": 17,
    "_isFastLaunch": false,
    "category": "General purpose",
    "gpuNum": 0,
    "hideHardwareSpecs": false,
    "memoryGiB": 192,
    "name": "ml.m5d.12xlarge",
    "vcpuNum": 48
   },
   {
    "_defaultOrder": 18,
    "_isFastLaunch": false,
    "category": "General purpose",
    "gpuNum": 0,
    "hideHardwareSpecs": false,
    "memoryGiB": 256,
    "name": "ml.m5d.16xlarge",
    "vcpuNum": 64
   },
   {
    "_defaultOrder": 19,
    "_isFastLaunch": false,
    "category": "General purpose",
    "gpuNum": 0,
    "hideHardwareSpecs": false,
    "memoryGiB": 384,
    "name": "ml.m5d.24xlarge",
    "vcpuNum": 96
   },
   {
    "_defaultOrder": 20,
    "_isFastLaunch": false,
    "category": "General purpose",
    "gpuNum": 0,
    "hideHardwareSpecs": true,
    "memoryGiB": 0,
    "name": "ml.geospatial.interactive",
    "supportedImageNames": [
     "sagemaker-geospatial-v1-0"
    ],
    "vcpuNum": 0
   },
   {
    "_defaultOrder": 21,
    "_isFastLaunch": true,
    "category": "Compute optimized",
    "gpuNum": 0,
    "hideHardwareSpecs": false,
    "memoryGiB": 4,
    "name": "ml.c5.large",
    "vcpuNum": 2
   },
   {
    "_defaultOrder": 22,
    "_isFastLaunch": false,
    "category": "Compute optimized",
    "gpuNum": 0,
    "hideHardwareSpecs": false,
    "memoryGiB": 8,
    "name": "ml.c5.xlarge",
    "vcpuNum": 4
   },
   {
    "_defaultOrder": 23,
    "_isFastLaunch": false,
    "category": "Compute optimized",
    "gpuNum": 0,
    "hideHardwareSpecs": false,
    "memoryGiB": 16,
    "name": "ml.c5.2xlarge",
    "vcpuNum": 8
   },
   {
    "_defaultOrder": 24,
    "_isFastLaunch": false,
    "category": "Compute optimized",
    "gpuNum": 0,
    "hideHardwareSpecs": false,
    "memoryGiB": 32,
    "name": "ml.c5.4xlarge",
    "vcpuNum": 16
   },
   {
    "_defaultOrder": 25,
    "_isFastLaunch": false,
    "category": "Compute optimized",
    "gpuNum": 0,
    "hideHardwareSpecs": false,
    "memoryGiB": 72,
    "name": "ml.c5.9xlarge",
    "vcpuNum": 36
   },
   {
    "_defaultOrder": 26,
    "_isFastLaunch": false,
    "category": "Compute optimized",
    "gpuNum": 0,
    "hideHardwareSpecs": false,
    "memoryGiB": 96,
    "name": "ml.c5.12xlarge",
    "vcpuNum": 48
   },
   {
    "_defaultOrder": 27,
    "_isFastLaunch": false,
    "category": "Compute optimized",
    "gpuNum": 0,
    "hideHardwareSpecs": false,
    "memoryGiB": 144,
    "name": "ml.c5.18xlarge",
    "vcpuNum": 72
   },
   {
    "_defaultOrder": 28,
    "_isFastLaunch": false,
    "category": "Compute optimized",
    "gpuNum": 0,
    "hideHardwareSpecs": false,
    "memoryGiB": 192,
    "name": "ml.c5.24xlarge",
    "vcpuNum": 96
   },
   {
    "_defaultOrder": 29,
    "_isFastLaunch": true,
    "category": "Accelerated computing",
    "gpuNum": 1,
    "hideHardwareSpecs": false,
    "memoryGiB": 16,
    "name": "ml.g4dn.xlarge",
    "vcpuNum": 4
   },
   {
    "_defaultOrder": 30,
    "_isFastLaunch": false,
    "category": "Accelerated computing",
    "gpuNum": 1,
    "hideHardwareSpecs": false,
    "memoryGiB": 32,
    "name": "ml.g4dn.2xlarge",
    "vcpuNum": 8
   },
   {
    "_defaultOrder": 31,
    "_isFastLaunch": false,
    "category": "Accelerated computing",
    "gpuNum": 1,
    "hideHardwareSpecs": false,
    "memoryGiB": 64,
    "name": "ml.g4dn.4xlarge",
    "vcpuNum": 16
   },
   {
    "_defaultOrder": 32,
    "_isFastLaunch": false,
    "category": "Accelerated computing",
    "gpuNum": 1,
    "hideHardwareSpecs": false,
    "memoryGiB": 128,
    "name": "ml.g4dn.8xlarge",
    "vcpuNum": 32
   },
   {
    "_defaultOrder": 33,
    "_isFastLaunch": false,
    "category": "Accelerated computing",
    "gpuNum": 4,
    "hideHardwareSpecs": false,
    "memoryGiB": 192,
    "name": "ml.g4dn.12xlarge",
    "vcpuNum": 48
   },
   {
    "_defaultOrder": 34,
    "_isFastLaunch": false,
    "category": "Accelerated computing",
    "gpuNum": 1,
    "hideHardwareSpecs": false,
    "memoryGiB": 256,
    "name": "ml.g4dn.16xlarge",
    "vcpuNum": 64
   },
   {
    "_defaultOrder": 35,
    "_isFastLaunch": false,
    "category": "Accelerated computing",
    "gpuNum": 1,
    "hideHardwareSpecs": false,
    "memoryGiB": 61,
    "name": "ml.p3.2xlarge",
    "vcpuNum": 8
   },
   {
    "_defaultOrder": 36,
    "_isFastLaunch": false,
    "category": "Accelerated computing",
    "gpuNum": 4,
    "hideHardwareSpecs": false,
    "memoryGiB": 244,
    "name": "ml.p3.8xlarge",
    "vcpuNum": 32
   },
   {
    "_defaultOrder": 37,
    "_isFastLaunch": false,
    "category": "Accelerated computing",
    "gpuNum": 8,
    "hideHardwareSpecs": false,
    "memoryGiB": 488,
    "name": "ml.p3.16xlarge",
    "vcpuNum": 64
   },
   {
    "_defaultOrder": 38,
    "_isFastLaunch": false,
    "category": "Accelerated computing",
    "gpuNum": 8,
    "hideHardwareSpecs": false,
    "memoryGiB": 768,
    "name": "ml.p3dn.24xlarge",
    "vcpuNum": 96
   },
   {
    "_defaultOrder": 39,
    "_isFastLaunch": false,
    "category": "Memory Optimized",
    "gpuNum": 0,
    "hideHardwareSpecs": false,
    "memoryGiB": 16,
    "name": "ml.r5.large",
    "vcpuNum": 2
   },
   {
    "_defaultOrder": 40,
    "_isFastLaunch": false,
    "category": "Memory Optimized",
    "gpuNum": 0,
    "hideHardwareSpecs": false,
    "memoryGiB": 32,
    "name": "ml.r5.xlarge",
    "vcpuNum": 4
   },
   {
    "_defaultOrder": 41,
    "_isFastLaunch": false,
    "category": "Memory Optimized",
    "gpuNum": 0,
    "hideHardwareSpecs": false,
    "memoryGiB": 64,
    "name": "ml.r5.2xlarge",
    "vcpuNum": 8
   },
   {
    "_defaultOrder": 42,
    "_isFastLaunch": false,
    "category": "Memory Optimized",
    "gpuNum": 0,
    "hideHardwareSpecs": false,
    "memoryGiB": 128,
    "name": "ml.r5.4xlarge",
    "vcpuNum": 16
   },
   {
    "_defaultOrder": 43,
    "_isFastLaunch": false,
    "category": "Memory Optimized",
    "gpuNum": 0,
    "hideHardwareSpecs": false,
    "memoryGiB": 256,
    "name": "ml.r5.8xlarge",
    "vcpuNum": 32
   },
   {
    "_defaultOrder": 44,
    "_isFastLaunch": false,
    "category": "Memory Optimized",
    "gpuNum": 0,
    "hideHardwareSpecs": false,
    "memoryGiB": 384,
    "name": "ml.r5.12xlarge",
    "vcpuNum": 48
   },
   {
    "_defaultOrder": 45,
    "_isFastLaunch": false,
    "category": "Memory Optimized",
    "gpuNum": 0,
    "hideHardwareSpecs": false,
    "memoryGiB": 512,
    "name": "ml.r5.16xlarge",
    "vcpuNum": 64
   },
   {
    "_defaultOrder": 46,
    "_isFastLaunch": false,
    "category": "Memory Optimized",
    "gpuNum": 0,
    "hideHardwareSpecs": false,
    "memoryGiB": 768,
    "name": "ml.r5.24xlarge",
    "vcpuNum": 96
   },
   {
    "_defaultOrder": 47,
    "_isFastLaunch": false,
    "category": "Accelerated computing",
    "gpuNum": 1,
    "hideHardwareSpecs": false,
    "memoryGiB": 16,
    "name": "ml.g5.xlarge",
    "vcpuNum": 4
   },
   {
    "_defaultOrder": 48,
    "_isFastLaunch": false,
    "category": "Accelerated computing",
    "gpuNum": 1,
    "hideHardwareSpecs": false,
    "memoryGiB": 32,
    "name": "ml.g5.2xlarge",
    "vcpuNum": 8
   },
   {
    "_defaultOrder": 49,
    "_isFastLaunch": false,
    "category": "Accelerated computing",
    "gpuNum": 1,
    "hideHardwareSpecs": false,
    "memoryGiB": 64,
    "name": "ml.g5.4xlarge",
    "vcpuNum": 16
   },
   {
    "_defaultOrder": 50,
    "_isFastLaunch": false,
    "category": "Accelerated computing",
    "gpuNum": 1,
    "hideHardwareSpecs": false,
    "memoryGiB": 128,
    "name": "ml.g5.8xlarge",
    "vcpuNum": 32
   },
   {
    "_defaultOrder": 51,
    "_isFastLaunch": false,
    "category": "Accelerated computing",
    "gpuNum": 1,
    "hideHardwareSpecs": false,
    "memoryGiB": 256,
    "name": "ml.g5.16xlarge",
    "vcpuNum": 64
   },
   {
    "_defaultOrder": 52,
    "_isFastLaunch": false,
    "category": "Accelerated computing",
    "gpuNum": 4,
    "hideHardwareSpecs": false,
    "memoryGiB": 192,
    "name": "ml.g5.12xlarge",
    "vcpuNum": 48
   },
   {
    "_defaultOrder": 53,
    "_isFastLaunch": false,
    "category": "Accelerated computing",
    "gpuNum": 4,
    "hideHardwareSpecs": false,
    "memoryGiB": 384,
    "name": "ml.g5.24xlarge",
    "vcpuNum": 96
   },
   {
    "_defaultOrder": 54,
    "_isFastLaunch": false,
    "category": "Accelerated computing",
    "gpuNum": 8,
    "hideHardwareSpecs": false,
    "memoryGiB": 768,
    "name": "ml.g5.48xlarge",
    "vcpuNum": 192
   },
   {
    "_defaultOrder": 55,
    "_isFastLaunch": false,
    "category": "Accelerated computing",
    "gpuNum": 8,
    "hideHardwareSpecs": false,
    "memoryGiB": 1152,
    "name": "ml.p4d.24xlarge",
    "vcpuNum": 96
   },
   {
    "_defaultOrder": 56,
    "_isFastLaunch": false,
    "category": "Accelerated computing",
    "gpuNum": 8,
    "hideHardwareSpecs": false,
    "memoryGiB": 1152,
    "name": "ml.p4de.24xlarge",
    "vcpuNum": 96
   },
   {
    "_defaultOrder": 57,
    "_isFastLaunch": false,
    "category": "Accelerated computing",
    "gpuNum": 0,
    "hideHardwareSpecs": false,
    "memoryGiB": 32,
    "name": "ml.trn1.2xlarge",
    "vcpuNum": 8
   },
   {
    "_defaultOrder": 58,
    "_isFastLaunch": false,
    "category": "Accelerated computing",
    "gpuNum": 0,
    "hideHardwareSpecs": false,
    "memoryGiB": 512,
    "name": "ml.trn1.32xlarge",
    "vcpuNum": 128
   },
   {
    "_defaultOrder": 59,
    "_isFastLaunch": false,
    "category": "Accelerated computing",
    "gpuNum": 0,
    "hideHardwareSpecs": false,
    "memoryGiB": 512,
    "name": "ml.trn1n.32xlarge",
    "vcpuNum": 128
   }
  ],
  "instance_type": "ml.t3.medium",
  "kernelspec": {
   "display_name": "Python 3 (Data Science 3.0)",
   "language": "python",
   "name": "python3__SAGEMAKER_INTERNAL__arn:aws:sagemaker:us-east-1:081325390199:image/sagemaker-data-science-310-v1"
  },
  "language_info": {
   "codemirror_mode": {
    "name": "ipython",
    "version": 3
   },
   "file_extension": ".py",
   "mimetype": "text/x-python",
   "name": "python",
   "nbconvert_exporter": "python",
   "pygments_lexer": "ipython3",
   "version": "3.10.6"
  }
 },
 "nbformat": 4,
 "nbformat_minor": 5
}
