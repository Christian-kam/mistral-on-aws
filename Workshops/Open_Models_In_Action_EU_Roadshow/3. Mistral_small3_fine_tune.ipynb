{
 "cells": [
  {
   "cell_type": "markdown",
   "id": "e5102bd3-af3f-4786-86af-16275bb99b74",
   "metadata": {},
   "source": [
    "# Workshop3: Fine-tuning Mistral Small 24B with QLoRA\n",
    "\n",
    "Welcome to this hands-on workshop! By the end of this session, you'll have fine-tuned a Mistral Small 24B model for medical diagnosis and deployed it as a custom model in Amazon Bedrock.\n",
    "\n",
    "### What You'll Learn:\n",
    "- Fine-tuning large language models with QLoRA (Quantized LoRA)\n",
    "- Working with medical datasets for AI training\n",
    "- Preparing models for Amazon Bedrock Custom Model Import\n",
    "- Comparing base vs fine-tuned model performance\n"
   ]
  },
  {
   "cell_type": "markdown",
   "id": "bc2de331-07f3-4de5-a4eb-16df0fa79a8b",
   "metadata": {},
   "source": [
    "## Workshop Overview:\n",
    "1. **Environment Setup** - Install dependencies and configure environment\n",
    "2. **Data Preparation** - Load and prepare medical training data\n",
    "3. **Model Loading** - Load quantized Mistral Small 24B model\n",
    "4. **QLoRA Configuration** - Set up efficient fine-tuning adapters\n",
    "5. **Training** - Fine-tune the model on medical data\n",
    "6. **Evaluation** - Compare base vs fine-tuned performance\n",
    "7. **Custom Model Import to Bedrock** - Prepare for Bedrock deployment"
   ]
  },
  {
   "cell_type": "markdown",
   "id": "428737f1-e942-45d9-86e7-dfa670d711bd",
   "metadata": {},
   "source": [
    "<img src=\"images/QLoRA_process.png\" width=\"600px\" alt=\"QLoRA_process\">"
   ]
  },
  {
   "cell_type": "markdown",
   "id": "81158e6b-4020-492e-8885-dd9b57b66314",
   "metadata": {},
   "source": [
    "<mark>Note: We don't fine-tune the model during the workshop. If you want to fine-tune the model later offline, recommended configurations are:</mark>\n",
    "- **Instance Type**: `ml.g5.48xlarge` or similar (8 A10G GPUs, 24GB GPU memory each)\n",
    "- **Alternative**: `ml.g6.16xlarge` (1 NVIDIA L4 GPUs, 24 GB GPU memory) \n",
    "- **Environment**: SageMaker Studio with Python 3 kernel"
   ]
  },
  {
   "cell_type": "markdown",
   "id": "efa05520-efa8-41ef-a489-524d7d1c480b",
   "metadata": {},
   "source": [
    "## Step 1: Environment Setup & Prerequisites"
   ]
  },
  {
   "cell_type": "markdown",
   "id": "207ea6b2-265d-4576-95bd-1b3ceb10fe3d",
   "metadata": {},
   "source": [
    "Let's start by setting up our environment and understanding our tools:\n",
    "\n",
    "### Dataset Information:\n",
    "We'll use the **BI55/MedText** dataset, which contains medical prompts and completions for training a medical AI assistant.\n",
    "\n",
    "### Hugging Face Setup:\n",
    "1. Get access to [Mistral Small 24B Instruct](https://huggingface.co/mistralai/Mistral-Small-24B-Instruct-2501)\n",
    "2. Create a [Hugging Face API token](https://huggingface.co/docs/hub/en/security-tokens) with READ permissions\n",
    "3. Login using `notebook_login()`"
   ]
  },
  {
   "cell_type": "code",
   "execution_count": 1,
   "id": "44e6ba31-44da-4a36-89b8-955d3a4d829a",
   "metadata": {
    "execution": {
     "iopub.execute_input": "2025-06-22T15:47:26.245456Z",
     "iopub.status.busy": "2025-06-22T15:47:26.245143Z",
     "iopub.status.idle": "2025-06-22T15:47:26.397049Z",
     "shell.execute_reply": "2025-06-22T15:47:26.396527Z",
     "shell.execute_reply.started": "2025-06-22T15:47:26.245439Z"
    }
   },
   "outputs": [
    {
     "data": {
      "application/vnd.jupyter.widget-view+json": {
       "model_id": "a6e537f0dd63437391f76e68693be13d",
       "version_major": 2,
       "version_minor": 0
      },
      "text/plain": [
       "VBox(children=(HTML(value='<center> <img\\nsrc=https://huggingface.co/front/assets/huggingface_logo-noborder.sv…"
      ]
     },
     "metadata": {},
     "output_type": "display_data"
    }
   ],
   "source": [
    "from huggingface_hub import notebook_login\n",
    "\n",
    "notebook_login()"
   ]
  },
  {
   "cell_type": "markdown",
   "id": "8b770955-6e51-4081-973c-5d9ac4672371",
   "metadata": {},
   "source": [
    "‼️ Mistral Small 3 is a gated model. Please accept the terms to access the model from here: https://huggingface.co/mistralai/Mistral-Small-24B-Instruct-2501 "
   ]
  },
  {
   "cell_type": "code",
   "execution_count": 2,
   "id": "e671e58d-5bd8-41eb-8e1d-a77194c62eee",
   "metadata": {
    "execution": {
     "iopub.execute_input": "2025-06-22T15:47:33.728976Z",
     "iopub.status.busy": "2025-06-22T15:47:33.728659Z",
     "iopub.status.idle": "2025-06-22T15:47:33.731956Z",
     "shell.execute_reply": "2025-06-22T15:47:33.731328Z",
     "shell.execute_reply.started": "2025-06-22T15:47:33.728958Z"
    }
   },
   "outputs": [],
   "source": [
    "import warnings\n",
    "warnings.filterwarnings(\"ignore\")"
   ]
  },
  {
   "cell_type": "markdown",
   "id": "ddb5cc7d-823b-4dfd-a1a9-80812a83ac42",
   "metadata": {},
   "source": [
    "### Install Required Libraries"
   ]
  },
  {
   "cell_type": "code",
   "execution_count": null,
   "id": "7aeeeb01-e2df-4e20-8b4a-a26d9ddb0964",
   "metadata": {},
   "outputs": [],
   "source": [
    "# !pip3 install -qU accelerate>=1.6.0\n",
    "# !pip3 install -qU torch bitsandbytes transformers==4.46.3 peft datasets\n",
    "# !pip3 install -qU tensorboardX"
   ]
  },
  {
   "cell_type": "code",
   "execution_count": 3,
   "id": "44d8b1cb-b09a-440a-8720-f7c330f134a4",
   "metadata": {
    "execution": {
     "iopub.execute_input": "2025-06-22T15:47:38.798554Z",
     "iopub.status.busy": "2025-06-22T15:47:38.798036Z",
     "iopub.status.idle": "2025-06-22T15:47:38.801594Z",
     "shell.execute_reply": "2025-06-22T15:47:38.801156Z",
     "shell.execute_reply.started": "2025-06-22T15:47:38.798536Z"
    }
   },
   "outputs": [],
   "source": [
    "# Add installed cuda runtime to path for bitsandbytes \n",
    "import nvidia\n",
    "import os\n",
    "\n",
    "cuda_install_dir = '/'.join(nvidia.__file__.split('/')[:-1]) + '/cuda_runtime/lib/'\n",
    "os.environ['LD_LIBRARY_PATH'] =  cuda_install_dir"
   ]
  },
  {
   "cell_type": "markdown",
   "id": "b40e4f3f-fd60-4b44-807a-defbc5b258a0",
   "metadata": {
    "execution": {
     "iopub.execute_input": "2025-06-13T11:25:28.980761Z",
     "iopub.status.busy": "2025-06-13T11:25:28.980491Z",
     "iopub.status.idle": "2025-06-13T11:25:28.983043Z",
     "shell.execute_reply": "2025-06-13T11:25:28.982691Z",
     "shell.execute_reply.started": "2025-06-13T11:25:28.980747Z"
    }
   },
   "source": [
    "## Step 2: Load and Prepare Medical Dataset"
   ]
  },
  {
   "cell_type": "code",
   "execution_count": 5,
   "id": "160fa98f-fb15-4a92-b2d2-bf335b40fc91",
   "metadata": {
    "execution": {
     "iopub.execute_input": "2025-06-22T15:47:56.935800Z",
     "iopub.status.busy": "2025-06-22T15:47:56.935234Z",
     "iopub.status.idle": "2025-06-22T15:47:57.782381Z",
     "shell.execute_reply": "2025-06-22T15:47:57.781851Z",
     "shell.execute_reply.started": "2025-06-22T15:47:56.935780Z"
    }
   },
   "outputs": [
    {
     "name": "stdout",
     "output_type": "stream",
     "text": [
      "🏥 Loading medical dataset...\n",
      "✅ Dataset loaded successfully!\n"
     ]
    }
   ],
   "source": [
    "# Load the medical dataset and split into train/validation/test sets\n",
    "from datasets import load_dataset\n",
    "import torch\n",
    "\n",
    "print(\"🏥 Loading medical dataset...\")\n",
    "dataset = load_dataset(\"BI55/MedText\", split=\"train\")\n",
    "\n",
    "# Split into 80% train, 10% validation, 10% test\n",
    "split_1 = dataset.train_test_split(test_size=0.2, seed=42)\n",
    "split_2 = split_1['test'].train_test_split(test_size=0.5, seed=42)\n",
    "\n",
    "train_set = split_1['train']\n",
    "validation_set = split_2['train']\n",
    "test_set = split_2['test']\n",
    "\n",
    "print(f\"✅ Dataset loaded successfully!\")"
   ]
  },
  {
   "cell_type": "code",
   "execution_count": 6,
   "id": "13b8b015-1619-45d1-87f3-dbe3787ca7b6",
   "metadata": {
    "execution": {
     "iopub.execute_input": "2025-06-22T15:48:00.381325Z",
     "iopub.status.busy": "2025-06-22T15:48:00.380658Z",
     "iopub.status.idle": "2025-06-22T15:48:00.385374Z",
     "shell.execute_reply": "2025-06-22T15:48:00.384848Z",
     "shell.execute_reply.started": "2025-06-22T15:48:00.381295Z"
    }
   },
   "outputs": [
    {
     "name": "stdout",
     "output_type": "stream",
     "text": [
      "🔍 Dataset structure:\n",
      "   Features: {'Prompt': Value(dtype='string', id=None), 'Completion': Value(dtype='string', id=None)}\n",
      "\n",
      "📋 Sample data point:\n",
      "   Prompt: A 16-year-old male presents with multiple blackheads and red bumps on his forehead, cheeks, and nose. He mentions they have been persisting for about a year, and he feels his skin is quite oily. What could be the potential cause, and what would be the treatment plan?\n",
      "   Completion: This patient is likely suffering from moderate acne vulgaris, characterized by a mix of open comedones (blackheads) and inflammatory lesions (red bumps). Acne vulgaris is common during adolescence due to increased sebum production, prompted by hormonal changes. The first line of treatment includes topical retinoids, which help unclog pores, and topical antimicrobials such as benzoyl peroxide or clindamycin to reduce bacterial growth and inflammation.\n"
     ]
    }
   ],
   "source": [
    "# Let's examine our dataset structure\n",
    "print(\"🔍 Dataset structure:\")\n",
    "print(f\"   Features: {train_set.features}\")\n",
    "print(f\"\\n📋 Sample data point:\")\n",
    "print(f\"   Prompt: {train_set[0]['Prompt']}\")\n",
    "print(f\"   Completion: {train_set[0]['Completion']}\")"
   ]
  },
  {
   "cell_type": "markdown",
   "id": "abb25309-c886-49f3-bee8-8b4e4cf5f707",
   "metadata": {},
   "source": [
    "## Step 3: Load Quantized Mistral Small 24B Model"
   ]
  },
  {
   "cell_type": "code",
   "execution_count": 7,
   "id": "898c64bc-f691-4b85-828c-f1450b02bc77",
   "metadata": {
    "execution": {
     "iopub.execute_input": "2025-06-22T15:48:04.453517Z",
     "iopub.status.busy": "2025-06-22T15:48:04.453179Z",
     "iopub.status.idle": "2025-06-22T15:48:30.266661Z",
     "shell.execute_reply": "2025-06-22T15:48:30.266089Z",
     "shell.execute_reply.started": "2025-06-22T15:48:04.453500Z"
    },
    "scrolled": true
   },
   "outputs": [
    {
     "name": "stdout",
     "output_type": "stream",
     "text": [
      "🚀 Loading Mistral Small 24B model...\n"
     ]
    },
    {
     "name": "stderr",
     "output_type": "stream",
     "text": [
      "2025-06-22 15:48:06.595659: I tensorflow/core/platform/cpu_feature_guard.cc:210] This TensorFlow binary is optimized to use available CPU instructions in performance-critical operations.\n",
      "To enable the following instructions: SSE4.1 SSE4.2 AVX AVX2 FMA, in other operations, rebuild TensorFlow with the appropriate compiler flags.\n"
     ]
    },
    {
     "data": {
      "application/vnd.jupyter.widget-view+json": {
       "model_id": "d6881196a9154b028e6dcac42d045c08",
       "version_major": 2,
       "version_minor": 0
      },
      "text/plain": [
       "Loading checkpoint shards:   0%|          | 0/10 [00:00<?, ?it/s]"
      ]
     },
     "metadata": {},
     "output_type": "display_data"
    },
    {
     "name": "stdout",
     "output_type": "stream",
     "text": [
      "✅ Model loaded successfully!\n"
     ]
    }
   ],
   "source": [
    "\n",
    "# Load the quantized model with 4-bit precision for efficient training\n",
    "from transformers import AutoTokenizer, AutoModelForCausalLM, BitsAndBytesConfig\n",
    "\n",
    "print(\"🚀 Loading Mistral Small 24B model...\")\n",
    "model_id = \"mistralai/Mistral-Small-24B-Instruct-2501\"\n",
    "\n",
    "# Configure 4-bit quantization for memory efficiency\n",
    "bnb_config = BitsAndBytesConfig(\n",
    "    load_in_4bit=True,\n",
    "    bnb_4bit_use_double_quant=True,\n",
    "    bnb_4bit_compute_dtype=torch.bfloat16\n",
    ")\n",
    "\n",
    "# Load model with quantization\n",
    "model = AutoModelForCausalLM.from_pretrained(\n",
    "    model_id, \n",
    "    quantization_config=bnb_config, \n",
    "    device_map=\"auto\", \n",
    "    cache_dir=\"/mnt/sagemaker-nvme\"  # Use NVMe storage for caching\n",
    ")\n",
    "\n",
    "print(\"✅ Model loaded successfully!\")\n"
   ]
  },
  {
   "cell_type": "markdown",
   "id": "cee32c32-75a9-478b-838c-567c2272a78d",
   "metadata": {},
   "source": [
    "## Step 4: Tokenization and Data Preprocessing"
   ]
  },
  {
   "cell_type": "code",
   "execution_count": 9,
   "id": "05d2bc9f-e1a3-4dc9-8ad2-ff7a2e9ef250",
   "metadata": {
    "execution": {
     "iopub.execute_input": "2025-06-22T15:53:20.113864Z",
     "iopub.status.busy": "2025-06-22T15:53:20.113598Z",
     "iopub.status.idle": "2025-06-22T15:53:20.962279Z",
     "shell.execute_reply": "2025-06-22T15:53:20.961656Z",
     "shell.execute_reply.started": "2025-06-22T15:53:20.113847Z"
    }
   },
   "outputs": [
    {
     "name": "stdout",
     "output_type": "stream",
     "text": [
      "🔤 Loading tokenizer...\n",
      "✅ Tokenizer loaded successfully!\n"
     ]
    }
   ],
   "source": [
    "# Load tokenizer for text processing\n",
    "print(\"🔤 Loading tokenizer...\")\n",
    "tokenizer = AutoTokenizer.from_pretrained(\n",
    "    model_id, \n",
    "    add_eos_token=True,    # End Of Sentence Token\n",
    "    add_bos_token=True     # Beginning Of Sentence Token\n",
    ")\n",
    "print(\"✅ Tokenizer loaded successfully!\")"
   ]
  },
  {
   "cell_type": "code",
   "execution_count": null,
   "id": "28ba30ee-08e7-4ade-98c7-57a20e08ca83",
   "metadata": {},
   "outputs": [],
   "source": []
  },
  {
   "cell_type": "markdown",
   "id": "8fb1fd17-6497-4ea4-a783-660d8b1b5431",
   "metadata": {},
   "source": [
    "### Format Training Data\n",
    "We need to format our medical data with a consistent prompt template for training:"
   ]
  },
  {
   "cell_type": "code",
   "execution_count": 10,
   "id": "bc879266-4973-48a4-9ffa-0e0f3dfb3204",
   "metadata": {
    "execution": {
     "iopub.execute_input": "2025-06-22T15:53:23.714624Z",
     "iopub.status.busy": "2025-06-22T15:53:23.714359Z",
     "iopub.status.idle": "2025-06-22T15:53:23.717509Z",
     "shell.execute_reply": "2025-06-22T15:53:23.717012Z",
     "shell.execute_reply.started": "2025-06-22T15:53:23.714608Z"
    }
   },
   "outputs": [],
   "source": [
    "# Tokenization function\n",
    "def tokenize(prompt):\n",
    "    result = tokenizer(prompt)\n",
    "    result[\"labels\"] = result[\"input_ids\"].copy()  \n",
    "    return result"
   ]
  },
  {
   "cell_type": "code",
   "execution_count": 11,
   "id": "fe1cc27b-a86f-469c-bd7d-95c2cd441aa6",
   "metadata": {
    "execution": {
     "iopub.execute_input": "2025-06-22T15:53:25.866506Z",
     "iopub.status.busy": "2025-06-22T15:53:25.866139Z",
     "iopub.status.idle": "2025-06-22T15:53:25.869356Z",
     "shell.execute_reply": "2025-06-22T15:53:25.868894Z",
     "shell.execute_reply.started": "2025-06-22T15:53:25.866490Z"
    }
   },
   "outputs": [],
   "source": [
    "# Format data with medical prompt template\n",
    "def generate_and_tokenize_prompt(data_point):\n",
    "    full_prompt = f\"\"\"You are a medical professional. Given a prompt of a user with different symptoms, provide a diagnosis.\n",
    "\n",
    "    ### Prompt:\n",
    "    {data_point[\"Prompt\"]}\n",
    "    \n",
    "    ### Response:\n",
    "    {data_point[\"Completion\"]}\n",
    "    \"\"\"\n",
    "    return tokenize(full_prompt)"
   ]
  },
  {
   "cell_type": "code",
   "execution_count": 12,
   "id": "b7d34e4d-5dbb-4053-8f35-ecd0c79b27b2",
   "metadata": {
    "execution": {
     "iopub.execute_input": "2025-06-22T15:53:27.341739Z",
     "iopub.status.busy": "2025-06-22T15:53:27.341316Z",
     "iopub.status.idle": "2025-06-22T15:53:27.645080Z",
     "shell.execute_reply": "2025-06-22T15:53:27.644571Z",
     "shell.execute_reply.started": "2025-06-22T15:53:27.341721Z"
    }
   },
   "outputs": [
    {
     "name": "stdout",
     "output_type": "stream",
     "text": [
      "🔄 Tokenizing datasets...\n",
      "✅ Tokenization complete!\n"
     ]
    }
   ],
   "source": [
    "# Apply tokenization to our datasets\n",
    "print(\"🔄 Tokenizing datasets...\")\n",
    "tokenized_train_dataset = train_set.map(generate_and_tokenize_prompt)\n",
    "tokenized_validation_dataset = validation_set.map(generate_and_tokenize_prompt)\n",
    "print(\"✅ Tokenization complete!\")"
   ]
  },
  {
   "cell_type": "markdown",
   "id": "7e1b18f0-2d21-4514-a2b4-af0298e79038",
   "metadata": {},
   "source": [
    "## Step 5: Analyze Token Lengths & Set Padding"
   ]
  },
  {
   "cell_type": "markdown",
   "id": "f013828a-0252-438a-b7f7-5ae5acf8af33",
   "metadata": {},
   "source": [
    "### Visualize Token Length Distribution\n",
    "Understanding our data's token lengths helps us set appropriate padding:"
   ]
  },
  {
   "cell_type": "code",
   "execution_count": 13,
   "id": "9f1beab6-4100-4211-9de5-eb87a6520b45",
   "metadata": {
    "execution": {
     "iopub.execute_input": "2025-06-22T15:53:33.315627Z",
     "iopub.status.busy": "2025-06-22T15:53:33.315305Z",
     "iopub.status.idle": "2025-06-22T15:53:33.319586Z",
     "shell.execute_reply": "2025-06-22T15:53:33.319016Z",
     "shell.execute_reply.started": "2025-06-22T15:53:33.315609Z"
    }
   },
   "outputs": [],
   "source": [
    "# Visualize token length distribution\n",
    "import matplotlib.pyplot as plt\n",
    "\n",
    "def plot_data_lengths(tokenized_train_dataset, tokenized_validation_dataset):\n",
    "    lengths1 = [len(x[\"input_ids\"]) for x in tokenized_train_dataset]\n",
    "    lengths2 = [len(x[\"input_ids\"]) for x in tokenized_validation_dataset]\n",
    "    lengths = lengths1 + lengths2\n",
    "    \n",
    "    plt.figure(figsize=(10,6))\n",
    "    plt.hist(lengths, bins=20, alpha=0.7, color=\"blue\")\n",
    "    plt.xlabel(\"Token Length\")\n",
    "    plt.ylabel(\"Frequency\")\n",
    "    plt.title(\"Distribution of Input Token Lengths\")\n",
    "    plt.show()\n",
    "    \n",
    "    print(f\"📊 Max token length: {max(lengths)}\")\n",
    "    print(f\"📊 Average token length: {sum(lengths)/len(lengths):.1f}\")\n",
    "    \n",
    "    return max(lengths)"
   ]
  },
  {
   "cell_type": "code",
   "execution_count": 14,
   "id": "d9b12820-eacc-4444-ac2f-ff1bcf9d9718",
   "metadata": {
    "execution": {
     "iopub.execute_input": "2025-06-22T15:53:35.377153Z",
     "iopub.status.busy": "2025-06-22T15:53:35.376585Z",
     "iopub.status.idle": "2025-06-22T15:53:35.794044Z",
     "shell.execute_reply": "2025-06-22T15:53:35.793459Z",
     "shell.execute_reply.started": "2025-06-22T15:53:35.377135Z"
    }
   },
   "outputs": [
    {
     "data": {
      "image/png": "[encoded data removed]",
      "text/plain": [
       "<Figure size 1000x600 with 1 Axes>"
      ]
     },
     "metadata": {},
     "output_type": "display_data"
    },
    {
     "name": "stdout",
     "output_type": "stream",
     "text": [
      "📊 Max token length: 257\n",
      "📊 Average token length: 166.1\n",
      "🎯 Using max length: 257 tokens\n"
     ]
    }
   ],
   "source": [
    "# Get maximum length and visualize distribution\n",
    "max_length = plot_data_lengths(tokenized_train_dataset, tokenized_validation_dataset)\n",
    "\n",
    "# Alternative: Direct calculation of max length\n",
    "# max_length = max([len(x[\"input_ids\"]) for x in tokenized_train_dataset])\n",
    "print(f\"🎯 Using max length: {max_length} tokens\")"
   ]
  },
  {
   "cell_type": "markdown",
   "id": "c32bdfc2-5b0d-47a2-9210-88591823ac4a",
   "metadata": {},
   "source": [
    "### Configure Tokenizer with Padding\n",
    "Now we'll set up padding to ensure all inputs are the same length:"
   ]
  },
  {
   "cell_type": "code",
   "execution_count": 15,
   "id": "51ad2d92-dd21-423b-a08e-12b94a0358e9",
   "metadata": {
    "execution": {
     "iopub.execute_input": "2025-06-22T15:53:38.681642Z",
     "iopub.status.busy": "2025-06-22T15:53:38.681230Z",
     "iopub.status.idle": "2025-06-22T15:53:39.295795Z",
     "shell.execute_reply": "2025-06-22T15:53:39.295211Z",
     "shell.execute_reply.started": "2025-06-22T15:53:38.681624Z"
    }
   },
   "outputs": [
    {
     "name": "stdout",
     "output_type": "stream",
     "text": [
      "✅ Tokenizer configured with padding to 257 tokens\n"
     ]
    }
   ],
   "source": [
    "# Reconfigure tokenizer with padding\n",
    "tokenizer = AutoTokenizer.from_pretrained(\n",
    "    model_id,\n",
    "    padding_side=\"right\",\n",
    "    add_eos_token=True,\n",
    "    add_bos_token=True\n",
    ")\n",
    "tokenizer.pad_token = tokenizer.eos_token    # Use EOS token as pad token\n",
    "\n",
    "print(f\"✅ Tokenizer configured with padding to {max_length} tokens\")"
   ]
  },
  {
   "cell_type": "code",
   "execution_count": 16,
   "id": "ee7016d8-9573-4ad0-bb94-23d87cd902a9",
   "metadata": {
    "execution": {
     "iopub.execute_input": "2025-06-22T15:53:42.752349Z",
     "iopub.status.busy": "2025-06-22T15:53:42.751996Z",
     "iopub.status.idle": "2025-06-22T15:53:43.140805Z",
     "shell.execute_reply": "2025-06-22T15:53:43.140209Z",
     "shell.execute_reply.started": "2025-06-22T15:53:42.752333Z"
    }
   },
   "outputs": [
    {
     "name": "stdout",
     "output_type": "stream",
     "text": [
      "🔄 Re-tokenizing datasets with padding...\n"
     ]
    },
    {
     "data": {
      "application/vnd.jupyter.widget-view+json": {
       "model_id": "0cbc9494aaee4fe98afa492cccf4530d",
       "version_major": 2,
       "version_minor": 0
      },
      "text/plain": [
       "Map:   0%|          | 0/141 [00:00<?, ? examples/s]"
      ]
     },
     "metadata": {},
     "output_type": "display_data"
    },
    {
     "name": "stdout",
     "output_type": "stream",
     "text": [
      "✅ Padded tokenization complete!\n"
     ]
    }
   ],
   "source": [
    "# Updated tokenization function with padding\n",
    "def tokenize(prompt):\n",
    "    result = tokenizer(\n",
    "        prompt,\n",
    "        truncation=True,\n",
    "        max_length=max_length,\n",
    "        padding=\"max_length\"\n",
    "    )\n",
    "    result[\"labels\"] = result[\"input_ids\"].copy()\n",
    "    return result\n",
    "\n",
    "# Re-tokenize datasets with padding\n",
    "print(\"🔄 Re-tokenizing datasets with padding...\")\n",
    "tokenized_train_dataset = train_set.map(generate_and_tokenize_prompt)\n",
    "tokenized_validation_dataset = validation_set.map(generate_and_tokenize_prompt)\n",
    "print(\"✅ Padded tokenization complete!\")"
   ]
  },
  {
   "cell_type": "code",
   "execution_count": 17,
   "id": "d083df12-6ab6-4f53-919a-cbcdaeb97cd4",
   "metadata": {
    "execution": {
     "iopub.execute_input": "2025-06-22T15:53:45.815316Z",
     "iopub.status.busy": "2025-06-22T15:53:45.814749Z",
     "iopub.status.idle": "2025-06-22T15:53:46.330003Z",
     "shell.execute_reply": "2025-06-22T15:53:46.329544Z",
     "shell.execute_reply.started": "2025-06-22T15:53:45.815298Z"
    }
   },
   "outputs": [
    {
     "data": {
      "image/png": "[encoded data removed]",
      "text/plain": [
       "<Figure size 1000x600 with 1 Axes>"
      ]
     },
     "metadata": {},
     "output_type": "display_data"
    },
    {
     "name": "stdout",
     "output_type": "stream",
     "text": [
      "📊 Max token length: 257\n",
      "📊 Average token length: 257.0\n"
     ]
    },
    {
     "data": {
      "text/plain": [
       "257"
      ]
     },
     "execution_count": 17,
     "metadata": {},
     "output_type": "execute_result"
    }
   ],
   "source": [
    "# Verify all tokens are now the same length\n",
    "plot_data_lengths(tokenized_train_dataset, tokenized_validation_dataset)"
   ]
  },
  {
   "cell_type": "markdown",
   "id": "5ed690f7-4fa9-41c1-b5a6-85e97d53854f",
   "metadata": {},
   "source": [
    "## Step 6: Configure QLoRA (Quantized LoRA)"
   ]
  },
  {
   "cell_type": "code",
   "execution_count": 18,
   "id": "f9584f7e-4918-4382-827b-3996e5666303",
   "metadata": {
    "execution": {
     "iopub.execute_input": "2025-06-22T15:53:49.019621Z",
     "iopub.status.busy": "2025-06-22T15:53:49.019311Z",
     "iopub.status.idle": "2025-06-22T15:53:49.087756Z",
     "shell.execute_reply": "2025-06-22T15:53:49.087273Z",
     "shell.execute_reply.started": "2025-06-22T15:53:49.019605Z"
    }
   },
   "outputs": [
    {
     "name": "stdout",
     "output_type": "stream",
     "text": [
      "✅ Model prepared for training!\n"
     ]
    }
   ],
   "source": [
    "# Prepare model for QLoRA fine-tuning\n",
    "from peft import prepare_model_for_kbit_training\n",
    "\n",
    "model.gradient_checkpointing_enable()\n",
    "model = prepare_model_for_kbit_training(model)\n",
    "print(\"✅ Model prepared for training!\")"
   ]
  },
  {
   "cell_type": "code",
   "execution_count": 19,
   "id": "ca2da3ed-e9e9-4371-a695-40d98d34ce2b",
   "metadata": {
    "execution": {
     "iopub.execute_input": "2025-06-22T15:53:51.191179Z",
     "iopub.status.busy": "2025-06-22T15:53:51.190839Z",
     "iopub.status.idle": "2025-06-22T15:53:51.194862Z",
     "shell.execute_reply": "2025-06-22T15:53:51.194387Z",
     "shell.execute_reply.started": "2025-06-22T15:53:51.191162Z"
    }
   },
   "outputs": [],
   "source": [
    "# Helper function to check trainable parameters\n",
    "def print_trainable_parameters(model):\n",
    "    \"\"\"Prints the number of trainable parameters in the model.\"\"\"\n",
    "    trainable_params = 0\n",
    "    all_param = 0\n",
    "    for _, param in model.named_parameters():\n",
    "        all_param += param.numel()\n",
    "        if param.requires_grad:\n",
    "            trainable_params += param.numel()\n",
    "    print(f\"🔢 Trainable params: {trainable_params:,}\")\n",
    "    print(f\"🔢 All params: {all_param:,}\")\n",
    "    print(f\"📊 Trainable%: {100 * trainable_params / all_param:.2f}%\")"
   ]
  },
  {
   "cell_type": "code",
   "execution_count": 20,
   "id": "70eb4883-9d3a-451a-b3eb-d08b5163afd5",
   "metadata": {
    "execution": {
     "iopub.execute_input": "2025-06-22T15:53:53.031298Z",
     "iopub.status.busy": "2025-06-22T15:53:53.031075Z",
     "iopub.status.idle": "2025-06-22T15:53:53.037041Z",
     "shell.execute_reply": "2025-06-22T15:53:53.036548Z",
     "shell.execute_reply.started": "2025-06-22T15:53:53.031281Z"
    },
    "scrolled": true
   },
   "outputs": [
    {
     "name": "stdout",
     "output_type": "stream",
     "text": [
      "📋 Before QLoRA:\n",
      "🔢 Trainable params: 0\n",
      "🔢 All params: 12,457,497,600\n",
      "📊 Trainable%: 0.00%\n"
     ]
    }
   ],
   "source": [
    "# Check current trainable parameters (should be 0)\n",
    "print(\"📋 Before QLoRA:\")\n",
    "print_trainable_parameters(model)"
   ]
  },
  {
   "cell_type": "code",
   "execution_count": 21,
   "id": "de35f5b2-b071-44f5-a10e-cddfeb8ec076",
   "metadata": {
    "collapsed": true,
    "execution": {
     "iopub.execute_input": "2025-06-22T15:53:55.998450Z",
     "iopub.status.busy": "2025-06-22T15:53:55.998113Z",
     "iopub.status.idle": "2025-06-22T15:53:56.002924Z",
     "shell.execute_reply": "2025-06-22T15:53:56.002442Z",
     "shell.execute_reply.started": "2025-06-22T15:53:55.998434Z"
    },
    "jupyter": {
     "outputs_hidden": true
    }
   },
   "outputs": [
    {
     "name": "stdout",
     "output_type": "stream",
     "text": [
      "MistralForCausalLM(\n",
      "  (model): MistralModel(\n",
      "    (embed_tokens): Embedding(131072, 5120)\n",
      "    (layers): ModuleList(\n",
      "      (0-39): 40 x MistralDecoderLayer(\n",
      "        (self_attn): MistralSdpaAttention(\n",
      "          (q_proj): Linear4bit(in_features=5120, out_features=4096, bias=False)\n",
      "          (k_proj): Linear4bit(in_features=5120, out_features=1024, bias=False)\n",
      "          (v_proj): Linear4bit(in_features=5120, out_features=1024, bias=False)\n",
      "          (o_proj): Linear4bit(in_features=4096, out_features=5120, bias=False)\n",
      "          (rotary_emb): MistralRotaryEmbedding()\n",
      "        )\n",
      "        (mlp): MistralMLP(\n",
      "          (gate_proj): Linear4bit(in_features=5120, out_features=32768, bias=False)\n",
      "          (up_proj): Linear4bit(in_features=5120, out_features=32768, bias=False)\n",
      "          (down_proj): Linear4bit(in_features=32768, out_features=5120, bias=False)\n",
      "          (act_fn): SiLU()\n",
      "        )\n",
      "        (input_layernorm): MistralRMSNorm((5120,), eps=1e-05)\n",
      "        (post_attention_layernorm): MistralRMSNorm((5120,), eps=1e-05)\n",
      "      )\n",
      "    )\n",
      "    (norm): MistralRMSNorm((5120,), eps=1e-05)\n",
      "  )\n",
      "  (lm_head): Linear(in_features=5120, out_features=131072, bias=False)\n",
      ")\n"
     ]
    }
   ],
   "source": [
    "print(model) # optional, you can check the full architecture of the model"
   ]
  },
  {
   "cell_type": "code",
   "execution_count": 22,
   "id": "1f7630da-021e-49cb-ab3a-9e79ca3f3009",
   "metadata": {
    "execution": {
     "iopub.execute_input": "2025-06-22T15:55:07.506481Z",
     "iopub.status.busy": "2025-06-22T15:55:07.506065Z",
     "iopub.status.idle": "2025-06-22T15:55:07.615281Z",
     "shell.execute_reply": "2025-06-22T15:55:07.614794Z",
     "shell.execute_reply.started": "2025-06-22T15:55:07.506464Z"
    }
   },
   "outputs": [
    {
     "name": "stdout",
     "output_type": "stream",
     "text": [
      "🎯 Setting up LoRA configuration...\n",
      "✅ LoRA adapters added!\n"
     ]
    }
   ],
   "source": [
    "# Configure LoRA adapters\n",
    "from peft import LoraConfig, get_peft_model\n",
    "\n",
    "print(\"🎯 Setting up LoRA configuration...\")\n",
    "target_modules = [\"q_proj\", \"k_proj\"]\n",
    "\n",
    "config = LoraConfig(\n",
    "    r=8,                        # Rank of adaptation\n",
    "    lora_alpha=32,              # LoRA scaling parameter\n",
    "    target_modules=target_modules, \n",
    "    lora_dropout=0.05,          # Dropout probability for LoRA layers\n",
    "    bias=\"none\",                # Bias configuration\n",
    "    task_type=\"CAUSAL_LM\"       # Task type\n",
    ")\n",
    "\n",
    "# Apply LoRA to model\n",
    "model = get_peft_model(model, config)\n",
    "print(\"✅ LoRA adapters added!\")"
   ]
  },
  {
   "cell_type": "code",
   "execution_count": 23,
   "id": "6977bef6-d2ab-4226-bcbc-9eff3775a82c",
   "metadata": {
    "execution": {
     "iopub.execute_input": "2025-06-22T15:55:12.674223Z",
     "iopub.status.busy": "2025-06-22T15:55:12.673865Z",
     "iopub.status.idle": "2025-06-22T15:55:12.680774Z",
     "shell.execute_reply": "2025-06-22T15:55:12.680243Z",
     "shell.execute_reply.started": "2025-06-22T15:55:12.674204Z"
    }
   },
   "outputs": [
    {
     "name": "stdout",
     "output_type": "stream",
     "text": [
      "📋 After QLoRA:\n",
      "🔢 Trainable params: 4,915,200\n",
      "🔢 All params: 12,462,412,800\n",
      "📊 Trainable%: 0.04%\n"
     ]
    }
   ],
   "source": [
    "# Check trainable parameters after adding LoRA\n",
    "print(\"📋 After QLoRA:\")\n",
    "print_trainable_parameters(model)\n",
    "# print(model) # optional, you can check the full architecture of the model"
   ]
  },
  {
   "cell_type": "markdown",
   "id": "a4407f94-6322-411d-9ee3-9830bb73b821",
   "metadata": {},
   "source": [
    "## Step 7: Fine-tuning Configuration & Training"
   ]
  },
  {
   "cell_type": "code",
   "execution_count": 27,
   "id": "b94d8a36-83f9-4fba-98e5-fa2269e6bc3d",
   "metadata": {
    "execution": {
     "iopub.execute_input": "2025-06-20T15:39:59.942386Z",
     "iopub.status.busy": "2025-06-20T15:39:59.942044Z",
     "iopub.status.idle": "2025-06-20T15:39:59.945483Z",
     "shell.execute_reply": "2025-06-20T15:39:59.945049Z",
     "shell.execute_reply.started": "2025-06-20T15:39:59.942370Z"
    }
   },
   "outputs": [
    {
     "name": "stdout",
     "output_type": "stream",
     "text": [
      "🖥️ Available GPUs: 1\n"
     ]
    }
   ],
   "source": [
    "# Enable model parallelism if multiple GPUs available\n",
    "dev_count = torch.cuda.device_count()\n",
    "print(f\"🖥️ Available GPUs: {dev_count}\")\n",
    "\n",
    "if dev_count > 1:\n",
    "    model.is_parallelizable = True\n",
    "    model.model_parallel = True\n",
    "    print(\"✅ Model parallelism enabled!\")"
   ]
  },
  {
   "cell_type": "code",
   "execution_count": 28,
   "id": "78fbb444-c1c9-4f08-88d2-4c5515f1635e",
   "metadata": {
    "execution": {
     "iopub.execute_input": "2025-06-20T15:40:08.792660Z",
     "iopub.status.busy": "2025-06-20T15:40:08.792201Z",
     "iopub.status.idle": "2025-06-20T15:40:08.852637Z",
     "shell.execute_reply": "2025-06-20T15:40:08.852066Z",
     "shell.execute_reply.started": "2025-06-20T15:40:08.792641Z"
    }
   },
   "outputs": [
    {
     "name": "stdout",
     "output_type": "stream",
     "text": [
      "✅ Training configuration complete!\n"
     ]
    }
   ],
   "source": [
    "# Training configuration\n",
    "import transformers\n",
    "\n",
    "# Set up logging directory\n",
    "log_bucket = \"./logs/medical-qlora-training\"\n",
    "\n",
    "# Configure training arguments\n",
    "training_args = transformers.TrainingArguments(\n",
    "    per_device_train_batch_size=4,      # Batch size per device\n",
    "    per_device_eval_batch_size=4,       # Evaluation batch size\n",
    "    max_steps=100,                      # Total training steps\n",
    "    output_dir=\"mistral-medical-outputs\",  # Output directory\n",
    "    logging_dir=log_bucket,             # Logging directory\n",
    "    logging_steps=10,                   # Log every N steps\n",
    "    learning_rate=5e-6,                 # Learning rate\n",
    "    fp16=True,                          # Mixed precision training\n",
    "    save_strategy=\"steps\",              # Save strategy\n",
    "    save_steps=100,                     # Save every N steps\n",
    "    eval_strategy=\"steps\",              # Evaluation strategy\n",
    "    eval_steps=50,                      # Evaluate every N steps\n",
    "    do_eval=True,                       # Enable evaluation\n",
    "    warmup_steps=10,                    # Warmup steps\n",
    "    gradient_checkpointing=True,        # Memory optimization\n",
    "    gradient_accumulation_steps=4,      # Gradient accumulation\n",
    "    optim=\"paged_adamw_8bit\",          # Optimizer\n",
    "    report_to=\"tensorboard\",           # Logging platform\n",
    "    weight_decay=0.05                   # Regularization\n",
    ")\n",
    "\n",
    "print(\"✅ Training configuration complete!\")"
   ]
  },
  {
   "cell_type": "code",
   "execution_count": 29,
   "id": "5f02e8c2-f7ad-4e31-98e7-d12665b350b5",
   "metadata": {
    "execution": {
     "iopub.execute_input": "2025-06-20T15:40:12.723160Z",
     "iopub.status.busy": "2025-06-20T15:40:12.722743Z",
     "iopub.status.idle": "2025-06-20T15:40:12.993311Z",
     "shell.execute_reply": "2025-06-20T15:40:12.992781Z",
     "shell.execute_reply.started": "2025-06-20T15:40:12.723143Z"
    }
   },
   "outputs": [
    {
     "name": "stderr",
     "output_type": "stream",
     "text": [
      "max_steps is given, it will override any value given in num_train_epochs\n"
     ]
    },
    {
     "name": "stdout",
     "output_type": "stream",
     "text": [
      "✅ Trainer ready!\n"
     ]
    }
   ],
   "source": [
    "# Initialize trainer\n",
    "\n",
    "tokenizer.pad_token = tokenizer.eos_token\n",
    "\n",
    "trainer = transformers.Trainer(\n",
    "    model=model,\n",
    "    args=training_args,\n",
    "    train_dataset=tokenized_train_dataset,\n",
    "    eval_dataset=tokenized_validation_dataset,\n",
    "    data_collator=transformers.DataCollatorForLanguageModeling(tokenizer, mlm=False)\n",
    ")\n",
    "\n",
    "# Disable caching for training\n",
    "model.config.use_cache = False\n",
    "\n",
    "print(\"✅ Trainer ready!\")"
   ]
  },
  {
   "cell_type": "markdown",
   "id": "21343573-3ab6-477a-9305-d7f66610b9ba",
   "metadata": {
    "execution": {
     "iopub.execute_input": "2025-06-15T20:24:01.943847Z",
     "iopub.status.busy": "2025-06-15T20:24:01.943453Z",
     "iopub.status.idle": "2025-06-15T20:24:01.947784Z",
     "shell.execute_reply": "2025-06-15T20:24:01.947261Z",
     "shell.execute_reply.started": "2025-06-15T20:24:01.943827Z"
    }
   },
   "source": [
    "<mark>‼️ Please skip to section \"Download fine-tuned model from Hugging Face\" if you are in the workshop session.</mark>"
   ]
  },
  {
   "cell_type": "code",
   "execution_count": null,
   "id": "5c339193-64e8-4ea8-ab06-95c97c1a21ad",
   "metadata": {
    "scrolled": true
   },
   "outputs": [],
   "source": [
    "# Start training!\n",
    "print(\"🚀 Starting training...\")\n",
    "print(\"⏱️ This will take approximately a few hours on ml.g5.12xlarge for 300 traninng steps\")\n",
    "\n",
    "# Uncomment the next line to start training. \n",
    "# trainer.train()"
   ]
  },
  {
   "cell_type": "code",
   "execution_count": null,
   "id": "d7cbe994-b101-4cb1-a98c-427790c0a9f6",
   "metadata": {},
   "outputs": [],
   "source": []
  },
  {
   "cell_type": "markdown",
   "id": "ef850cd8-3340-49d6-a7d9-b3ae00219cfc",
   "metadata": {},
   "source": [
    "## Step 8: Prepare Model for Amazon Bedrock Custom Model Import"
   ]
  },
  {
   "cell_type": "code",
   "execution_count": null,
   "id": "5b4e296d-50a5-41e2-b035-ba2d0ed23eec",
   "metadata": {
    "execution": {
     "iopub.execute_input": "2025-06-15T15:19:13.717029Z",
     "iopub.status.busy": "2025-06-15T15:19:13.715968Z",
     "iopub.status.idle": "2025-06-15T15:19:23.362735Z",
     "shell.execute_reply": "2025-06-15T15:19:23.361935Z",
     "shell.execute_reply.started": "2025-06-15T15:19:13.717007Z"
    }
   },
   "outputs": [],
   "source": [
    "# Skip this step in workshop \n",
    "from transformers import AutoModelForCausalLM\n",
    "from peft import PeftModel\n",
    "\n",
    "model_id = \"mistralai/Mistral-Small-24B-Instruct-2501\"\n",
    "adapter_path = \"mistral-medical-outputs/checkpoint-300\"\n",
    "\n",
    "# Load base model in full precision (FP16), not quantised 4bit model\n",
    "base_model = AutoModelForCausalLM.from_pretrained(\n",
    "    model_id,\n",
    "    torch_dtype=torch.float16,\n",
    "    device_map=\"auto\",\n",
    "    cache_dir=\"/mnt/sagemaker-nvme\"\n",
    ")"
   ]
  },
  {
   "cell_type": "code",
   "execution_count": 11,
   "id": "2173c0fb-ec7b-4ee2-81d7-e636dbfdf571",
   "metadata": {
    "execution": {
     "iopub.execute_input": "2025-06-13T14:01:54.148343Z",
     "iopub.status.busy": "2025-06-13T14:01:54.147902Z",
     "iopub.status.idle": "2025-06-13T14:02:24.783321Z",
     "shell.execute_reply": "2025-06-13T14:02:24.782801Z",
     "shell.execute_reply.started": "2025-06-13T14:01:54.148327Z"
    }
   },
   "outputs": [],
   "source": [
    "# Skip this step in workshop \n",
    "# Load fine-tuned model (with adapter)\n",
    "ft_model = PeftModel.from_pretrained(\n",
    "    base_model,\n",
    "    adapter_path,\n",
    ")"
   ]
  },
  {
   "cell_type": "code",
   "execution_count": null,
   "id": "75a13abf-0ec0-4027-9cd9-dab0794db46c",
   "metadata": {
    "execution": {
     "iopub.execute_input": "2025-06-13T14:03:14.337907Z",
     "iopub.status.busy": "2025-06-13T14:03:14.337465Z",
     "iopub.status.idle": "2025-06-13T14:04:38.249254Z",
     "shell.execute_reply": "2025-06-13T14:04:38.248849Z",
     "shell.execute_reply.started": "2025-06-13T14:03:14.337889Z"
    }
   },
   "outputs": [],
   "source": [
    "# Merge LoRA weights into the base model\n",
    "merged_model = ft_model.merge_and_unload()\n",
    "\n",
    "# Save as FP16 (recommended for Bedrock)\n",
    "merged_model.save_pretrained(\"finetune_results/merged_model\", safe_serialization=True)"
   ]
  },
  {
   "cell_type": "code",
   "execution_count": null,
   "id": "148e09d5-0afb-400d-b5ae-c4f53ee5def1",
   "metadata": {},
   "outputs": [],
   "source": [
    "## optional: push your fine-tuned model to huggingface hub\n",
    "# from transformers import AutoTokenizer\n",
    "\n",
    "# tokenizer = AutoTokenizer.from_pretrained(\"mistralai/Mistral-Small-24B-Instruct-2501\")  # e.g., same tokenizer used during fine-tuning\n",
    "\n",
    "# # Push merged weights\n",
    "# merged_model.push_to_hub(\"<user_name>/mistral-small-3-med\", use_temp_dir=False)\n",
    "\n",
    "# # Push tokenizer files too\n",
    "# tokenizer.push_to_hub(\"<user_name>/mistral-small-3-med\", use_temp_dir=False)\n"
   ]
  },
  {
   "cell_type": "markdown",
   "id": "120188ba-69bd-4824-9755-6b83924dc414",
   "metadata": {},
   "source": [
    "### Download fine-tuned model from huggingface hub for the workshop"
   ]
  },
  {
   "cell_type": "code",
   "execution_count": null,
   "id": "140b75fd-bacb-4db5-a08c-c3bc62fac31f",
   "metadata": {
    "execution": {
     "iopub.execute_input": "2025-06-18T11:25:33.544915Z",
     "iopub.status.busy": "2025-06-18T11:25:33.544391Z",
     "iopub.status.idle": "2025-06-18T11:26:56.518872Z",
     "shell.execute_reply": "2025-06-18T11:26:56.518374Z",
     "shell.execute_reply.started": "2025-06-18T11:25:33.544898Z"
    },
    "scrolled": true
   },
   "outputs": [],
   "source": [
    "from huggingface_hub import snapshot_download\n",
    "\n",
    "folder = snapshot_download(repo_id=\"lowkeymaverick/Mistral-Small-24B-Instruct-2501-finetuned\", local_dir=\"fine-tuned-model\")\n",
    "print(\"Model repo saved to:\", folder)\n"
   ]
  },
  {
   "cell_type": "markdown",
   "id": "766f547b-fad8-49df-bdb1-9303b4db71c5",
   "metadata": {},
   "source": [
    "### Upload model files to S3 bucket for CMI"
   ]
  },
  {
   "cell_type": "code",
   "execution_count": null,
   "id": "5ebbb5cf-0ceb-4886-a5c8-1e8457fecd3d",
   "metadata": {
    "collapsed": true,
    "execution": {
     "iopub.execute_input": "2025-06-18T11:26:56.519904Z",
     "iopub.status.busy": "2025-06-18T11:26:56.519633Z",
     "iopub.status.idle": "2025-06-18T11:28:11.457026Z",
     "shell.execute_reply": "2025-06-18T11:28:11.456551Z",
     "shell.execute_reply.started": "2025-06-18T11:26:56.519889Z"
    },
    "jupyter": {
     "outputs_hidden": true
    }
   },
   "outputs": [],
   "source": [
    "import os\n",
    "import boto3\n",
    "\n",
    "# Configuration\n",
    "local_dir = \"fine-tuned-model\"\n",
    "bucket_name = \"<BUCKET_NAME>\" # output from the cloudformation stack\n",
    "prefix = \"workshop\"  \n",
    "\n",
    "# Initialize S3 client\n",
    "s3_client = boto3.client('s3')\n",
    "\n",
    "# Upload fine-tuned model to S3 bucket \n",
    "for root, dirs, files in os.walk(local_dir):\n",
    "    for file in files:\n",
    "        local_path = os.path.join(root, file)\n",
    "        # Compute relative path to preserve folder structure in S3\n",
    "        relative_path = os.path.relpath(local_path, local_dir)\n",
    "        s3_key = f\"{prefix}/{relative_path}\" if prefix else relative_path\n",
    "\n",
    "        print(f\"Uploading to s3://{bucket_name}/{s3_key}...\")\n",
    "        s3_client.upload_file(\n",
    "            Filename=local_path,\n",
    "            Bucket=bucket_name,\n",
    "            Key=s3_key\n",
    "        )\n",
    "        print(f\"Successfully transferred {local_path} to s3://{bucket_name}/{s3_key}\")"
   ]
  },
  {
   "cell_type": "markdown",
   "id": "e4d84b9e-a697-4755-8d8b-868374367ebb",
   "metadata": {},
   "source": [
    "### Create a CMI job "
   ]
  },
  {
   "cell_type": "code",
   "execution_count": null,
   "id": "c3ab2cd4-3c92-4fd0-b235-5c0d4df36cfd",
   "metadata": {
    "execution": {
     "iopub.execute_input": "2025-06-18T11:29:38.094854Z",
     "iopub.status.busy": "2025-06-18T11:29:38.094257Z",
     "iopub.status.idle": "2025-06-18T11:29:38.288228Z",
     "shell.execute_reply": "2025-06-18T11:29:38.287765Z",
     "shell.execute_reply.started": "2025-06-18T11:29:38.094838Z"
    }
   },
   "outputs": [],
   "source": [
    "import boto3\n",
    "import datetime\n",
    "from sagemaker import get_execution_role\n",
    "\n",
    "\n",
    "client = boto3.client(\"bedrock\", region_name=\"us-west-2\")\n",
    "\n",
    "# Define your S3 model path and IAM role ARN\n",
    "\n",
    "s3_uri = f\"s3://{bucket_name}/{prefix}/mistral-small-instruct-24b-finetuned/cmi/\"\n",
    "role_arn = \"<BedrockImportRole>\"  # output from the cloudformation stack\n",
    "\n",
    "\n",
    "# Create the import job\n",
    "response = client.create_model_import_job(\n",
    "    jobName = f\"mistral-small-3-import-{datetime.datetime.now():%Y%m%d%H%M%S}\",\n",
    "    importedModelName = \"mistral-small-3-workshop\",\n",
    "    roleArn = role_arn,\n",
    "    modelDataSource = {\n",
    "        \"s3DataSource\": {\n",
    "            \"s3Uri\": s3_uri\n",
    "        }\n",
    "    },\n",
    ")"
   ]
  },
  {
   "cell_type": "code",
   "execution_count": null,
   "id": "1561909e-720a-4011-b20e-63ab70072365",
   "metadata": {
    "execution": {
     "iopub.execute_input": "2025-06-18T11:30:01.722166Z",
     "iopub.status.busy": "2025-06-18T11:30:01.721829Z",
     "iopub.status.idle": "2025-06-18T11:40:33.731999Z",
     "shell.execute_reply": "2025-06-18T11:40:33.731463Z",
     "shell.execute_reply.started": "2025-06-18T11:30:01.722150Z"
    }
   },
   "outputs": [],
   "source": [
    "import time\n",
    "job_id = response[\"jobArn\"]\n",
    "while True:\n",
    "    res = client.get_model_import_job(jobIdentifier=job_id)\n",
    "    status = res[\"status\"]\n",
    "    print(\"Status:\", status)\n",
    "    if status in [\"Completed\", \"Failed\"]:\n",
    "        break\n",
    "    time.sleep(30)\n",
    "if status == \"Completed\":\n",
    "    print(\"Imported model ARN:\", res[\"importedModelArn\"])\n",
    "else:\n",
    "    print(\"Failure reason:\", res.get(\"failureMessage\"))"
   ]
  },
  {
   "cell_type": "markdown",
   "id": "1526d705-6bc0-4864-a0e9-44dc5204269a",
   "metadata": {},
   "source": [
    "## Step 9: Evaluate Model Performance"
   ]
  },
  {
   "cell_type": "markdown",
   "id": "ae3c6dbe-5a3f-4b14-b4c2-4aa78fed8755",
   "metadata": {},
   "source": [
    "### Test mistral small 3.0 model before fine-tune"
   ]
  },
  {
   "cell_type": "code",
   "execution_count": 33,
   "id": "898a68fd-7286-460b-a320-0187081d561e",
   "metadata": {
    "execution": {
     "iopub.execute_input": "2025-06-18T11:41:28.014075Z",
     "iopub.status.busy": "2025-06-18T11:41:28.013449Z",
     "iopub.status.idle": "2025-06-18T11:41:28.018000Z",
     "shell.execute_reply": "2025-06-18T11:41:28.017489Z",
     "shell.execute_reply.started": "2025-06-18T11:41:28.014059Z"
    }
   },
   "outputs": [
    {
     "data": {
      "text/plain": [
       "'A 60-year-old male with a history of smoking and hypertension presents with sudden onset chest pain radiating to the left arm. His ECG shows ST-segment elevation in leads II, III, and aVF. What could be the diagnosis and the next steps?'"
      ]
     },
     "execution_count": 33,
     "metadata": {},
     "output_type": "execute_result"
    }
   ],
   "source": [
    "prompt = test_set[20]['Prompt']\n",
    "prompt"
   ]
  },
  {
   "cell_type": "code",
   "execution_count": 34,
   "id": "19808cea-6280-47c2-8d63-fe12d29ad27a",
   "metadata": {
    "execution": {
     "iopub.execute_input": "2025-06-18T11:41:29.400538Z",
     "iopub.status.busy": "2025-06-18T11:41:29.400194Z",
     "iopub.status.idle": "2025-06-18T11:41:29.404275Z",
     "shell.execute_reply": "2025-06-18T11:41:29.403831Z",
     "shell.execute_reply.started": "2025-06-18T11:41:29.400522Z"
    }
   },
   "outputs": [
    {
     "data": {
      "text/plain": [
       "\"The patient's symptoms and ECG findings suggest ST-segment elevation myocardial infarction (STEMI), specifically involving the inferior wall of the heart. This is a type of acute coronary syndrome (ACS) and is a medical emergency. The patient should receive aspirin and be prepared for immediate reperfusion therapy, preferably primary percutaneous coronary intervention (PCI), if available and if there are no contraindications.\""
      ]
     },
     "execution_count": 34,
     "metadata": {},
     "output_type": "execute_result"
    }
   ],
   "source": [
    "groundthruth= test_set[20]['Completion']\n",
    "groundthruth"
   ]
  },
  {
   "cell_type": "markdown",
   "id": "74683f18-c2f1-48db-bef3-74e97c577e50",
   "metadata": {},
   "source": [
    "### Mistral Small 3.0 before fine-tune "
   ]
  },
  {
   "cell_type": "code",
   "execution_count": 35,
   "id": "2b90633f-fd1c-4345-a67c-324bcbbc467e",
   "metadata": {
    "execution": {
     "iopub.execute_input": "2025-06-18T11:41:54.851740Z",
     "iopub.status.busy": "2025-06-18T11:41:54.851279Z",
     "iopub.status.idle": "2025-06-18T11:42:24.535698Z",
     "shell.execute_reply": "2025-06-18T11:42:24.535190Z",
     "shell.execute_reply.started": "2025-06-18T11:41:54.851722Z"
    }
   },
   "outputs": [
    {
     "name": "stdout",
     "output_type": "stream",
     "text": [
      "Based on the information provided, the diagnosis is likely an **inferior wall ST-elevation myocardial infarction (STEMI)**. Here's why:\n",
      "\n",
      "- **Symptoms**: Sudden onset chest pain radiating to the left arm is a classic symptom of myocardial infarction.\n",
      "- **Risk Factors**: The patient's history of smoking and hypertension are significant risk factors for coronary artery disease.\n",
      "- **ECG Findings**: ST-segment elevation in leads II, III, and aVF is indicative of an inferior wall STEMI.\n",
      "\n",
      "### Next Steps:\n",
      "\n",
      "1. **Immediate Management**:\n",
      "   - **Activate the Catheterization Lab**: If available, immediate percutaneous coronary intervention (PCI) is the preferred treatment for STEMI.\n",
      "   - **Administer Aspirin**: 162-325 mg chewed and swallowed.\n",
      "   - **Administer P2Y12 Inhibitor**: Such as clopidogrel (300-600 mg loading dose) or ticagrelor (180 mg loading dose).\n",
      "   - **Administer Anticoagulant**: Such as unfractionated heparin or bivalirudin.\n",
      "   - **Administer Oxygen**: If the patient is hypoxic.\n",
      "   - **Administer Nitroglycerin**: If the patient is not hypotensive and does not have right ventricular infarction.\n",
      "   - **Administer Morphine**: For pain relief if needed.\n",
      "\n",
      "2. **Diagnostic Tests**:\n",
      "   - **Cardiac Biomarkers**: Measure troponin levels to confirm the diagnosis of myocardial infarction.\n",
      "   - **Echocardiogram**: To assess left ventricular function and detect any complications such as wall motion abnormalities or valvular dysfunction.\n",
      "   - **Coronary Angiography**: To identify the culprit lesion and guide revascularization.\n",
      "\n",
      "3. **Monitoring**:\n",
      "   - **Continuous ECG Monitoring**: To detect arrhythmias.\n",
      "   - **Vital Signs**: Regular monitoring of blood pressure, heart rate, and oxygen saturation.\n",
      "\n",
      "4. **Supportive Care**:\n",
      "   - **Fluid Management**: Ensure adequate hydration but avoid fluid overload.\n",
      "   - **Pain Management**: Continue to manage pain as needed.\n",
      "   - **Antiplatelet and Anticoagulant Therapy**: Continue as per guidelines.\n",
      "\n",
      "5. **Follow-Up**:\n",
      "   - **Cardiac Rehabilitation**: Post-discharge to improve outcomes and reduce the risk of future cardiovascular events.\n",
      "   - **Lifestyle Modifications**: Smoking cessation, dietary changes, and regular exercise.\n",
      "   - **Medication Management**: Long-term use of antiplatelet agents, statins, beta-blockers, and ACE inhibitors as indicated.\n",
      "\n",
      "### Complications to Watch For:\n",
      "- **Arrhythmias**: Especially ventricular arrhythmias.\n",
      "- **Heart Failure**: Due to reduced cardiac output.\n",
      "- **Cardiogenic Shock**: A medical emergency requiring immediate intervention.\n",
      "- **Mechanical Complications**: Such as ventricular septal rupture or papillary muscle rupture.\n",
      "\n",
      "Prompt and appropriate management is crucial to minimize myocardial damage and improve patient outcomes.\n"
     ]
    }
   ],
   "source": [
    "# Initialize Bedrock client\n",
    "bedrock = boto3.client('bedrock-runtime', region_name='us-west-2')\n",
    "base_model_id = \"<MISTRAL_SMALL_ENDPOINT_ARN>\"\n",
    "## replace with your mistral small 3 endpoint ARN from the first notebook\n",
    "\n",
    "\n",
    "result_before = bedrock.converse(\n",
    "  modelId=base_model_id,\n",
    "  messages=[\n",
    "      {\n",
    "          \"role\": \"user\",\n",
    "          \"content\": [{\"text\": prompt}]\n",
    "      }\n",
    "  ],\n",
    "  inferenceConfig={\n",
    "      \"maxTokens\": 1000,\n",
    "      \"temperature\": 0.3,\n",
    "      \"topP\": 0.9,\n",
    "      \"stopSequences\": [\"###prompt\", \"### prompt\"]\n",
    "  }\n",
    ")\n",
    "\n",
    "print(result_before['output']['message']['content'][0]['text'])"
   ]
  },
  {
   "cell_type": "markdown",
   "id": "def6e49c-92c7-4423-9349-2b06ec2a0a2f",
   "metadata": {},
   "source": [
    "### Mistral Small 3.0 after fine-tune with medical dataset"
   ]
  },
  {
   "cell_type": "code",
   "execution_count": 39,
   "id": "a41582ac-2e7b-4d12-beb1-5bdd64c4e192",
   "metadata": {
    "execution": {
     "iopub.execute_input": "2025-06-18T11:47:10.164225Z",
     "iopub.status.busy": "2025-06-18T11:47:10.163811Z",
     "iopub.status.idle": "2025-06-18T11:47:12.176542Z",
     "shell.execute_reply": "2025-06-18T11:47:12.176073Z",
     "shell.execute_reply.started": "2025-06-18T11:47:10.164208Z"
    }
   },
   "outputs": [
    {
     "name": "stdout",
     "output_type": "stream",
     "text": [
      "The patient's symptoms and ECG findings are suggestive of an inferior wall ST-segment elevation myocardial infarction (STEMI), likely due to occlusion of the right coronary artery. Immediate management should include administration of aspirin, sublingual nitroglycerin, oxygen if hypoxic, and initiation of reperfusion strategy, either through thrombolytic therapy or emergent cardiac catheterization if available.\n"
     ]
    }
   ],
   "source": [
    "import json\n",
    "import boto3\n",
    "from botocore.config import Config\n",
    "fine_tuned_model_id = res[\"importedModelArn\"]\n",
    "\n",
    "# handle \"Model is not ready for inference\" error \n",
    "config = Config(\n",
    "    retries={\n",
    "        'total_max_attempts': 10, \n",
    "        'mode': 'standard'\n",
    "    }\n",
    ")\n",
    "\n",
    "session = boto3.session.Session()\n",
    "bedrock = session.client(service_name = 'bedrock-runtime', config=config)\n",
    "\n",
    "# Build the inference payload according to model's request format\n",
    "payload = {\n",
    "    \"prompt\": prompt,\n",
    "    \"temperature\": 0.3,\n",
    "    \"max_tokens\": 1000,\n",
    "    \"top_p\": 0.9,\n",
    "    \"stop\": [\"\\n###\"]\n",
    "}\n",
    "\n",
    "try:\n",
    "    response = bedrock.invoke_model(\n",
    "        modelId=fine_tuned_model_id,\n",
    "        body=json.dumps(payload),\n",
    "        contentType=\"application/json\",\n",
    "    )\n",
    "    # Parse and display the output\n",
    "    model_output = json.loads(response[\"body\"].read())\n",
    "    result_after = model_output[\"outputs\"][0]['text']\n",
    "    \n",
    "    resp_prefix = \"### completion:\"\n",
    "    if result_after.startswith(resp_prefix):\n",
    "        result_after = result_after[len(resp_prefix):].strip()\n",
    "    \n",
    "    print(result_after)\n",
    "except Exception as e:\n",
    "    print(e)\n",
    "    print(e.__repr__())"
   ]
  },
  {
   "cell_type": "markdown",
   "id": "cb51019a-8e3e-444d-a247-1fc79e4dc805",
   "metadata": {},
   "source": [
    "## 🎉 Workshop Complete!\n",
    "\n",
    "You've successfully learned how to:\n",
    "\n",
    "### ✅ What You've Accomplished:\n",
    "1. **Set up** QLoRA fine-tuning environment\n",
    "2. **Loaded** and preprocessed medical training data\n",
    "3. **Configured** Mistral Small 24B with 4-bit quantization\n",
    "4. **Applied** LoRA adapters for efficient training\n",
    "5. **Understood** model preparation for Bedrock deployment\n",
    "\n",
    "### 🚀 Next Steps:\n",
    "- **Run the training**: Uncomment `trainer.train()` to start fine-tuning\n",
    "- **Test your model**: Compare base vs fine-tuned performance\n",
    "- **Deploy to Bedrock**: Use Custom Model Import for production\n",
    "\n",
    "### 📚 Additional Resources:\n",
    "- [Amazon Bedrock Custom Model Import](https://docs.aws.amazon.com/bedrock/latest/userguide/model-customization-import-model.html)\n",
    "- [PEFT LoRA Documentation](https://huggingface.co/docs/peft/main/en/conceptual_guides/lora)\n",
    "- [Mistral AI Documentation](https://docs.mistral.ai/)"
   ]
  }
 ],
 "metadata": {
  "kernelspec": {
   "display_name": "Python 3 (ipykernel)",
   "language": "python",
   "name": "python3"
  },
  "language_info": {
   "codemirror_mode": {
    "name": "ipython",
    "version": 3
   },
   "file_extension": ".py",
   "mimetype": "text/x-python",
   "name": "python",
   "nbconvert_exporter": "python",
   "pygments_lexer": "ipython3",
   "version": "3.12.9"
  }
 },
 "nbformat": 4,
 "nbformat_minor": 5
}
