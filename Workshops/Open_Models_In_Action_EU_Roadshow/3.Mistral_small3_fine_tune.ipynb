{
 "cells": [
  {
   "cell_type": "markdown",
   "id": "e5102bd3-af3f-4786-86af-16275bb99b74",
   "metadata": {},
   "source": [
    "# Workshop3: Fine-tuning Mistral Small 24B with QLoRA\n",
    "\n",
    "Welcome to this hands-on workshop! By the end of this session, you'll have fine-tuned a Mistral Small 24B model for medical diagnosis and deployed it as a custom model in Amazon Bedrock.\n",
    "\n",
    "### What You'll Learn:\n",
    "- Fine-tuning large language models with QLoRA (Quantized LoRA)\n",
    "- Working with medical datasets for AI training\n",
    "- Preparing models for Amazon Bedrock Custom Model Import\n",
    "- Comparing base vs fine-tuned model performance\n",
    "\n",
    "### Prerequisites:\n",
    "- AWS account with Bedrock access\n",
    "- SageMaker Studio or similar GPU environment\n",
    "- Basic understanding of machine learning concepts"
   ]
  },
  {
   "cell_type": "markdown",
   "id": "bc2de331-07f3-4de5-a4eb-16df0fa79a8b",
   "metadata": {},
   "source": [
    "## Workshop Overview:\n",
    "1. **Environment Setup** - Install dependencies and configure environment\n",
    "2. **Data Preparation** - Load and prepare medical training data\n",
    "3. **Model Loading** - Load quantized Mistral Small 24B model\n",
    "4. **QLoRA Configuration** - Set up efficient fine-tuning adapters\n",
    "5. **Training** - Fine-tune the model on medical data\n",
    "6. **Evaluation** - Compare base vs fine-tuned performance\n",
    "7. **Model Preparation** - Prepare for Bedrock deployment"
   ]
  },
  {
   "cell_type": "markdown",
   "id": "81158e6b-4020-492e-8885-dd9b57b66314",
   "metadata": {},
   "source": [
    "<mark>Note: We don't fine-tune the model during the workshop. If you want to fine-tune the model later offline, recommended configurations are:</mark>\n",
    "- **Instance Type**: `ml.g5.48xlarge` or similar (8 A10G GPUs, 24GB GPU memory each)\n",
    "- **Alternative**: `ml.g6.16xlarge` (1 NVIDIA L4 GPUs, 24 GB GPU memory) \n",
    "- **Environment**: SageMaker Studio with Python 3 kernel"
   ]
  },
  {
   "cell_type": "markdown",
   "id": "efa05520-efa8-41ef-a489-524d7d1c480b",
   "metadata": {},
   "source": [
    "## Step 1: Environment Setup & Prerequisites"
   ]
  },
  {
   "cell_type": "markdown",
   "id": "207ea6b2-265d-4576-95bd-1b3ceb10fe3d",
   "metadata": {},
   "source": [
    "Let's start by setting up our environment and understanding our tools:\n",
    "\n",
    "### Dataset Information:\n",
    "We'll use the **BI55/MedText** dataset, which contains medical prompts and completions for training a medical AI assistant.\n",
    "\n",
    "### Hugging Face Setup:\n",
    "1. Get access to [Mistral Small 24B Instruct](https://huggingface.co/mistralai/Mistral-Small-24B-Instruct-2501)\n",
    "2. Create a [Hugging Face API token](https://huggingface.co/docs/hub/en/security-tokens) with READ permissions\n",
    "3. Login using `notebook_login()`"
   ]
  },
  {
   "cell_type": "code",
   "execution_count": 1,
   "id": "44e6ba31-44da-4a36-89b8-955d3a4d829a",
   "metadata": {
    "execution": {
     "iopub.execute_input": "2025-06-13T13:52:44.936849Z",
     "iopub.status.busy": "2025-06-13T13:52:44.936575Z",
     "iopub.status.idle": "2025-06-13T13:52:45.070594Z",
     "shell.execute_reply": "2025-06-13T13:52:45.070179Z",
     "shell.execute_reply.started": "2025-06-13T13:52:44.936833Z"
    }
   },
   "outputs": [
    {
     "data": {
      "application/vnd.jupyter.widget-view+json": {
       "model_id": "129751c9a0154991805fa08578f7b7af",
       "version_major": 2,
       "version_minor": 0
      },
      "text/plain": [
       "VBox(children=(HTML(value='<center> <img\\nsrc=https://huggingface.co/front/assets/huggingface_logo-noborder.sv…"
      ]
     },
     "metadata": {},
     "output_type": "display_data"
    }
   ],
   "source": [
    "from huggingface_hub import notebook_login\n",
    "\n",
    "notebook_login()"
   ]
  },
  {
   "cell_type": "code",
   "execution_count": 3,
   "id": "e671e58d-5bd8-41eb-8e1d-a77194c62eee",
   "metadata": {
    "execution": {
     "iopub.execute_input": "2025-06-13T13:54:05.548651Z",
     "iopub.status.busy": "2025-06-13T13:54:05.548490Z",
     "iopub.status.idle": "2025-06-13T13:54:05.550890Z",
     "shell.execute_reply": "2025-06-13T13:54:05.550482Z",
     "shell.execute_reply.started": "2025-06-13T13:54:05.548635Z"
    }
   },
   "outputs": [],
   "source": [
    "import warnings\n",
    "warnings.filterwarnings(\"ignore\")"
   ]
  },
  {
   "cell_type": "markdown",
   "id": "ddb5cc7d-823b-4dfd-a1a9-80812a83ac42",
   "metadata": {},
   "source": [
    "### Install Required Libraries"
   ]
  },
  {
   "cell_type": "code",
   "execution_count": 2,
   "id": "7aeeeb01-e2df-4e20-8b4a-a26d9ddb0964",
   "metadata": {
    "execution": {
     "iopub.execute_input": "2025-06-13T13:52:58.143222Z",
     "iopub.status.busy": "2025-06-13T13:52:58.142530Z",
     "iopub.status.idle": "2025-06-13T13:54:05.485940Z",
     "shell.execute_reply": "2025-06-13T13:54:05.485359Z",
     "shell.execute_reply.started": "2025-06-13T13:52:58.143186Z"
    }
   },
   "outputs": [
    {
     "name": "stdout",
     "output_type": "stream",
     "text": [
      "\u001b[31mERROR: pip's dependency resolver does not currently take into account all the packages that are installed. This behaviour is the source of the following dependency conflicts.\n",
      "autogluon-multimodal 1.3.0 requires nvidia-ml-py3<8.0,>=7.352.0, which is not installed.\n",
      "autogluon-multimodal 1.3.0 requires transformers[sentencepiece]<4.50,>=4.38.0, but you have transformers 4.51.3 which is incompatible.\n",
      "autogluon-timeseries 1.3.0 requires coreforecast<0.0.16,>=0.0.12, but you have coreforecast 0.0.16 which is incompatible.\n",
      "autogluon-timeseries 1.3.0 requires transformers[sentencepiece]<4.50,>=4.38.0, but you have transformers 4.51.3 which is incompatible.\u001b[0m\u001b[31m\n",
      "\u001b[0m\u001b[31mERROR: pip's dependency resolver does not currently take into account all the packages that are installed. This behaviour is the source of the following dependency conflicts.\n",
      "amazon-sagemaker-jupyter-ai-q-developer 1.2.4 requires onnxruntime<2,>=1.15.0, which is not installed.\n",
      "autogluon-multimodal 1.3.0 requires nvidia-ml-py3<8.0,>=7.352.0, which is not installed.\n",
      "autogluon-multimodal 1.3.0 requires torch<2.7,>=2.2, but you have torch 2.7.1 which is incompatible.\n",
      "autogluon-timeseries 1.3.0 requires coreforecast<0.0.16,>=0.0.12, but you have coreforecast 0.0.16 which is incompatible.\n",
      "autogluon-timeseries 1.3.0 requires torch<2.7,>=2.2, but you have torch 2.7.1 which is incompatible.\n",
      "fastai 2.7.19 requires torch<2.7,>=1.10, but you have torch 2.7.1 which is incompatible.\n",
      "pathos 0.3.4 requires dill>=0.4.0, but you have dill 0.3.8 which is incompatible.\n",
      "pathos 0.3.4 requires multiprocess>=0.70.18, but you have multiprocess 0.70.16 which is incompatible.\u001b[0m\u001b[31m\n",
      "\u001b[0m"
     ]
    }
   ],
   "source": [
    "!pip3 install -qU accelerate>=1.6.0\n",
    "!pip3 install -qU torch bitsandbytes transformers==4.46.3 peft datasets\n",
    "!pip3 install -qU tensorboardX"
   ]
  },
  {
   "cell_type": "code",
   "execution_count": 4,
   "id": "44d8b1cb-b09a-440a-8720-f7c330f134a4",
   "metadata": {
    "execution": {
     "iopub.execute_input": "2025-06-13T13:54:05.551921Z",
     "iopub.status.busy": "2025-06-13T13:54:05.551634Z",
     "iopub.status.idle": "2025-06-13T13:54:05.556210Z",
     "shell.execute_reply": "2025-06-13T13:54:05.555850Z",
     "shell.execute_reply.started": "2025-06-13T13:54:05.551907Z"
    }
   },
   "outputs": [],
   "source": [
    "# Add installed cuda runtime to path for bitsandbytes \n",
    "import nvidia\n",
    "import os\n",
    "\n",
    "cuda_install_dir = '/'.join(nvidia.__file__.split('/')[:-1]) + '/cuda_runtime/lib/'\n",
    "os.environ['LD_LIBRARY_PATH'] =  cuda_install_dir"
   ]
  },
  {
   "cell_type": "markdown",
   "id": "b40e4f3f-fd60-4b44-807a-defbc5b258a0",
   "metadata": {
    "execution": {
     "iopub.execute_input": "2025-06-13T11:25:28.980761Z",
     "iopub.status.busy": "2025-06-13T11:25:28.980491Z",
     "iopub.status.idle": "2025-06-13T11:25:28.983043Z",
     "shell.execute_reply": "2025-06-13T11:25:28.982691Z",
     "shell.execute_reply.started": "2025-06-13T11:25:28.980747Z"
    }
   },
   "source": [
    "## Step 2: Load and Prepare Medical Dataset"
   ]
  },
  {
   "cell_type": "code",
   "execution_count": 5,
   "id": "160fa98f-fb15-4a92-b2d2-bf335b40fc91",
   "metadata": {
    "execution": {
     "iopub.execute_input": "2025-06-13T13:54:05.556888Z",
     "iopub.status.busy": "2025-06-13T13:54:05.556608Z",
     "iopub.status.idle": "2025-06-13T13:54:08.944234Z",
     "shell.execute_reply": "2025-06-13T13:54:08.943762Z",
     "shell.execute_reply.started": "2025-06-13T13:54:05.556874Z"
    }
   },
   "outputs": [
    {
     "name": "stdout",
     "output_type": "stream",
     "text": [
      "🏥 Loading medical dataset...\n",
      "✅ Dataset loaded successfully!\n"
     ]
    }
   ],
   "source": [
    "# Load the medical dataset and split into train/validation/test sets\n",
    "from datasets import load_dataset\n",
    "import torch\n",
    "\n",
    "print(\"🏥 Loading medical dataset...\")\n",
    "dataset = load_dataset(\"BI55/MedText\", split=\"train\")\n",
    "\n",
    "# Split into 80% train, 10% validation, 10% test\n",
    "split_1 = dataset.train_test_split(test_size=0.2, seed=42)\n",
    "split_2 = split_1['test'].train_test_split(test_size=0.5, seed=42)\n",
    "\n",
    "train_set = split_1['train']\n",
    "validation_set = split_2['train']\n",
    "test_set = split_2['test']\n",
    "\n",
    "print(f\"✅ Dataset loaded successfully!\")"
   ]
  },
  {
   "cell_type": "code",
   "execution_count": 9,
   "id": "13b8b015-1619-45d1-87f3-dbe3787ca7b6",
   "metadata": {
    "execution": {
     "iopub.execute_input": "2025-06-13T13:58:16.881193Z",
     "iopub.status.busy": "2025-06-13T13:58:16.880858Z",
     "iopub.status.idle": "2025-06-13T13:58:16.884704Z",
     "shell.execute_reply": "2025-06-13T13:58:16.884289Z",
     "shell.execute_reply.started": "2025-06-13T13:58:16.881178Z"
    }
   },
   "outputs": [
    {
     "name": "stdout",
     "output_type": "stream",
     "text": [
      "🔍 Dataset structure:\n",
      "   Features: {'Prompt': Value(dtype='string', id=None), 'Completion': Value(dtype='string', id=None)}\n",
      "\n",
      "📋 Sample data point:\n",
      "   Prompt: A 16-year-old male presents with multiple blackheads and red bumps on his forehead, cheeks, and nose. He mentions they have been persisting for about a year, and he feels his skin is quite oily. What could be the potential cause, and what would be the treatment plan?\n",
      "   Completion: This patient is likely suffering from moderate acne vulgaris, characterized by a mix of open comedones (blackheads) and inflammatory lesions (red bumps). Acne vulgaris is common during adolescence due to increased sebum production, prompted by hormonal changes. The first line of treatment includes topical retinoids, which help unclog pores, and topical antimicrobials such as benzoyl peroxide or clindamycin to reduce bacterial growth and inflammation.\n"
     ]
    }
   ],
   "source": [
    "# Let's examine our dataset structure\n",
    "print(\"🔍 Dataset structure:\")\n",
    "print(f\"   Features: {train_set.features}\")\n",
    "print(f\"\\n📋 Sample data point:\")\n",
    "print(f\"   Prompt: {train_set[0]['Prompt']}\")\n",
    "print(f\"   Completion: {train_set[0]['Completion']}\")"
   ]
  },
  {
   "cell_type": "markdown",
   "id": "abb25309-c886-49f3-bee8-8b4e4cf5f707",
   "metadata": {},
   "source": [
    "## Step 3: Load Quantized Mistral Small 24B Model"
   ]
  },
  {
   "cell_type": "code",
   "execution_count": 5,
   "id": "898c64bc-f691-4b85-828c-f1450b02bc77",
   "metadata": {
    "execution": {
     "iopub.execute_input": "2025-06-13T12:58:15.222159Z",
     "iopub.status.busy": "2025-06-13T12:58:15.221467Z",
     "iopub.status.idle": "2025-06-13T12:58:33.285996Z",
     "shell.execute_reply": "2025-06-13T12:58:33.285525Z",
     "shell.execute_reply.started": "2025-06-13T12:58:15.222121Z"
    },
    "scrolled": true
   },
   "outputs": [
    {
     "name": "stdout",
     "output_type": "stream",
     "text": [
      "🚀 Loading Mistral Small 24B model...\n"
     ]
    },
    {
     "name": "stderr",
     "output_type": "stream",
     "text": [
      "2025-06-13 12:58:16.934719: E external/local_xla/xla/stream_executor/cuda/cuda_fft.cc:477] Unable to register cuFFT factory: Attempting to register factory for plugin cuFFT when one has already been registered\n",
      "WARNING: All log messages before absl::InitializeLog() is called are written to STDERR\n",
      "E0000 00:00:1749819496.945856    2787 cuda_dnn.cc:8310] Unable to register cuDNN factory: Attempting to register factory for plugin cuDNN when one has already been registered\n",
      "E0000 00:00:1749819496.949327    2787 cuda_blas.cc:1418] Unable to register cuBLAS factory: Attempting to register factory for plugin cuBLAS when one has already been registered\n",
      "2025-06-13 12:58:16.961086: I tensorflow/core/platform/cpu_feature_guard.cc:210] This TensorFlow binary is optimized to use available CPU instructions in performance-critical operations.\n",
      "To enable the following instructions: SSE4.1 SSE4.2 AVX AVX2 FMA, in other operations, rebuild TensorFlow with the appropriate compiler flags.\n"
     ]
    },
    {
     "data": {
      "application/vnd.jupyter.widget-view+json": {
       "model_id": "408a74acac1a4694809c0c8524e85f52",
       "version_major": 2,
       "version_minor": 0
      },
      "text/plain": [
       "Loading checkpoint shards:   0%|          | 0/10 [00:00<?, ?it/s]"
      ]
     },
     "metadata": {},
     "output_type": "display_data"
    },
    {
     "name": "stdout",
     "output_type": "stream",
     "text": [
      "✅ Model loaded successfully!\n"
     ]
    }
   ],
   "source": [
    "# Load the quantized model with 4-bit precision for efficient training\n",
    "from transformers import AutoTokenizer, AutoModelForCausalLM, BitsAndBytesConfig\n",
    "\n",
    "print(\"🚀 Loading Mistral Small 24B model...\")\n",
    "model_id = \"mistralai/Mistral-Small-24B-Instruct-2501\"\n",
    "\n",
    "# Configure 4-bit quantization for memory efficiency\n",
    "bnb_config = BitsAndBytesConfig(\n",
    "    load_in_4bit=True,\n",
    "    bnb_4bit_use_double_quant=True,\n",
    "    bnb_4bit_compute_dtype=torch.bfloat16\n",
    ")\n",
    "\n",
    "# Load model with quantization\n",
    "model = AutoModelForCausalLM.from_pretrained(\n",
    "    model_id, \n",
    "    quantization_config=bnb_config, \n",
    "    device_map=\"auto\", \n",
    "    cache_dir=\"/home/sagemaker-user/model_cache\"  # Use NVMe storage for caching\n",
    ")\n",
    "\n",
    "print(\"✅ Model loaded successfully!\")\n"
   ]
  },
  {
   "cell_type": "code",
   "execution_count": 6,
   "id": "b567741c-5e7c-478c-aacf-11dcd1ad2f23",
   "metadata": {
    "collapsed": true,
    "execution": {
     "iopub.execute_input": "2025-06-13T13:02:38.605474Z",
     "iopub.status.busy": "2025-06-13T13:02:38.604903Z",
     "iopub.status.idle": "2025-06-13T13:02:38.789522Z",
     "shell.execute_reply": "2025-06-13T13:02:38.788964Z",
     "shell.execute_reply.started": "2025-06-13T13:02:38.605457Z"
    },
    "jupyter": {
     "outputs_hidden": true
    }
   },
   "outputs": [
    {
     "name": "stdout",
     "output_type": "stream",
     "text": [
      "Filesystem                             Size  Used Avail Use% Mounted on\n",
      "overlay                                 37G  5.3G   32G  15% /\n",
      "tmpfs                                   64M     0   64M   0% /dev\n",
      "tmpfs                                   61G     0   61G   0% /sys/fs/cgroup\n",
      "shm                                     16G   80K   16G   1% /dev/shm\n",
      "/dev/mapper/sagemaker_vg-sagemaker_lv  838G   50G  788G   6% /mnt/sagemaker-nvme\n",
      "/dev/nvme0n1p1                         180G   31G  150G  17% /usr/bin/nvidia-smi\n",
      "/dev/nvme3n1                           100G   49G   52G  49% /home/sagemaker-user\n",
      "127.0.0.1:/                            8.0E     0  8.0E   0% /mnt/custom-file-systems/efs/fs-09badb99b5c560bea_fsap-0c61ab2cee099341a\n",
      "tmpfs                                   61G   12K   61G   1% /proc/driver/nvidia\n",
      "tmpfs                                   61G  1.3M   61G   1% /run/nvidia-persistenced/socket\n",
      "tmpfs                                   61G     0   61G   0% /proc/acpi\n",
      "tmpfs                                   61G     0   61G   0% /sys/firmware\n"
     ]
    }
   ],
   "source": [
    "!df -h"
   ]
  },
  {
   "cell_type": "markdown",
   "id": "cee32c32-75a9-478b-838c-567c2272a78d",
   "metadata": {},
   "source": [
    "## Step 4: Tokenization and Data Preprocessing"
   ]
  },
  {
   "cell_type": "code",
   "execution_count": 8,
   "id": "05d2bc9f-e1a3-4dc9-8ad2-ff7a2e9ef250",
   "metadata": {
    "execution": {
     "iopub.execute_input": "2025-06-13T13:58:04.511377Z",
     "iopub.status.busy": "2025-06-13T13:58:04.510998Z",
     "iopub.status.idle": "2025-06-13T13:58:04.523468Z",
     "shell.execute_reply": "2025-06-13T13:58:04.522899Z",
     "shell.execute_reply.started": "2025-06-13T13:58:04.511361Z"
    }
   },
   "outputs": [
    {
     "name": "stdout",
     "output_type": "stream",
     "text": [
      "🔤 Loading tokenizer...\n"
     ]
    },
    {
     "ename": "NameError",
     "evalue": "name 'AutoTokenizer' is not defined",
     "output_type": "error",
     "traceback": [
      "\u001b[0;31m---------------------------------------------------------------------------\u001b[0m",
      "\u001b[0;31mNameError\u001b[0m                                 Traceback (most recent call last)",
      "Cell \u001b[0;32mIn[8], line 3\u001b[0m\n\u001b[1;32m      1\u001b[0m \u001b[38;5;66;03m# Load tokenizer for text processing\u001b[39;00m\n\u001b[1;32m      2\u001b[0m \u001b[38;5;28mprint\u001b[39m(\u001b[38;5;124m\"\u001b[39m\u001b[38;5;124m🔤 Loading tokenizer...\u001b[39m\u001b[38;5;124m\"\u001b[39m)\n\u001b[0;32m----> 3\u001b[0m tokenizer \u001b[38;5;241m=\u001b[39m \u001b[43mAutoTokenizer\u001b[49m\u001b[38;5;241m.\u001b[39mfrom_pretrained(\n\u001b[1;32m      4\u001b[0m     model_id, \n\u001b[1;32m      5\u001b[0m     add_eos_token\u001b[38;5;241m=\u001b[39m\u001b[38;5;28;01mTrue\u001b[39;00m,    \u001b[38;5;66;03m# End Of Sentence Token\u001b[39;00m\n\u001b[1;32m      6\u001b[0m     add_bos_token\u001b[38;5;241m=\u001b[39m\u001b[38;5;28;01mTrue\u001b[39;00m     \u001b[38;5;66;03m# Beginning Of Sentence Token\u001b[39;00m\n\u001b[1;32m      7\u001b[0m )\n\u001b[1;32m      8\u001b[0m \u001b[38;5;28mprint\u001b[39m(\u001b[38;5;124m\"\u001b[39m\u001b[38;5;124m✅ Tokenizer loaded successfully!\u001b[39m\u001b[38;5;124m\"\u001b[39m)\n",
      "\u001b[0;31mNameError\u001b[0m: name 'AutoTokenizer' is not defined"
     ]
    }
   ],
   "source": [
    "# Load tokenizer for text processing\n",
    "print(\"🔤 Loading tokenizer...\")\n",
    "tokenizer = AutoTokenizer.from_pretrained(\n",
    "    model_id, \n",
    "    add_eos_token=True,    # End Of Sentence Token\n",
    "    add_bos_token=True     # Beginning Of Sentence Token\n",
    ")\n",
    "print(\"✅ Tokenizer loaded successfully!\")"
   ]
  },
  {
   "cell_type": "markdown",
   "id": "8fb1fd17-6497-4ea4-a783-660d8b1b5431",
   "metadata": {},
   "source": [
    "### Format Training Data\n",
    "We need to format our medical data with a consistent prompt template for training:"
   ]
  },
  {
   "cell_type": "code",
   "execution_count": 8,
   "id": "bc879266-4973-48a4-9ffa-0e0f3dfb3204",
   "metadata": {
    "execution": {
     "iopub.execute_input": "2025-06-13T13:02:49.898091Z",
     "iopub.status.busy": "2025-06-13T13:02:49.897139Z",
     "iopub.status.idle": "2025-06-13T13:02:49.901034Z",
     "shell.execute_reply": "2025-06-13T13:02:49.900607Z",
     "shell.execute_reply.started": "2025-06-13T13:02:49.898043Z"
    }
   },
   "outputs": [],
   "source": [
    "# Tokenization function\n",
    "def tokenize(prompt):\n",
    "    result = tokenizer(prompt)\n",
    "    result[\"labels\"] = result[\"input_ids\"].copy()   # Setting labels = input_ids for causal LM\n",
    "    return result"
   ]
  },
  {
   "cell_type": "code",
   "execution_count": 9,
   "id": "fe1cc27b-a86f-469c-bd7d-95c2cd441aa6",
   "metadata": {
    "execution": {
     "iopub.execute_input": "2025-06-13T13:02:52.622256Z",
     "iopub.status.busy": "2025-06-13T13:02:52.621603Z",
     "iopub.status.idle": "2025-06-13T13:02:52.624689Z",
     "shell.execute_reply": "2025-06-13T13:02:52.624312Z",
     "shell.execute_reply.started": "2025-06-13T13:02:52.622239Z"
    }
   },
   "outputs": [],
   "source": [
    "# Format data with medical prompt template\n",
    "def generate_and_tokenize_prompt(data_point):\n",
    "    full_prompt = f\"\"\"You are a medical professional. Given a prompt of a user with different symptoms, provide a diagnosis.\n",
    "\n",
    "    ### Prompt:\n",
    "    {data_point[\"Prompt\"]}\n",
    "    \n",
    "    ### Response:\n",
    "    {data_point[\"Completion\"]}\n",
    "    \"\"\"\n",
    "    return tokenize(full_prompt)"
   ]
  },
  {
   "cell_type": "code",
   "execution_count": 10,
   "id": "b7d34e4d-5dbb-4053-8f35-ecd0c79b27b2",
   "metadata": {
    "execution": {
     "iopub.execute_input": "2025-06-13T13:02:54.922560Z",
     "iopub.status.busy": "2025-06-13T13:02:54.922058Z",
     "iopub.status.idle": "2025-06-13T13:02:55.725130Z",
     "shell.execute_reply": "2025-06-13T13:02:55.724371Z",
     "shell.execute_reply.started": "2025-06-13T13:02:54.922545Z"
    }
   },
   "outputs": [
    {
     "name": "stdout",
     "output_type": "stream",
     "text": [
      "🔄 Tokenizing datasets...\n"
     ]
    },
    {
     "data": {
      "application/vnd.jupyter.widget-view+json": {
       "model_id": "162e511b5b56499d8f80f91ac4309f4c",
       "version_major": 2,
       "version_minor": 0
      },
      "text/plain": [
       "Map:   0%|          | 0/1129 [00:00<?, ? examples/s]"
      ]
     },
     "metadata": {},
     "output_type": "display_data"
    },
    {
     "data": {
      "application/vnd.jupyter.widget-view+json": {
       "model_id": "f232da8c939f45938e260d5886251133",
       "version_major": 2,
       "version_minor": 0
      },
      "text/plain": [
       "Map:   0%|          | 0/141 [00:00<?, ? examples/s]"
      ]
     },
     "metadata": {},
     "output_type": "display_data"
    },
    {
     "name": "stdout",
     "output_type": "stream",
     "text": [
      "✅ Tokenization complete!\n"
     ]
    }
   ],
   "source": [
    "# Apply tokenization to our datasets\n",
    "print(\"🔄 Tokenizing datasets...\")\n",
    "tokenized_train_dataset = train_set.map(generate_and_tokenize_prompt)\n",
    "tokenized_validation_dataset = validation_set.map(generate_and_tokenize_prompt)\n",
    "print(\"✅ Tokenization complete!\")"
   ]
  },
  {
   "cell_type": "markdown",
   "id": "7e1b18f0-2d21-4514-a2b4-af0298e79038",
   "metadata": {},
   "source": [
    "## Step 5: Analyze Token Lengths & Set Padding"
   ]
  },
  {
   "cell_type": "markdown",
   "id": "f013828a-0252-438a-b7f7-5ae5acf8af33",
   "metadata": {},
   "source": [
    "### Visualize Token Length Distribution\n",
    "Understanding our data's token lengths helps us set appropriate padding:"
   ]
  },
  {
   "cell_type": "code",
   "execution_count": 11,
   "id": "9f1beab6-4100-4211-9de5-eb87a6520b45",
   "metadata": {
    "execution": {
     "iopub.execute_input": "2025-06-13T13:02:58.106885Z",
     "iopub.status.busy": "2025-06-13T13:02:58.106507Z",
     "iopub.status.idle": "2025-06-13T13:02:58.111049Z",
     "shell.execute_reply": "2025-06-13T13:02:58.110307Z",
     "shell.execute_reply.started": "2025-06-13T13:02:58.106869Z"
    }
   },
   "outputs": [],
   "source": [
    "# Visualize token length distribution\n",
    "import matplotlib.pyplot as plt\n",
    "\n",
    "def plot_data_lengths(tokenized_train_dataset, tokenized_validation_dataset):\n",
    "    lengths1 = [len(x[\"input_ids\"]) for x in tokenized_train_dataset]\n",
    "    lengths2 = [len(x[\"input_ids\"]) for x in tokenized_validation_dataset]\n",
    "    lengths = lengths1 + lengths2\n",
    "    \n",
    "    plt.figure(figsize=(10,6))\n",
    "    plt.hist(lengths, bins=20, alpha=0.7, color=\"blue\")\n",
    "    plt.xlabel(\"Token Length\")\n",
    "    plt.ylabel(\"Frequency\")\n",
    "    plt.title(\"Distribution of Input Token Lengths\")\n",
    "    plt.show()\n",
    "    \n",
    "    print(f\"📊 Max token length: {max(lengths)}\")\n",
    "    print(f\"📊 Average token length: {sum(lengths)/len(lengths):.1f}\")\n",
    "    \n",
    "    return max(lengths)"
   ]
  },
  {
   "cell_type": "code",
   "execution_count": 12,
   "id": "d9b12820-eacc-4444-ac2f-ff1bcf9d9718",
   "metadata": {
    "execution": {
     "iopub.execute_input": "2025-06-13T13:03:00.568887Z",
     "iopub.status.busy": "2025-06-13T13:03:00.568085Z",
     "iopub.status.idle": "2025-06-13T13:03:00.910627Z",
     "shell.execute_reply": "2025-06-13T13:03:00.910116Z",
     "shell.execute_reply.started": "2025-06-13T13:03:00.568842Z"
    }
   },
   "outputs": [
    {
     "data": {
      "image/png": "[encoded data removed]",
      "text/plain": [
       "<Figure size 1000x600 with 1 Axes>"
      ]
     },
     "metadata": {},
     "output_type": "display_data"
    },
    {
     "name": "stdout",
     "output_type": "stream",
     "text": [
      "📊 Max token length: 257\n",
      "📊 Average token length: 166.1\n",
      "🎯 Using max length: 257 tokens\n"
     ]
    }
   ],
   "source": [
    "# Get maximum length and visualize distribution\n",
    "max_length = plot_data_lengths(tokenized_train_dataset, tokenized_validation_dataset)\n",
    "\n",
    "# Alternative: Direct calculation of max length\n",
    "# max_length = max([len(x[\"input_ids\"]) for x in tokenized_train_dataset])\n",
    "print(f\"🎯 Using max length: {max_length} tokens\")"
   ]
  },
  {
   "cell_type": "markdown",
   "id": "c32bdfc2-5b0d-47a2-9210-88591823ac4a",
   "metadata": {},
   "source": [
    "### Configure Tokenizer with Padding\n",
    "Now we'll set up padding to ensure all inputs are the same length:"
   ]
  },
  {
   "cell_type": "code",
   "execution_count": 7,
   "id": "51ad2d92-dd21-423b-a08e-12b94a0358e9",
   "metadata": {
    "collapsed": true,
    "execution": {
     "iopub.execute_input": "2025-06-13T13:57:53.153686Z",
     "iopub.status.busy": "2025-06-13T13:57:53.153278Z",
     "iopub.status.idle": "2025-06-13T13:57:53.246126Z",
     "shell.execute_reply": "2025-06-13T13:57:53.245464Z",
     "shell.execute_reply.started": "2025-06-13T13:57:53.153670Z"
    },
    "jupyter": {
     "outputs_hidden": true
    }
   },
   "outputs": [
    {
     "ename": "NameError",
     "evalue": "name 'AutoTokenizer' is not defined",
     "output_type": "error",
     "traceback": [
      "\u001b[0;31m---------------------------------------------------------------------------\u001b[0m",
      "\u001b[0;31mNameError\u001b[0m                                 Traceback (most recent call last)",
      "Cell \u001b[0;32mIn[7], line 2\u001b[0m\n\u001b[1;32m      1\u001b[0m \u001b[38;5;66;03m# Reconfigure tokenizer with padding\u001b[39;00m\n\u001b[0;32m----> 2\u001b[0m tokenizer \u001b[38;5;241m=\u001b[39m \u001b[43mAutoTokenizer\u001b[49m\u001b[38;5;241m.\u001b[39mfrom_pretrained(\n\u001b[1;32m      3\u001b[0m     model_id,\n\u001b[1;32m      4\u001b[0m     padding_side\u001b[38;5;241m=\u001b[39m\u001b[38;5;124m\"\u001b[39m\u001b[38;5;124mright\u001b[39m\u001b[38;5;124m\"\u001b[39m,\n\u001b[1;32m      5\u001b[0m     add_eos_token\u001b[38;5;241m=\u001b[39m\u001b[38;5;28;01mTrue\u001b[39;00m,\n\u001b[1;32m      6\u001b[0m     add_bos_token\u001b[38;5;241m=\u001b[39m\u001b[38;5;28;01mTrue\u001b[39;00m\n\u001b[1;32m      7\u001b[0m )\n\u001b[1;32m      8\u001b[0m tokenizer\u001b[38;5;241m.\u001b[39mpad_token \u001b[38;5;241m=\u001b[39m tokenizer\u001b[38;5;241m.\u001b[39meos_token    \u001b[38;5;66;03m# Use EOS token as pad token\u001b[39;00m\n\u001b[1;32m     10\u001b[0m \u001b[38;5;28mprint\u001b[39m(\u001b[38;5;124mf\u001b[39m\u001b[38;5;124m\"\u001b[39m\u001b[38;5;124m✅ Tokenizer configured with padding to \u001b[39m\u001b[38;5;132;01m{\u001b[39;00mmax_length\u001b[38;5;132;01m}\u001b[39;00m\u001b[38;5;124m tokens\u001b[39m\u001b[38;5;124m\"\u001b[39m)\n",
      "\u001b[0;31mNameError\u001b[0m: name 'AutoTokenizer' is not defined"
     ]
    }
   ],
   "source": [
    "# Reconfigure tokenizer with padding\n",
    "tokenizer = AutoTokenizer.from_pretrained(\n",
    "    model_id,\n",
    "    padding_side=\"right\",\n",
    "    add_eos_token=True,\n",
    "    add_bos_token=True\n",
    ")\n",
    "tokenizer.pad_token = tokenizer.eos_token    # Use EOS token as pad token\n",
    "\n",
    "print(f\"✅ Tokenizer configured with padding to {max_length} tokens\")"
   ]
  },
  {
   "cell_type": "code",
   "execution_count": 14,
   "id": "ee7016d8-9573-4ad0-bb94-23d87cd902a9",
   "metadata": {
    "execution": {
     "iopub.execute_input": "2025-06-13T13:03:08.400267Z",
     "iopub.status.busy": "2025-06-13T13:03:08.399889Z",
     "iopub.status.idle": "2025-06-13T13:03:09.278384Z",
     "shell.execute_reply": "2025-06-13T13:03:09.277944Z",
     "shell.execute_reply.started": "2025-06-13T13:03:08.400251Z"
    }
   },
   "outputs": [
    {
     "name": "stdout",
     "output_type": "stream",
     "text": [
      "🔄 Re-tokenizing datasets with padding...\n"
     ]
    },
    {
     "data": {
      "application/vnd.jupyter.widget-view+json": {
       "model_id": "f7c76b2cddcd43778fdf91b89ed6dcc2",
       "version_major": 2,
       "version_minor": 0
      },
      "text/plain": [
       "Map:   0%|          | 0/1129 [00:00<?, ? examples/s]"
      ]
     },
     "metadata": {},
     "output_type": "display_data"
    },
    {
     "data": {
      "application/vnd.jupyter.widget-view+json": {
       "model_id": "0dbbe86cda394cd28bd2e9a3237f77bc",
       "version_major": 2,
       "version_minor": 0
      },
      "text/plain": [
       "Map:   0%|          | 0/141 [00:00<?, ? examples/s]"
      ]
     },
     "metadata": {},
     "output_type": "display_data"
    },
    {
     "name": "stdout",
     "output_type": "stream",
     "text": [
      "✅ Padded tokenization complete!\n"
     ]
    }
   ],
   "source": [
    "# Updated tokenization function with padding\n",
    "def tokenize(prompt):\n",
    "    result = tokenizer(\n",
    "        prompt,\n",
    "        truncation=True,\n",
    "        max_length=max_length,\n",
    "        padding=\"max_length\"\n",
    "    )\n",
    "    result[\"labels\"] = result[\"input_ids\"].copy()\n",
    "    return result\n",
    "\n",
    "# Re-tokenize datasets with padding\n",
    "print(\"🔄 Re-tokenizing datasets with padding...\")\n",
    "tokenized_train_dataset = train_set.map(generate_and_tokenize_prompt)\n",
    "tokenized_validation_dataset = validation_set.map(generate_and_tokenize_prompt)\n",
    "print(\"✅ Padded tokenization complete!\")"
   ]
  },
  {
   "cell_type": "code",
   "execution_count": 15,
   "id": "d083df12-6ab6-4f53-919a-cbcdaeb97cd4",
   "metadata": {
    "execution": {
     "iopub.execute_input": "2025-06-13T13:03:11.471383Z",
     "iopub.status.busy": "2025-06-13T13:03:11.470636Z",
     "iopub.status.idle": "2025-06-13T13:03:11.874041Z",
     "shell.execute_reply": "2025-06-13T13:03:11.873547Z",
     "shell.execute_reply.started": "2025-06-13T13:03:11.471347Z"
    }
   },
   "outputs": [
    {
     "data": {
      "image/png": "[encoded data removed]",
      "text/plain": [
       "<Figure size 1000x600 with 1 Axes>"
      ]
     },
     "metadata": {},
     "output_type": "display_data"
    },
    {
     "name": "stdout",
     "output_type": "stream",
     "text": [
      "📊 Max token length: 257\n",
      "📊 Average token length: 257.0\n"
     ]
    },
    {
     "data": {
      "text/plain": [
       "257"
      ]
     },
     "execution_count": 15,
     "metadata": {},
     "output_type": "execute_result"
    }
   ],
   "source": [
    "# Verify all tokens are now the same length\n",
    "plot_data_lengths(tokenized_train_dataset, tokenized_validation_dataset)"
   ]
  },
  {
   "cell_type": "markdown",
   "id": "5ed690f7-4fa9-41c1-b5a6-85e97d53854f",
   "metadata": {},
   "source": [
    "## Step 6: Configure QLoRA (Quantized LoRA)"
   ]
  },
  {
   "cell_type": "code",
   "execution_count": 16,
   "id": "f9584f7e-4918-4382-827b-3996e5666303",
   "metadata": {
    "execution": {
     "iopub.execute_input": "2025-06-13T13:03:14.566845Z",
     "iopub.status.busy": "2025-06-13T13:03:14.566318Z",
     "iopub.status.idle": "2025-06-13T13:03:14.633939Z",
     "shell.execute_reply": "2025-06-13T13:03:14.633473Z",
     "shell.execute_reply.started": "2025-06-13T13:03:14.566829Z"
    }
   },
   "outputs": [
    {
     "name": "stdout",
     "output_type": "stream",
     "text": [
      "⚙️ Preparing model for QLoRA training...\n",
      "✅ Model prepared for training!\n"
     ]
    }
   ],
   "source": [
    "# Prepare model for QLoRA fine-tuning\n",
    "from peft import prepare_model_for_kbit_training\n",
    "\n",
    "print(\"⚙️ Preparing model for QLoRA training...\")\n",
    "model.gradient_checkpointing_enable()\n",
    "model = prepare_model_for_kbit_training(model)\n",
    "print(\"✅ Model prepared for training!\")"
   ]
  },
  {
   "cell_type": "code",
   "execution_count": 17,
   "id": "ca2da3ed-e9e9-4371-a695-40d98d34ce2b",
   "metadata": {
    "execution": {
     "iopub.execute_input": "2025-06-13T13:03:16.841802Z",
     "iopub.status.busy": "2025-06-13T13:03:16.841129Z",
     "iopub.status.idle": "2025-06-13T13:03:16.844929Z",
     "shell.execute_reply": "2025-06-13T13:03:16.844500Z",
     "shell.execute_reply.started": "2025-06-13T13:03:16.841772Z"
    }
   },
   "outputs": [],
   "source": [
    "# Helper function to check trainable parameters\n",
    "def print_trainable_parameters(model):\n",
    "    \"\"\"Prints the number of trainable parameters in the model.\"\"\"\n",
    "    trainable_params = 0\n",
    "    all_param = 0\n",
    "    for _, param in model.named_parameters():\n",
    "        all_param += param.numel()\n",
    "        if param.requires_grad:\n",
    "            trainable_params += param.numel()\n",
    "    print(f\"🔢 Trainable params: {trainable_params:,}\")\n",
    "    print(f\"🔢 All params: {all_param:,}\")\n",
    "    print(f\"📊 Trainable%: {100 * trainable_params / all_param:.2f}%\")"
   ]
  },
  {
   "cell_type": "code",
   "execution_count": 18,
   "id": "70eb4883-9d3a-451a-b3eb-d08b5163afd5",
   "metadata": {
    "execution": {
     "iopub.execute_input": "2025-06-13T13:03:19.141719Z",
     "iopub.status.busy": "2025-06-13T13:03:19.141333Z",
     "iopub.status.idle": "2025-06-13T13:03:19.146276Z",
     "shell.execute_reply": "2025-06-13T13:03:19.145784Z",
     "shell.execute_reply.started": "2025-06-13T13:03:19.141701Z"
    },
    "scrolled": true
   },
   "outputs": [
    {
     "name": "stdout",
     "output_type": "stream",
     "text": [
      "📋 Before QLoRA:\n",
      "🔢 Trainable params: 0\n",
      "🔢 All params: 12,457,497,600\n",
      "📊 Trainable%: 0.00%\n"
     ]
    }
   ],
   "source": [
    "# Check current trainable parameters (should be 0)\n",
    "print(\"📋 Before QLoRA:\")\n",
    "print_trainable_parameters(model)\n",
    "# print(model) # optional, you can check the full architecture of the model"
   ]
  },
  {
   "cell_type": "code",
   "execution_count": 19,
   "id": "1f7630da-021e-49cb-ab3a-9e79ca3f3009",
   "metadata": {
    "execution": {
     "iopub.execute_input": "2025-06-13T13:03:21.424091Z",
     "iopub.status.busy": "2025-06-13T13:03:21.423692Z",
     "iopub.status.idle": "2025-06-13T13:03:21.975221Z",
     "shell.execute_reply": "2025-06-13T13:03:21.974616Z",
     "shell.execute_reply.started": "2025-06-13T13:03:21.424074Z"
    }
   },
   "outputs": [
    {
     "name": "stdout",
     "output_type": "stream",
     "text": [
      "🎯 Setting up LoRA configuration...\n",
      "✅ LoRA adapters added!\n"
     ]
    }
   ],
   "source": [
    "# Configure LoRA adapters\n",
    "from peft import LoraConfig, get_peft_model\n",
    "\n",
    "print(\"🎯 Setting up LoRA configuration...\")\n",
    "target_modules = [\"q_proj\", \"k_proj\", \"v_proj\", \"o_proj\", \"gate_proj\", \"up_proj\", \"down_proj\", \"lm_head\"]\n",
    "\n",
    "config = LoraConfig(\n",
    "    r=8,                        # Rank of adaptation\n",
    "    lora_alpha=32,              # LoRA scaling parameter\n",
    "    target_modules=target_modules, \n",
    "    lora_dropout=0.05,          # Dropout probability for LoRA layers\n",
    "    bias=\"none\",                # Bias configuration\n",
    "    task_type=\"CAUSAL_LM\"       # Task type\n",
    ")\n",
    "\n",
    "# Apply LoRA to model\n",
    "model = get_peft_model(model, config)\n",
    "print(\"✅ LoRA adapters added!\")"
   ]
  },
  {
   "cell_type": "code",
   "execution_count": 20,
   "id": "6977bef6-d2ab-4226-bcbc-9eff3775a82c",
   "metadata": {
    "execution": {
     "iopub.execute_input": "2025-06-13T13:03:24.562397Z",
     "iopub.status.busy": "2025-06-13T13:03:24.561694Z",
     "iopub.status.idle": "2025-06-13T13:03:24.570979Z",
     "shell.execute_reply": "2025-06-13T13:03:24.570469Z",
     "shell.execute_reply.started": "2025-06-13T13:03:24.562366Z"
    }
   },
   "outputs": [
    {
     "name": "stdout",
     "output_type": "stream",
     "text": [
      "📋 After QLoRA:\n",
      "🔢 Trainable params: 47,292,416\n",
      "🔢 All params: 12,504,790,016\n",
      "📊 Trainable%: 0.38%\n"
     ]
    }
   ],
   "source": [
    "# Check trainable parameters after adding LoRA\n",
    "print(\"📋 After QLoRA:\")\n",
    "print_trainable_parameters(model)\n",
    "# print(model) # optional, you can check the full architecture of the model"
   ]
  },
  {
   "cell_type": "markdown",
   "id": "a4407f94-6322-411d-9ee3-9830bb73b821",
   "metadata": {},
   "source": [
    "## Step 7: Fine-tuning Configuration & Training"
   ]
  },
  {
   "cell_type": "code",
   "execution_count": 21,
   "id": "b94d8a36-83f9-4fba-98e5-fa2269e6bc3d",
   "metadata": {
    "execution": {
     "iopub.execute_input": "2025-06-13T13:03:28.673397Z",
     "iopub.status.busy": "2025-06-13T13:03:28.672582Z",
     "iopub.status.idle": "2025-06-13T13:03:28.676533Z",
     "shell.execute_reply": "2025-06-13T13:03:28.676135Z",
     "shell.execute_reply.started": "2025-06-13T13:03:28.673348Z"
    }
   },
   "outputs": [
    {
     "name": "stdout",
     "output_type": "stream",
     "text": [
      "🖥️ Available GPUs: 1\n"
     ]
    }
   ],
   "source": [
    "# Enable model parallelism if multiple GPUs available\n",
    "dev_count = torch.cuda.device_count()\n",
    "print(f\"🖥️ Available GPUs: {dev_count}\")\n",
    "\n",
    "if dev_count > 1:\n",
    "    model.is_parallelizable = True\n",
    "    model.model_parallel = True\n",
    "    print(\"✅ Model parallelism enabled!\")"
   ]
  },
  {
   "cell_type": "code",
   "execution_count": 22,
   "id": "78fbb444-c1c9-4f08-88d2-4c5515f1635e",
   "metadata": {
    "execution": {
     "iopub.execute_input": "2025-06-13T13:03:32.807259Z",
     "iopub.status.busy": "2025-06-13T13:03:32.806867Z",
     "iopub.status.idle": "2025-06-13T13:03:32.859242Z",
     "shell.execute_reply": "2025-06-13T13:03:32.858513Z",
     "shell.execute_reply.started": "2025-06-13T13:03:32.807242Z"
    }
   },
   "outputs": [
    {
     "name": "stdout",
     "output_type": "stream",
     "text": [
      "✅ Training configuration complete!\n"
     ]
    }
   ],
   "source": [
    "# Training configuration\n",
    "import transformers\n",
    "\n",
    "# Set up logging directory\n",
    "log_bucket = \"./logs/medical-qlora-training\"\n",
    "\n",
    "# Configure training arguments\n",
    "training_args = transformers.TrainingArguments(\n",
    "    per_device_train_batch_size=4,      # Batch size per device\n",
    "    per_device_eval_batch_size=4,       # Evaluation batch size\n",
    "    max_steps=20,                      # Total training steps\n",
    "    output_dir=\"mistral-medical-outputs\",  # Output directory\n",
    "    logging_dir=log_bucket,             # Logging directory\n",
    "    logging_steps=10,                   # Log every N steps\n",
    "    learning_rate=5e-6,                 # Learning rate\n",
    "    fp16=True,                          # Mixed precision training\n",
    "    save_strategy=\"steps\",              # Save strategy\n",
    "    save_steps=100,                     # Save every N steps\n",
    "    eval_strategy=\"steps\",              # Evaluation strategy\n",
    "    eval_steps=50,                      # Evaluate every N steps\n",
    "    do_eval=True,                       # Enable evaluation\n",
    "    warmup_steps=10,                    # Warmup steps\n",
    "    gradient_checkpointing=True,        # Memory optimization\n",
    "    gradient_accumulation_steps=4,      # Gradient accumulation\n",
    "    optim=\"paged_adamw_8bit\",          # Optimizer\n",
    "    report_to=\"tensorboard\",           # Logging platform\n",
    "    weight_decay=0.05                   # Regularization\n",
    ")\n",
    "\n",
    "print(\"✅ Training configuration complete!\")"
   ]
  },
  {
   "cell_type": "code",
   "execution_count": 23,
   "id": "5f02e8c2-f7ad-4e31-98e7-d12665b350b5",
   "metadata": {
    "execution": {
     "iopub.execute_input": "2025-06-13T13:03:35.605289Z",
     "iopub.status.busy": "2025-06-13T13:03:35.604488Z",
     "iopub.status.idle": "2025-06-13T13:03:36.163914Z",
     "shell.execute_reply": "2025-06-13T13:03:36.163494Z",
     "shell.execute_reply.started": "2025-06-13T13:03:35.605259Z"
    }
   },
   "outputs": [
    {
     "name": "stderr",
     "output_type": "stream",
     "text": [
      "max_steps is given, it will override any value given in num_train_epochs\n"
     ]
    },
    {
     "name": "stdout",
     "output_type": "stream",
     "text": [
      "✅ Trainer ready!\n"
     ]
    }
   ],
   "source": [
    "# Initialize trainer\n",
    "\n",
    "tokenizer.pad_token = tokenizer.eos_token\n",
    "\n",
    "trainer = transformers.Trainer(\n",
    "    model=model,\n",
    "    args=training_args,\n",
    "    train_dataset=tokenized_train_dataset,\n",
    "    eval_dataset=tokenized_validation_dataset,\n",
    "    data_collator=transformers.DataCollatorForLanguageModeling(tokenizer, mlm=False)\n",
    ")\n",
    "\n",
    "# Disable caching for training\n",
    "model.config.use_cache = False\n",
    "\n",
    "print(\"✅ Trainer ready!\")"
   ]
  },
  {
   "cell_type": "code",
   "execution_count": 24,
   "id": "5c339193-64e8-4ea8-ab06-95c97c1a21ad",
   "metadata": {
    "execution": {
     "iopub.execute_input": "2025-06-13T13:03:39.038560Z",
     "iopub.status.busy": "2025-06-13T13:03:39.037826Z",
     "iopub.status.idle": "2025-06-13T13:14:30.912599Z",
     "shell.execute_reply": "2025-06-13T13:14:30.911837Z",
     "shell.execute_reply.started": "2025-06-13T13:03:39.038541Z"
    }
   },
   "outputs": [
    {
     "name": "stdout",
     "output_type": "stream",
     "text": [
      "🚀 Starting training...\n",
      "⏱️ This will take approximately 2-3 hours on ml.g6.12xlarge for 300 traninng steps\n"
     ]
    },
    {
     "data": {
      "text/html": [
       "\n",
       "    <div>\n",
       "      \n",
       "      <progress value='20' max='20' style='width:300px; height:20px; vertical-align: middle;'></progress>\n",
       "      [20/20 10:19, Epoch 0/1]\n",
       "    </div>\n",
       "    <table border=\"1\" class=\"dataframe\">\n",
       "  <thead>\n",
       " <tr style=\"text-align: left;\">\n",
       "      <th>Step</th>\n",
       "      <th>Training Loss</th>\n",
       "      <th>Validation Loss</th>\n",
       "    </tr>\n",
       "  </thead>\n",
       "  <tbody>\n",
       "  </tbody>\n",
       "</table><p>"
      ],
      "text/plain": [
       "<IPython.core.display.HTML object>"
      ]
     },
     "metadata": {},
     "output_type": "display_data"
    },
    {
     "name": "stderr",
     "output_type": "stream",
     "text": [
      "/opt/conda/lib/python3.12/site-packages/peft/utils/save_and_load.py:220: UserWarning: Setting `save_embedding_layers` to `True` as embedding layers found in `target_modules`.\n",
      "  warnings.warn(\"Setting `save_embedding_layers` to `True` as embedding layers found in `target_modules`.\")\n"
     ]
    },
    {
     "data": {
      "text/plain": [
       "TrainOutput(global_step=20, training_loss=1.6617823123931885, metrics={'train_runtime': 651.5031, 'train_samples_per_second': 0.491, 'train_steps_per_second': 0.031, 'total_flos': 1.132376062623744e+16, 'train_loss': 1.6617823123931885, 'epoch': 0.2826855123674912})"
      ]
     },
     "execution_count": 24,
     "metadata": {},
     "output_type": "execute_result"
    }
   ],
   "source": [
    "# Start training!\n",
    "print(\"🚀 Starting training...\")\n",
    "print(\"⏱️ This will take approximately 2-3 hours on ml.g6.12xlarge for 300 traninng steps\")\n",
    "\n",
    "# Uncomment the next line to start training\n",
    "trainer.train()"
   ]
  },
  {
   "cell_type": "code",
   "execution_count": null,
   "id": "2acdbf91-93be-44dc-ab29-8a86cf7c4b5f",
   "metadata": {},
   "outputs": [],
   "source": [
    "\n"
   ]
  },
  {
   "cell_type": "code",
   "execution_count": null,
   "id": "d7cbe994-b101-4cb1-a98c-427790c0a9f6",
   "metadata": {},
   "outputs": [],
   "source": []
  },
  {
   "cell_type": "markdown",
   "id": "ef850cd8-3340-49d6-a7d9-b3ae00219cfc",
   "metadata": {},
   "source": [
    "## Step 8: Prepare Model for Amazon Bedrock Custom Model Import"
   ]
  },
  {
   "cell_type": "code",
   "execution_count": 10,
   "id": "5b4e296d-50a5-41e2-b035-ba2d0ed23eec",
   "metadata": {
    "execution": {
     "iopub.execute_input": "2025-06-13T13:58:54.200276Z",
     "iopub.status.busy": "2025-06-13T13:58:54.200010Z",
     "iopub.status.idle": "2025-06-13T14:01:35.606529Z",
     "shell.execute_reply": "2025-06-13T14:01:35.606036Z",
     "shell.execute_reply.started": "2025-06-13T13:58:54.200261Z"
    }
   },
   "outputs": [
    {
     "name": "stderr",
     "output_type": "stream",
     "text": [
      "2025-06-13 13:58:55.882273: E external/local_xla/xla/stream_executor/cuda/cuda_fft.cc:477] Unable to register cuFFT factory: Attempting to register factory for plugin cuFFT when one has already been registered\n",
      "WARNING: All log messages before absl::InitializeLog() is called are written to STDERR\n",
      "E0000 00:00:1749823135.893874    1475 cuda_dnn.cc:8310] Unable to register cuDNN factory: Attempting to register factory for plugin cuDNN when one has already been registered\n",
      "E0000 00:00:1749823135.897410    1475 cuda_blas.cc:1418] Unable to register cuBLAS factory: Attempting to register factory for plugin cuBLAS when one has already been registered\n",
      "2025-06-13 13:58:55.909797: I tensorflow/core/platform/cpu_feature_guard.cc:210] This TensorFlow binary is optimized to use available CPU instructions in performance-critical operations.\n",
      "To enable the following instructions: SSE4.1 SSE4.2 AVX AVX2 FMA, in other operations, rebuild TensorFlow with the appropriate compiler flags.\n"
     ]
    },
    {
     "data": {
      "application/vnd.jupyter.widget-view+json": {
       "model_id": "e277ade5e4b24024b2ba02cbbfeddced",
       "version_major": 2,
       "version_minor": 0
      },
      "text/plain": [
       "config.json:   0%|          | 0.00/623 [00:00<?, ?B/s]"
      ]
     },
     "metadata": {},
     "output_type": "display_data"
    },
    {
     "data": {
      "application/vnd.jupyter.widget-view+json": {
       "model_id": "b3d22f7c73c24b968d5c4a90ed610a69",
       "version_major": 2,
       "version_minor": 0
      },
      "text/plain": [
       "model.safetensors.index.json:   0%|          | 0.00/29.9k [00:00<?, ?B/s]"
      ]
     },
     "metadata": {},
     "output_type": "display_data"
    },
    {
     "data": {
      "application/vnd.jupyter.widget-view+json": {
       "model_id": "30cdb91952c0483a8b87b1bb56093a07",
       "version_major": 2,
       "version_minor": 0
      },
      "text/plain": [
       "Downloading shards:   0%|          | 0/10 [00:00<?, ?it/s]"
      ]
     },
     "metadata": {},
     "output_type": "display_data"
    },
    {
     "data": {
      "application/vnd.jupyter.widget-view+json": {
       "model_id": "0ff2fce4bc4b4e58b0321cc1cd6378f1",
       "version_major": 2,
       "version_minor": 0
      },
      "text/plain": [
       "model-00001-of-00010.safetensors:   0%|          | 0.00/4.78G [00:00<?, ?B/s]"
      ]
     },
     "metadata": {},
     "output_type": "display_data"
    },
    {
     "data": {
      "application/vnd.jupyter.widget-view+json": {
       "model_id": "682edba9f8984d6899b6ba4245c058a3",
       "version_major": 2,
       "version_minor": 0
      },
      "text/plain": [
       "model-00002-of-00010.safetensors:   0%|          | 0.00/4.78G [00:00<?, ?B/s]"
      ]
     },
     "metadata": {},
     "output_type": "display_data"
    },
    {
     "data": {
      "application/vnd.jupyter.widget-view+json": {
       "model_id": "33a9fa541f744c7d88144891b306c919",
       "version_major": 2,
       "version_minor": 0
      },
      "text/plain": [
       "model-00003-of-00010.safetensors:   0%|          | 0.00/4.78G [00:00<?, ?B/s]"
      ]
     },
     "metadata": {},
     "output_type": "display_data"
    },
    {
     "data": {
      "application/vnd.jupyter.widget-view+json": {
       "model_id": "7819f9d773c546aeac6261be39b06fa8",
       "version_major": 2,
       "version_minor": 0
      },
      "text/plain": [
       "model-00004-of-00010.safetensors:   0%|          | 0.00/4.89G [00:00<?, ?B/s]"
      ]
     },
     "metadata": {},
     "output_type": "display_data"
    },
    {
     "data": {
      "application/vnd.jupyter.widget-view+json": {
       "model_id": "f67fc4d3ae714f179c0f8bfab77f0cbb",
       "version_major": 2,
       "version_minor": 0
      },
      "text/plain": [
       "model-00005-of-00010.safetensors:   0%|          | 0.00/4.78G [00:00<?, ?B/s]"
      ]
     },
     "metadata": {},
     "output_type": "display_data"
    },
    {
     "data": {
      "application/vnd.jupyter.widget-view+json": {
       "model_id": "6501e03f7e8543a59062f4c540d50286",
       "version_major": 2,
       "version_minor": 0
      },
      "text/plain": [
       "model-00006-of-00010.safetensors:   0%|          | 0.00/4.78G [00:00<?, ?B/s]"
      ]
     },
     "metadata": {},
     "output_type": "display_data"
    },
    {
     "data": {
      "application/vnd.jupyter.widget-view+json": {
       "model_id": "76fe86e011104088a9d9f345ca1863d8",
       "version_major": 2,
       "version_minor": 0
      },
      "text/plain": [
       "model-00007-of-00010.safetensors:   0%|          | 0.00/4.89G [00:00<?, ?B/s]"
      ]
     },
     "metadata": {},
     "output_type": "display_data"
    },
    {
     "data": {
      "application/vnd.jupyter.widget-view+json": {
       "model_id": "3d2cf982cd814785bc3f64d04f25c65f",
       "version_major": 2,
       "version_minor": 0
      },
      "text/plain": [
       "model-00008-of-00010.safetensors:   0%|          | 0.00/4.78G [00:00<?, ?B/s]"
      ]
     },
     "metadata": {},
     "output_type": "display_data"
    },
    {
     "data": {
      "application/vnd.jupyter.widget-view+json": {
       "model_id": "f029cccf9028468eae60d169f9440776",
       "version_major": 2,
       "version_minor": 0
      },
      "text/plain": [
       "model-00009-of-00010.safetensors:   0%|          | 0.00/4.78G [00:00<?, ?B/s]"
      ]
     },
     "metadata": {},
     "output_type": "display_data"
    },
    {
     "data": {
      "application/vnd.jupyter.widget-view+json": {
       "model_id": "199c1dd9a42d401788ac80b5c3fa1dda",
       "version_major": 2,
       "version_minor": 0
      },
      "text/plain": [
       "model-00010-of-00010.safetensors:   0%|          | 0.00/3.90G [00:00<?, ?B/s]"
      ]
     },
     "metadata": {},
     "output_type": "display_data"
    },
    {
     "data": {
      "application/vnd.jupyter.widget-view+json": {
       "model_id": "e7e5658e80ed47bc81392672a9f42922",
       "version_major": 2,
       "version_minor": 0
      },
      "text/plain": [
       "Loading checkpoint shards:   0%|          | 0/10 [00:00<?, ?it/s]"
      ]
     },
     "metadata": {},
     "output_type": "display_data"
    },
    {
     "data": {
      "application/vnd.jupyter.widget-view+json": {
       "model_id": "e3a0308859f64b6795e2761909d168f1",
       "version_major": 2,
       "version_minor": 0
      },
      "text/plain": [
       "generation_config.json:   0%|          | 0.00/160 [00:00<?, ?B/s]"
      ]
     },
     "metadata": {},
     "output_type": "display_data"
    },
    {
     "name": "stderr",
     "output_type": "stream",
     "text": [
      "Some parameters are on the meta device because they were offloaded to the cpu.\n"
     ]
    }
   ],
   "source": [
    "from transformers import AutoModelForCausalLM\n",
    "from peft import PeftModel\n",
    "\n",
    "model_id = \"mistralai/Mistral-Small-24B-Instruct-2501\"\n",
    "adapter_path = \"mistral-medical-outputs/checkpoint-20\"\n",
    "\n",
    "# Load base model in full precision (FP16 or FP32)\n",
    "base_model = AutoModelForCausalLM.from_pretrained(\n",
    "    model_id,\n",
    "    torch_dtype=torch.float16,\n",
    "    device_map=\"auto\",\n",
    "    cache_dir=\"/mnt/sagemaker-nvme\"\n",
    ")"
   ]
  },
  {
   "cell_type": "code",
   "execution_count": 31,
   "id": "b03e8bd5-655a-4483-9324-09bd78b220a4",
   "metadata": {
    "execution": {
     "iopub.execute_input": "2025-06-13T13:23:29.155983Z",
     "iopub.status.busy": "2025-06-13T13:23:29.155298Z",
     "iopub.status.idle": "2025-06-13T13:23:29.158635Z",
     "shell.execute_reply": "2025-06-13T13:23:29.158220Z",
     "shell.execute_reply.started": "2025-06-13T13:23:29.155949Z"
    }
   },
   "outputs": [],
   "source": [
    "import warnings\n",
    "warnings.filterwarnings(\"ignore\")"
   ]
  },
  {
   "cell_type": "code",
   "execution_count": 11,
   "id": "2173c0fb-ec7b-4ee2-81d7-e636dbfdf571",
   "metadata": {
    "execution": {
     "iopub.execute_input": "2025-06-13T14:01:54.148343Z",
     "iopub.status.busy": "2025-06-13T14:01:54.147902Z",
     "iopub.status.idle": "2025-06-13T14:02:24.783321Z",
     "shell.execute_reply": "2025-06-13T14:02:24.782801Z",
     "shell.execute_reply.started": "2025-06-13T14:01:54.148327Z"
    }
   },
   "outputs": [],
   "source": [
    "# Load fine-tuned model (with adapter)\n",
    "ft_model = PeftModel.from_pretrained(\n",
    "    base_model,\n",
    "    adapter_path,\n",
    ")"
   ]
  },
  {
   "cell_type": "code",
   "execution_count": 12,
   "id": "c897e907-1040-4680-ba56-b51c0150fec5",
   "metadata": {
    "execution": {
     "iopub.execute_input": "2025-06-13T14:02:24.784645Z",
     "iopub.status.busy": "2025-06-13T14:02:24.784306Z",
     "iopub.status.idle": "2025-06-13T14:02:25.600549Z",
     "shell.execute_reply": "2025-06-13T14:02:25.599990Z",
     "shell.execute_reply.started": "2025-06-13T14:02:24.784629Z"
    }
   },
   "outputs": [
    {
     "name": "stdout",
     "output_type": "stream",
     "text": [
      "Filesystem                             Size  Used Avail Use% Mounted on\n",
      "overlay                                 37G  5.3G   32G  15% /\n",
      "tmpfs                                   64M     0   64M   0% /dev\n",
      "tmpfs                                   61G     0   61G   0% /sys/fs/cgroup\n",
      "shm                                     16G   32K   16G   1% /dev/shm\n",
      "/dev/mapper/sagemaker_vg-sagemaker_lv  838G   50G  788G   6% /mnt/sagemaker-nvme\n",
      "/dev/nvme0n1p1                         180G   31G  150G  17% /usr/bin/nvidia-smi\n",
      "/dev/nvme3n1                           100G   51G   50G  51% /home/sagemaker-user\n",
      "127.0.0.1:/                            8.0E     0  8.0E   0% /mnt/custom-file-systems/efs/fs-09badb99b5c560bea_fsap-0c61ab2cee099341a\n",
      "tmpfs                                   61G   12K   61G   1% /proc/driver/nvidia\n",
      "tmpfs                                   61G  1.3M   61G   1% /run/nvidia-persistenced/socket\n",
      "tmpfs                                   61G     0   61G   0% /proc/acpi\n",
      "tmpfs                                   61G     0   61G   0% /sys/firmware\n"
     ]
    }
   ],
   "source": [
    "!df -h"
   ]
  },
  {
   "cell_type": "code",
   "execution_count": 13,
   "id": "75a13abf-0ec0-4027-9cd9-dab0794db46c",
   "metadata": {
    "execution": {
     "iopub.execute_input": "2025-06-13T14:03:14.337907Z",
     "iopub.status.busy": "2025-06-13T14:03:14.337465Z",
     "iopub.status.idle": "2025-06-13T14:04:38.249254Z",
     "shell.execute_reply": "2025-06-13T14:04:38.248849Z",
     "shell.execute_reply.started": "2025-06-13T14:03:14.337889Z"
    }
   },
   "outputs": [
    {
     "data": {
      "application/vnd.jupyter.widget-view+json": {
       "model_id": "418cc412f2f348038e270bf58a7cf598",
       "version_major": 2,
       "version_minor": 0
      },
      "text/plain": [
       "Saving checkpoint shards:   0%|          | 0/10 [00:00<?, ?it/s]"
      ]
     },
     "metadata": {},
     "output_type": "display_data"
    }
   ],
   "source": [
    "# Merge LoRA weights into the base model\n",
    "merged_model = ft_model.merge_and_unload()\n",
    "\n",
    "# Save as FP16 (recommended for Bedrock)\n",
    "merged_model.save_pretrained(\"finetune_results/merged_model\", safe_serialization=True)"
   ]
  },
  {
   "cell_type": "code",
   "execution_count": null,
   "id": "148e09d5-0afb-400d-b5ae-c4f53ee5def1",
   "metadata": {},
   "outputs": [],
   "source": [
    "## optional: push your fine-tuned model to huggingface hub\n",
    "# from transformers import AutoTokenizer\n",
    "\n",
    "# tokenizer = AutoTokenizer.from_pretrained(\"mistralai/Mistral-Small-24B-Instruct-2501\")  # e.g., same tokenizer used during fine-tuning\n",
    "\n",
    "# # Push merged weights\n",
    "# merged_model.push_to_hub(\"ying2022/mistral-small-3-med\", use_temp_dir=False)\n",
    "\n",
    "# # Push tokenizer files too\n",
    "# tokenizer.push_to_hub(\"ying2022/mistral-small-3-med\", use_temp_dir=False)\n"
   ]
  },
  {
   "cell_type": "code",
   "execution_count": 16,
   "id": "140b75fd-bacb-4db5-a08c-c3bc62fac31f",
   "metadata": {
    "collapsed": true,
    "execution": {
     "iopub.execute_input": "2025-06-13T14:59:31.384722Z",
     "iopub.status.busy": "2025-06-13T14:59:31.384290Z",
     "iopub.status.idle": "2025-06-13T14:59:31.750689Z",
     "shell.execute_reply": "2025-06-13T14:59:31.750293Z",
     "shell.execute_reply.started": "2025-06-13T14:59:31.384706Z"
    },
    "jupyter": {
     "outputs_hidden": true
    },
    "scrolled": true
   },
   "outputs": [
    {
     "data": {
      "application/vnd.jupyter.widget-view+json": {
       "model_id": "94f87f565e5b4091b75709b4f6d038f3",
       "version_major": 2,
       "version_minor": 0
      },
      "text/plain": [
       "Fetching 1 files:   0%|          | 0/1 [00:00<?, ?it/s]"
      ]
     },
     "metadata": {},
     "output_type": "display_data"
    },
    {
     "data": {
      "application/vnd.jupyter.widget-view+json": {
       "model_id": "6c5aa979b7264f14b0c0fd9f380d3afb",
       "version_major": 2,
       "version_minor": 0
      },
      "text/plain": [
       ".gitattributes:   0%|          | 0.00/1.52k [00:00<?, ?B/s]"
      ]
     },
     "metadata": {},
     "output_type": "display_data"
    },
    {
     "name": "stdout",
     "output_type": "stream",
     "text": [
      "Model repo saved to: /home/sagemaker-user/workshop/fine-tuned-model\n"
     ]
    }
   ],
   "source": [
    "## download fine-tuned model from huggingface hub for the workshop\n",
    "\n",
    "from huggingface_hub import snapshot_download\n",
    "\n",
    "folder = snapshot_download(repo_id=\"ying2022/mistral-small-3-med\", local_dir=\"fine-tuned-model\")\n",
    "print(\"Model repo saved to:\", folder)\n"
   ]
  },
  {
   "cell_type": "markdown",
   "id": "766f547b-fad8-49df-bdb1-9303b4db71c5",
   "metadata": {},
   "source": [
    "### Upload model files to S3 bucket for CMI"
   ]
  },
  {
   "cell_type": "code",
   "execution_count": null,
   "id": "5ebbb5cf-0ceb-4886-a5c8-1e8457fecd3d",
   "metadata": {},
   "outputs": [],
   "source": [
    "import os\n",
    "import boto3\n",
    "\n",
    "# Configuration\n",
    "local_dir = \"fine-tuned-model\"\n",
    "bucket_name = \"3p-projects\"\n",
    "prefix = \"workshop/fine-tune/cmi\"  \n",
    "\n",
    "# Initialize S3 client\n",
    "s3_client = boto3.client('s3')\n",
    "\n",
    "# Walk through local directory\n",
    "for root, dirs, files in os.walk(local_dir):\n",
    "    for file in files:\n",
    "        local_path = os.path.join(root, file)\n",
    "        # Compute relative path to preserve folder structure in S3\n",
    "        relative_path = os.path.relpath(local_path, local_dir)\n",
    "        s3_key = f\"{prefix}/{relative_path}\" if prefix else relative_path\n",
    "\n",
    "        print(f\"Uploading to s3://{bucket_name}/{s3_key}...\")\n",
    "        s3_client.upload_file(\n",
    "            Filename=local_path,\n",
    "            Bucket=bucket_name,\n",
    "            Key=s3_key\n",
    "        )\n",
    "        print(f\"Successfully transferred {local_path} to s3://{bucket_name}/{s3_key}\")"
   ]
  },
  {
   "cell_type": "markdown",
   "id": "e4d84b9e-a697-4755-8d8b-868374367ebb",
   "metadata": {},
   "source": [
    "### Create a CMI job "
   ]
  },
  {
   "cell_type": "code",
   "execution_count": null,
   "id": "c3ab2cd4-3c92-4fd0-b235-5c0d4df36cfd",
   "metadata": {},
   "outputs": [],
   "source": [
    "import boto3\n",
    "import datetime\n",
    "\n",
    "# 1️⃣ Initialize Bedrock client\n",
    "client = boto3.client(\"bedrock\", region_name=\"us-west-2\")\n",
    "\n",
    "# 2️⃣ Define your S3 model path and IAM role ARN\n",
    "s3_uri = f\"s3://{bucket_name}/{prefix}/\"\n",
    "role_arn = \"arn:aws:iam::123456789012:role/BedrockImportRole\" # this need to be tested. create a new one? or execution role should work\n",
    "\n",
    "# 3️⃣ Create the import job\n",
    "response = client.create_model_import_job(\n",
    "    jobName = f\"mistral-small-3-import-{datetime.datetime.now():%Y%m%d%H%M%S}\",\n",
    "    importedModelName = \"mistral-small-3\",\n",
    "    roleArn = role_arn,\n",
    "    modelDataSource = {\n",
    "        \"s3DataSource\": {\n",
    "            \"s3Uri\": s3_uri\n",
    "        }\n",
    "    },\n",
    ")\n",
    "\n",
    "print(\"Import job ARN:\", response[\"modelImportJobArn\"])"
   ]
  },
  {
   "cell_type": "code",
   "execution_count": null,
   "id": "5d956fb3-2224-4490-b898-9afae0c726d1",
   "metadata": {},
   "outputs": [],
   "source": []
  },
  {
   "cell_type": "code",
   "execution_count": null,
   "id": "8623fdca-85ac-4122-8ffb-9638361be55a",
   "metadata": {},
   "outputs": [],
   "source": [
    "### how to use CMI model in Converse API? "
   ]
  },
  {
   "cell_type": "code",
   "execution_count": null,
   "id": "5e0f8448-f56d-4d9c-a94c-52dffbaebd54",
   "metadata": {},
   "outputs": [],
   "source": []
  },
  {
   "cell_type": "markdown",
   "id": "1526d705-6bc0-4864-a0e9-44dc5204269a",
   "metadata": {},
   "source": [
    "## Step 9: Evaluate Model Performance"
   ]
  },
  {
   "cell_type": "markdown",
   "id": "ae3c6dbe-5a3f-4b14-b4c2-4aa78fed8755",
   "metadata": {},
   "source": [
    "### Test mistral small 3.0 model before fine-tune"
   ]
  },
  {
   "cell_type": "code",
   "execution_count": 15,
   "id": "2b90633f-fd1c-4345-a67c-324bcbbc467e",
   "metadata": {
    "collapsed": true,
    "execution": {
     "iopub.execute_input": "2025-06-13T14:26:36.296889Z",
     "iopub.status.busy": "2025-06-13T14:26:36.296021Z",
     "iopub.status.idle": "2025-06-13T14:27:05.725518Z",
     "shell.execute_reply": "2025-06-13T14:27:05.725028Z",
     "shell.execute_reply.started": "2025-06-13T14:26:36.296870Z"
    },
    "jupyter": {
     "outputs_hidden": true
    }
   },
   "outputs": [
    {
     "name": "stdout",
     "output_type": "stream",
     "text": [
      "Based on the information provided, the patient's symptoms of fatigue, pallor, and pica, along with the laboratory findings of low mean corpuscular volume (MCV) and low ferritin levels, strongly suggest a diagnosis of iron deficiency anemia. Here are the potential diagnoses and next steps:\n",
      "\n",
      "### Potential Diagnoses:\n",
      "1. **Iron Deficiency Anemia**:\n",
      "   - **Symptoms**: Fatigue, pallor, pica (craving for non-food items like ice or dirt).\n",
      "   - **Laboratory Findings**: Low MCV (microcytic anemia), low ferritin, low serum iron, high total iron-binding capacity (TIBC).\n",
      "   - **Possible Causes**: Inadequate dietary intake, malabsorption, chronic blood loss (e.g., menstrual bleeding, gastrointestinal bleeding).\n",
      "\n",
      "2. **Thalassemia**:\n",
      "   - **Symptoms**: Can include fatigue, pallor.\n",
      "   - **Laboratory Findings**: Low MCV, normal or elevated hemoglobin A2, normal or slightly elevated ferritin.\n",
      "   - **Diagnosis**: Requires further genetic testing and hemoglobin electrophoresis.\n",
      "\n",
      "### Next Steps:\n",
      "1. **Detailed History**:\n",
      "   - Assess dietary intake of iron.\n",
      "   - Determine menstrual history and any history of gastrointestinal bleeding or other sources of chronic blood loss.\n",
      "   - Inquire about any history of gastrointestinal symptoms, such as diarrhea or abdominal pain, which may suggest malabsorption.\n",
      "\n",
      "2. **Further Laboratory Tests**:\n",
      "   - **Complete Blood Count (CBC)**: To confirm anemia and assess red blood cell indices.\n",
      "   - **Iron Studies**: Serum iron, TIBC, transferrin saturation, and ferritin.\n",
      "   - **Stool Test for Occult Blood**: To rule out gastrointestinal bleeding.\n",
      "   - **Hemoglobin Electrophoresis**: To evaluate for thalassemia if there is a suspicion based on family history or ethnicity.\n",
      "   - **Colonoscopy or Endoscopy**: If gastrointestinal bleeding is suspected.\n",
      "\n",
      "3. **Imaging Studies**:\n",
      "   - **Upper and Lower Endoscopy**: To identify sources of blood loss in the gastrointestinal tract.\n",
      "   - **Ultrasound or CT Scan**: To evaluate for other causes of anemia, such as tumors or other lesions.\n",
      "\n",
      "4. **Treatment**:\n",
      "   - **Oral Iron Supplementation**: If iron deficiency anemia is confirmed, start oral iron supplementation (e.g., ferrous sulfate).\n",
      "   - **Dietary Modifications**: Encourage a diet rich in iron, including red meat, poultry, fish, beans, and dark leafy vegetables.\n",
      "   - **Follow-Up**: Regular follow-up to monitor hemoglobin levels and iron stores, adjusting treatment as needed.\n",
      "\n",
      "5. **Referral**:\n",
      "   - **Gastroenterology**: If gastrointestinal bleeding is suspected.\n",
      "   - **Hematology**: If thalassemia or other hematologic disorders are suspected.\n",
      "\n",
      "By following these steps, you can accurately diagnose the underlying cause of the patient's anemia and implement appropriate treatment and management strategies.\n"
     ]
    }
   ],
   "source": [
    "import boto3\n",
    "import json\n",
    "\n",
    "# Initialize Bedrock client\n",
    "bedrock = boto3.client('bedrock-runtime', region_name='us-west-2')\n",
    "\n",
    "# Basic text generation\n",
    "def generate_text(prompt, model_id=\"arn:aws:sagemaker:us-west-2:459006231907:endpoint/endpoint-quick-start-o9v2c\"):\n",
    "  response = bedrock.converse(\n",
    "      modelId=model_id,\n",
    "      messages=[\n",
    "          {\n",
    "              \"role\": \"user\",\n",
    "              \"content\": [{\"text\": prompt}]\n",
    "          }\n",
    "      ],\n",
    "      inferenceConfig={\n",
    "          \"maxTokens\": 1000,\n",
    "          \"temperature\": 0.7,\n",
    "          \"topP\": 0.9\n",
    "      }\n",
    "  )\n",
    "\n",
    "  return response['output']['message']['content'][0]['text']\n",
    "\n",
    "# Example usage\n",
    "prompt = \"\"\"A 32-year-old female presents with fatigue, pallor, and pica. \n",
    "Blood tests show a low mean corpuscular volume (MCV) and low ferritin levels. \n",
    "What are the potential diagnoses and next steps?\n",
    "\"\"\"\n",
    "result = generate_text(prompt)\n",
    "print(result)"
   ]
  },
  {
   "cell_type": "code",
   "execution_count": null,
   "id": "8fec9fd1-ec63-4eeb-803e-9f8af4e530b4",
   "metadata": {},
   "outputs": [],
   "source": [
    "### Fine-tuned model from Bedrock CMI\n",
    "\n",
    "TODO"
   ]
  },
  {
   "cell_type": "markdown",
   "id": "cb51019a-8e3e-444d-a247-1fc79e4dc805",
   "metadata": {},
   "source": [
    "## 🎉 Workshop Complete!\n",
    "\n",
    "You've successfully learned how to:\n",
    "\n",
    "### ✅ What You've Accomplished:\n",
    "1. **Set up** QLoRA fine-tuning environment\n",
    "2. **Loaded** and preprocessed medical training data\n",
    "3. **Configured** Mistral Small 24B with 4-bit quantization\n",
    "4. **Applied** LoRA adapters for efficient training\n",
    "5. **Understood** model preparation for Bedrock deployment\n",
    "\n",
    "### 🚀 Next Steps:\n",
    "- **Run the training**: Uncomment `trainer.train()` to start fine-tuning\n",
    "- **Test your model**: Compare base vs fine-tuned performance\n",
    "- **Deploy to Bedrock**: Use Custom Model Import for production\n",
    "\n",
    "### 📚 Additional Resources:\n",
    "- [Amazon Bedrock Custom Model Import](https://docs.aws.amazon.com/bedrock/latest/userguide/model-customization-import-model.html)\n",
    "- [PEFT LoRA Documentation](https://huggingface.co/docs/peft/main/en/conceptual_guides/lora)\n",
    "- [Mistral AI Documentation](https://docs.mistral.ai/)"
   ]
  },
  {
   "cell_type": "code",
   "execution_count": null,
   "id": "c8144513-e6f9-419d-ad76-69cd2d0e9a87",
   "metadata": {},
   "outputs": [],
   "source": []
  }
 ],
 "metadata": {
  "kernelspec": {
   "display_name": "Python 3 (ipykernel)",
   "language": "python",
   "name": "python3"
  },
  "language_info": {
   "codemirror_mode": {
    "name": "ipython",
    "version": 3
   },
   "file_extension": ".py",
   "mimetype": "text/x-python",
   "name": "python",
   "nbconvert_exporter": "python",
   "pygments_lexer": "ipython3",
   "version": "3.12.9"
  }
 },
 "nbformat": 4,
 "nbformat_minor": 5
}
