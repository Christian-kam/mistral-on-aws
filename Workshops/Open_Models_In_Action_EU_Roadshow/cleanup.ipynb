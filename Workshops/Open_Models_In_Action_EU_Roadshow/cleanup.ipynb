{
 "cells": [
  {
   "cell_type": "markdown",
   "metadata": {},
   "source": [
    "# 🧹 Workshop Cleanup - Resource Deletion\n",
    "\n",
    "**IMPORTANT**: Run this notebook after completing all workshop sessions to avoid ongoing charges.\n",
    "\n",
    "This notebook will help you clean up all AWS resources created during the Mistral AI Workshop:\n",
    "\n",
    "1. **Delete Mistral Small 3 Bedrock Marketplace Endpoint**\n",
    "2. **Delete Mistral OCR SageMaker Endpoint** \n",
    "3. **Manual cleanup instructions** for SageMaker Studio and CloudFormation stack"
   ]
  },
  {
   "cell_type": "markdown",
   "metadata": {},
   "source": [
    "## Step 1: Import Required Libraries"
   ]
  },
  {
   "cell_type": "code",
   "execution_count": 1,
   "metadata": {
    "execution": {
     "iopub.execute_input": "2025-06-18T13:03:56.621958Z",
     "iopub.status.busy": "2025-06-18T13:03:56.621452Z",
     "iopub.status.idle": "2025-06-18T13:03:56.855142Z",
     "shell.execute_reply": "2025-06-18T13:03:56.854574Z",
     "shell.execute_reply.started": "2025-06-18T13:03:56.621940Z"
    }
   },
   "outputs": [
    {
     "name": "stdout",
     "output_type": "stream",
     "text": [
      "✅ AWS clients initialized\n",
      "🌍 Region: us-west-2\n"
     ]
    }
   ],
   "source": [
    "import boto3\n",
    "import time\n",
    "from botocore.exceptions import ClientError\n",
    "\n",
    "# Initialize AWS clients\n",
    "bedrock_client = boto3.client('bedrock', region_name='us-west-2')\n",
    "sagemaker_client = boto3.client('sagemaker', region_name='us-west-2')\n",
    "\n",
    "print(\"✅ AWS clients initialized\")\n",
    "print(f\"🌍 Region: us-west-2\")"
   ]
  },
  {
   "cell_type": "markdown",
   "metadata": {},
   "source": [
    "## Step 2: List and Delete Bedrock Marketplace Endpoints\n",
    "\n",
    "This will find and delete Mistral Small 3 endpoints created through Bedrock Marketplace."
   ]
  },
  {
   "cell_type": "code",
   "execution_count": 2,
   "metadata": {
    "execution": {
     "iopub.execute_input": "2025-06-18T13:04:02.169816Z",
     "iopub.status.busy": "2025-06-18T13:04:02.169364Z",
     "iopub.status.idle": "2025-06-18T13:04:02.245783Z",
     "shell.execute_reply": "2025-06-18T13:04:02.245202Z",
     "shell.execute_reply.started": "2025-06-18T13:04:02.169798Z"
    }
   },
   "outputs": [
    {
     "name": "stdout",
     "output_type": "stream",
     "text": [
      "📋 Found 1 Bedrock marketplace endpoint(s):\n",
      "     ARN: arn:aws:sagemaker:us-west-2:459006231907:endpoint/endpoint-quick-start-vb47a\n",
      "   • REGISTERED\n"
     ]
    }
   ],
   "source": [
    "def list_bedrock_marketplace_endpoints():\n",
    "    \"\"\"List all Bedrock marketplace endpoints\"\"\"\n",
    "    try:\n",
    "        response = bedrock_client.list_marketplace_model_endpoints()\n",
    "        endpoints = response.get('marketplaceModelEndpoints', [])\n",
    "        \n",
    "        if not endpoints:\n",
    "            print(\"ℹ️ No Bedrock marketplace endpoints found\")\n",
    "            return []\n",
    "        \n",
    "        print(f\"📋 Found {len(endpoints)} Bedrock marketplace endpoint(s):\")\n",
    "        for endpoint in endpoints:\n",
    "            arn = endpoint['endpointArn']\n",
    "            status = endpoint['status']\n",
    "            print(f\"     ARN: {arn}\")\n",
    "            print(f\"   • {status}\")\n",
    "        \n",
    "        return endpoints\n",
    "    \n",
    "    except ClientError as e:\n",
    "        print(f\"❌ Error listing Bedrock endpoints: {e}\")\n",
    "        return []\n",
    "\n",
    "# List all Bedrock marketplace endpoints\n",
    "bedrock_endpoints = list_bedrock_marketplace_endpoints()"
   ]
  },
  {
   "cell_type": "code",
   "execution_count": 3,
   "metadata": {
    "execution": {
     "iopub.execute_input": "2025-06-18T13:04:09.350907Z",
     "iopub.status.busy": "2025-06-18T13:04:09.350497Z",
     "iopub.status.idle": "2025-06-18T13:04:09.354590Z",
     "shell.execute_reply": "2025-06-18T13:04:09.353970Z",
     "shell.execute_reply.started": "2025-06-18T13:04:09.350890Z"
    }
   },
   "outputs": [],
   "source": [
    "def delete_bedrock_marketplace_endpoint(endpoint_arn):\n",
    "    \"\"\"Delete a specific Bedrock marketplace endpoint\"\"\"\n",
    "    try:\n",
    "        print(f\"🗑️ Deleting Bedrock endpoint: {endpoint_arn}\")\n",
    "        \n",
    "        response = bedrock_client.delete_marketplace_model_endpoint(\n",
    "            endpointArn=endpoint_arn\n",
    "        )\n",
    "        \n",
    "        print(f\"✅ Deletion initiated for: {endpoint_arn}\")\n",
    "        print(f\"   Status will change to 'Deleting' then 'Deleted'\")\n",
    "        \n",
    "        return True\n",
    "        \n",
    "    except ClientError as e:\n",
    "        error_code = e.response['Error']['Code']\n",
    "        if error_code == 'ResourceNotFoundException':\n",
    "            print(f\"ℹ️ Endpoint {endpoint_arn} not found (may already be deleted)\")\n",
    "        else:\n",
    "            print(f\"❌ Error deleting endpoint {endpoint_arn}: {e}\")\n",
    "        return False"
   ]
  },
  {
   "cell_type": "code",
   "execution_count": 4,
   "metadata": {
    "execution": {
     "iopub.execute_input": "2025-06-18T13:04:22.108563Z",
     "iopub.status.busy": "2025-06-18T13:04:22.108195Z",
     "iopub.status.idle": "2025-06-18T13:04:22.377462Z",
     "shell.execute_reply": "2025-06-18T13:04:22.377028Z",
     "shell.execute_reply.started": "2025-06-18T13:04:22.108546Z"
    }
   },
   "outputs": [
    {
     "name": "stdout",
     "output_type": "stream",
     "text": [
      "🗑️ Deleting Bedrock endpoint: arn:aws:sagemaker:us-west-2:459006231907:endpoint/endpoint-quick-start-vb47a\n",
      "✅ Deletion initiated for: arn:aws:sagemaker:us-west-2:459006231907:endpoint/endpoint-quick-start-vb47a\n",
      "   Status will change to 'Deleting' then 'Deleted'\n"
     ]
    },
    {
     "data": {
      "text/plain": [
       "True"
      ]
     },
     "execution_count": 4,
     "metadata": {},
     "output_type": "execute_result"
    }
   ],
   "source": [
    "# Delete endpoint from the list \n",
    "endpoint_arn = \"arn:aws:sagemaker:us-west-2:459006231907:endpoint/endpoint-quick-start-vb47a\"\n",
    "\n",
    "delete_bedrock_marketplace_endpoint(endpoint_arn)"
   ]
  },
  {
   "cell_type": "markdown",
   "metadata": {},
   "source": [
    "## Step 3: List and Delete SageMaker Endpoints\n",
    "\n",
    "This will find and delete Mistral OCR endpoints and any other SageMaker endpoints created during the workshop."
   ]
  },
  {
   "cell_type": "code",
   "execution_count": 5,
   "metadata": {
    "execution": {
     "iopub.execute_input": "2025-06-18T13:04:29.656267Z",
     "iopub.status.busy": "2025-06-18T13:04:29.655759Z",
     "iopub.status.idle": "2025-06-18T13:04:29.736841Z",
     "shell.execute_reply": "2025-06-18T13:04:29.736338Z",
     "shell.execute_reply.started": "2025-06-18T13:04:29.656250Z"
    }
   },
   "outputs": [
    {
     "name": "stdout",
     "output_type": "stream",
     "text": [
      "📋 Found 1 SageMaker endpoint(s):\n",
      "{'EndpointName': 'mistral-ocr-endpoint', 'EndpointArn': 'arn:aws:sagemaker:us-west-2:459006231907:endpoint/mistral-ocr-endpoint', 'CreationTime': datetime.datetime(2025, 6, 18, 10, 30, 32, 546000, tzinfo=tzlocal()), 'LastModifiedTime': datetime.datetime(2025, 6, 18, 10, 36, 28, 994000, tzinfo=tzlocal()), 'EndpointStatus': 'InService'}\n",
      "   • mistral-ocr-endpoint (InService)\n",
      "     Instance: Unknown | Created: 2025-06-18 10:30:32.546000+00:00\n"
     ]
    }
   ],
   "source": [
    "def list_sagemaker_endpoints():\n",
    "    \"\"\"List all SageMaker endpoints\"\"\"\n",
    "    try:\n",
    "        response = sagemaker_client.list_endpoints()\n",
    "        endpoints = response.get('Endpoints', [])\n",
    "    \n",
    "        if not endpoints:\n",
    "            print(\"ℹ️ No SageMaker endpoints found\")\n",
    "            return []\n",
    "        \n",
    "        print(f\"📋 Found {len(endpoints)} SageMaker endpoint(s):\")\n",
    "        for endpoint in endpoints:\n",
    "            print(endpoint)\n",
    "            name = endpoint['EndpointName']\n",
    "            status = endpoint['EndpointStatus']\n",
    "            instance_type = endpoint.get('InstanceType', 'Unknown')\n",
    "            creation_time = endpoint['CreationTime']\n",
    "            print(f\"   • {name} ({status})\")\n",
    "            print(f\"     Instance: {instance_type} | Created: {creation_time}\")\n",
    "        \n",
    "        return endpoints\n",
    "    \n",
    "    except ClientError as e:\n",
    "        print(f\"❌ Error listing SageMaker endpoints: {e}\")\n",
    "        return []\n",
    "\n",
    "# List all SageMaker endpoints\n",
    "sagemaker_endpoints = list_sagemaker_endpoints()"
   ]
  },
  {
   "cell_type": "code",
   "execution_count": 6,
   "metadata": {
    "execution": {
     "iopub.execute_input": "2025-06-18T13:04:41.761933Z",
     "iopub.status.busy": "2025-06-18T13:04:41.761591Z",
     "iopub.status.idle": "2025-06-18T13:04:41.765808Z",
     "shell.execute_reply": "2025-06-18T13:04:41.765435Z",
     "shell.execute_reply.started": "2025-06-18T13:04:41.761917Z"
    }
   },
   "outputs": [],
   "source": [
    "def delete_sagemaker_endpoint(endpoint_name):\n",
    "    \"\"\"Delete a SageMaker endpoint and its configuration\"\"\"\n",
    "    try:\n",
    "        print(f\"🗑️ Deleting SageMaker endpoint: {endpoint_name}\")\n",
    "        \n",
    "        # Get endpoint configuration name\n",
    "        endpoint_desc = sagemaker_client.describe_endpoint(EndpointName=endpoint_name)\n",
    "        config_name = endpoint_desc['EndpointConfigName']\n",
    "        \n",
    "        # Delete endpoint\n",
    "        sagemaker_client.delete_endpoint(EndpointName=endpoint_name)\n",
    "        print(f\"✅ Endpoint deletion initiated: {endpoint_name}\")\n",
    "        \n",
    "        # Delete endpoint configuration\n",
    "        try:\n",
    "            sagemaker_client.delete_endpoint_config(EndpointConfigName=config_name)\n",
    "            print(f\"✅ Endpoint config deleted: {config_name}\")\n",
    "        except ClientError as config_error:\n",
    "            print(f\"⚠️ Could not delete endpoint config {config_name}: {config_error}\")\n",
    "        \n",
    "        return True\n",
    "        \n",
    "    except ClientError as e:\n",
    "        error_code = e.response['Error']['Code']\n",
    "        if error_code == 'ValidationException':\n",
    "            print(f\"ℹ️ Endpoint {endpoint_name} not found (may already be deleted)\")\n",
    "        else:\n",
    "            print(f\"❌ Error deleting endpoint {endpoint_name}: {e}\")\n",
    "        return False\n"
   ]
  },
  {
   "cell_type": "code",
   "execution_count": 7,
   "metadata": {
    "execution": {
     "iopub.execute_input": "2025-06-18T13:04:46.591427Z",
     "iopub.status.busy": "2025-06-18T13:04:46.591018Z",
     "iopub.status.idle": "2025-06-18T13:04:46.906860Z",
     "shell.execute_reply": "2025-06-18T13:04:46.906409Z",
     "shell.execute_reply.started": "2025-06-18T13:04:46.591410Z"
    }
   },
   "outputs": [
    {
     "name": "stdout",
     "output_type": "stream",
     "text": [
      "🗑️ Deleting SageMaker endpoint: mistral-ocr-endpoint\n",
      "✅ Endpoint deletion initiated: mistral-ocr-endpoint\n",
      "✅ Endpoint config deleted: endpointConfig-1750242612187\n"
     ]
    },
    {
     "data": {
      "text/plain": [
       "True"
      ]
     },
     "execution_count": 7,
     "metadata": {},
     "output_type": "execute_result"
    }
   ],
   "source": [
    "# Delete SageMaker endpoint that created in the Workshop\n",
    "endpoint_name = \"mistral-ocr-endpoint\"\n",
    "delete_sagemaker_endpoint(endpoint_name)"
   ]
  },
  {
   "cell_type": "markdown",
   "metadata": {},
   "source": [
    "## Step 5: Manual Cleanup Instructions\n",
    "\n",
    "⚠️ **IMPORTANT**: Complete these final steps manually to fully clean up your workshop environment.\n",
    "\n",
    "### 4.1 Delete SageMaker Studio Space\n",
    "\n",
    "1. **Go to SageMaker Console**:\n",
    "   - Navigate to [SageMaker Console](https://us-west-2.console.aws.amazon.com/sagemaker/home?region=us-west-2#/studio) in us-west-2\n",
    "   - Click on **\"Studio\"** in the left sidebar\n",
    "\n",
    "2. **Access Space Management**:\n",
    "   - Click on your Domain name\n",
    "   - Go to **\"Space management\"** tab\n",
    "   - Find your workshop space (usually named after your user)\n",
    "\n",
    "3. **Delete the Space**:\n",
    "   - Select your space\n",
    "   - Click **\"Delete\"**\n",
    "   - Confirm deletion\n",
    "   - Wait for deletion to complete (may take 5-10 minutes)\n",
    "\n",
    "### 4.2 Delete CloudFormation Stack\n",
    "\n",
    "1. **Go to CloudFormation Console**:\n",
    "   - Navigate to [CloudFormation Console](https://us-west-2.console.aws.amazon.com/cloudformation/home?region=us-west-2#/stacks) in us-west-2\n",
    "\n",
    "2. **Find Workshop Stack**:\n",
    "   - Look for stack named similar to:\n",
    "     - `mistral-workshop-*`\n",
    "\n",
    "3. **Delete the Stack**:\n",
    "   - Select the workshop stack\n",
    "   - Click **\"Delete\"**\n",
    "   - Confirm deletion\n",
    "   - **Wait for completion**\n",
    "\n",
    "------\n",
    "\n",
    "## 🎉 Workshop Complete!\n",
    "\n",
    "Thank you for participating in the Mistral AI Workshop! \n",
    "\n",
    "**Remember**: Always clean up cloud resources after workshops to avoid unexpected charges! 💸"
   ]
  }
 ],
 "metadata": {
  "kernelspec": {
   "display_name": "Python 3 (ipykernel)",
   "language": "python",
   "name": "python3"
  },
  "language_info": {
   "codemirror_mode": {
    "name": "ipython",
    "version": 3
   },
   "file_extension": ".py",
   "mimetype": "text/x-python",
   "name": "python",
   "nbconvert_exporter": "python",
   "pygments_lexer": "ipython3",
   "version": "3.12.9"
  }
 },
 "nbformat": 4,
 "nbformat_minor": 4
}
