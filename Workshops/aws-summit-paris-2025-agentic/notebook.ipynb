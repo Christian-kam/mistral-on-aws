{
 "cells": [
  {
   "cell_type": "code",
   "execution_count": 1,
   "id": "87022b08",
   "metadata": {},
   "outputs": [
    {
     "name": "stdout",
     "output_type": "stream",
     "text": [
      "mistral.mistral-large-2407-v1:0\n",
      "\n",
      "Tu es un assistant serviable et informel. Ton role est de guider l'utilisateur\n",
      "dans sa découverte de la ville de Paris. Réponds toujours aux questions en Français.\n",
      "\n"
     ]
    }
   ],
   "source": [
    "from aws_llm import Agent, tools_demo\n",
    "\n",
    "demo_agent = Agent()\n",
    "print(demo_agent.model_id)\n",
    "print(demo_agent.system_message_content)"
   ]
  },
  {
   "cell_type": "code",
   "execution_count": 2,
   "id": "58ab051c",
   "metadata": {},
   "outputs": [
    {
     "name": "stdout",
     "output_type": "stream",
     "text": [
      "Tu es devant le Palais des Congrès à Paris. C'est un lieu célèbre pour ses grandes conférences, expositions et événements. L'architecture moderne et les grands panneaux publicitaires te donnent une idée des nombreux événements qui s'y déroulent.\n"
     ]
    }
   ],
   "source": [
    "demo_agent.ask(\n",
    "    \"Ou suis-je en ce moment? Indice: c'est à Paris dans un lieu habitué aux grandes conférences.\",\n",
    "    image_paths=[\"assets/event_venue.jpeg\"],\n",
    ")"
   ]
  },
  {
   "cell_type": "code",
   "execution_count": 3,
   "id": "50444759",
   "metadata": {},
   "outputs": [
    {
     "name": "stdout",
     "output_type": "stream",
     "text": [
      "Il fait 22.7°C et il y a un ciel partiellement ensoleillé au Palais des Congrès de Paris en ce moment.\n"
     ]
    }
   ],
   "source": [
    "demo_agent = Agent()\n",
    "demo_agent.tools = tools_demo\n",
    "demo_agent.ask(\"Quel temps fait-il au Palais des Congrès de Paris en ce moment?\")"
   ]
  },
  {
   "cell_type": "code",
   "execution_count": 4,
   "id": "e38faee2",
   "metadata": {},
   "outputs": [
    {
     "name": "stdout",
     "output_type": "stream",
     "text": [
      "La station Velib la plus proche est Porte Maillot - Perreire, située à environ 158 mètres du Palais des Congrès de Paris.\n"
     ]
    }
   ],
   "source": [
    "demo_agent.ask(\"Quelle est la station Velib la plus proche de cet endroit ?\")"
   ]
  },
  {
   "cell_type": "code",
   "execution_count": 5,
   "id": "14b7b7d5",
   "metadata": {},
   "outputs": [
    {
     "name": "stdout",
     "output_type": "stream",
     "text": [
      "Il reste 13 vélos disponibles à la station Porte Maillot - Perreire.\n"
     ]
    }
   ],
   "source": [
    "demo_agent.ask(\"Combien de vélos y reste-t-il ?\")"
   ]
  },
  {
   "cell_type": "code",
   "execution_count": 6,
   "id": "51920b6b",
   "metadata": {},
   "outputs": [
    {
     "name": "stdout",
     "output_type": "stream",
     "text": [
      "Pour aller de Porte Maillot - Perreire à la Gare de Lyon, suivez ces indications :\n",
      "\n",
      "1. Prendre la direction nord-est sur Bd Pereire vers Pl. du Maréchal Juin (17 m)\n",
      "2. Au Pl. du Maréchal Juin, prendre la 3e sortie sur Av. de Villiers (1028 m)\n",
      "3. Prendre légèrement à droite sur Bd Malesherbes (1744 m)\n",
      "4. Continuer tout droit sur Pl. de la Madeleine (63 m)\n",
      "5. Tourner à gauche pour rester sur Pl. de la Madeleine (99 m)\n",
      "6. Prendre à droite sur Rue Duphot (47 m)\n",
      "7. Prendre à droite sur Rue du Chevalier de Saint-George (129 m)\n",
      "8. Continuer sur Rue Saint-Florentin (187 m)\n",
      "9. Prendre à droite sur Rue de Rivoli (19 m)\n",
      "10. Prendre à gauche sur Pl. de la Concorde (33 m)\n",
      "11. Rester sur la voie de gauche pour continuer sur Pl. de la Concorde (270 m)\n",
      "12. Tourner à gauche (28 m)\n",
      "13. Tourner à gauche (313 m)\n",
      "14. Continuer sur Voie Georges Pompidou (2053 m)\n",
      "15. Tourner légèrement à droite pour continuer sur Voie Georges Pompidou (1433 m)\n",
      "16. Tourner légèrement à droite (512 m)\n",
      "17. Prendre légèrement à droite sur Port de la Rapée (477 m)\n",
      "18. Prendre à gauche sur Rue Villiot (294 m)\n",
      "19. Tourner à gauche vers All. de Bercy (62 m)\n",
      "20. Continuer sur All. de Bercy\n",
      "\n",
      "Votre destination se trouvera sur la droite. (247 m)\n",
      "\n",
      "La distance totale est de 9.05 km et le trajet dure environ 30 minutes.\n"
     ]
    }
   ],
   "source": [
    "demo_agent.ask(\n",
    "    \"Peux-tu me tracer l'itinéraire pour aller de cette station à la Gare de Lyon ?\"\n",
    ")"
   ]
  },
  {
   "cell_type": "code",
   "execution_count": null,
   "id": "31c79046",
   "metadata": {},
   "outputs": [],
   "source": []
  }
 ],
 "metadata": {
  "kernelspec": {
   "display_name": "Python 3 (ipykernel)",
   "language": "python",
   "name": "python3"
  }
 },
 "nbformat": 4,
 "nbformat_minor": 5
}
